{
 "cells": [
  {
   "cell_type": "markdown",
   "id": "25a32997",
   "metadata": {},
   "source": [
    "## The purpose of this project is to develop a model to predict credit card fraud using Machine Learning.\n"
   ]
  },
  {
   "cell_type": "markdown",
   "id": "d7fea307",
   "metadata": {},
   "source": [
    "The data is obtained from Kaggle and here are Feature Explanation (critical features for a fraudulent transaction):\n",
    "\n",
    "    distancefromhome - the distance from home where the transaction happened.\n",
    "\n",
    "    distancefromlast_transaction - the distance from last transaction happened.\n",
    "\n",
    "    ratiotomedianpurchaseprice - Ratio of purchased price transaction to median purchase price.\n",
    "\n",
    "    repeat_retailer - Is the transaction happened from same retailer.\n",
    "\n",
    "    used_chip - Is the transaction through chip (credit card).\n",
    "\n",
    "    usedpinnumber - Is the transaction happened by using PIN number.\n",
    "\n",
    "    online_order - Is the transaction an online order.\n",
    "\n",
    "    fraud - Is the transaction fraudulent.\n",
    "    \n",
    " "
   ]
  },
  {
   "cell_type": "markdown",
   "id": "e9837cca",
   "metadata": {},
   "source": [
    "**fraudulent transactions are imbalanced and we may have \"Accuracy Paradox\", where our accuracy measures tell the story that we have excellent accuracy (such as 90%), but the accuracy is only reflecting the underlying class distribution.**"
   ]
  },
  {
   "cell_type": "markdown",
   "id": "37ffbff0",
   "metadata": {},
   "source": [
    "###### Import libraries "
   ]
  },
  {
   "cell_type": "code",
   "execution_count": 1,
   "id": "bac96810",
   "metadata": {},
   "outputs": [],
   "source": [
    "import os\n",
    "import numpy as np \n",
    "import pandas as pd \n",
    "import matplotlib.pyplot as plt \n",
    "import seaborn as sns # \n",
    "import statsmodels.api as sm \n",
    "from statsmodels.graphics.api import abline_plot \n",
    "from sklearn import linear_model, preprocessing \n",
    "import pickle\n",
    "from sklearn import __version__ as sklearn_version\n",
    "from sklearn.decomposition import PCA\n",
    "from sklearn.preprocessing import scale\n",
    "from sklearn.model_selection import train_test_split, cross_validate, GridSearchCV, learning_curve\n",
    "from sklearn.preprocessing import StandardScaler, MinMaxScaler\n",
    "from sklearn.pipeline import make_pipeline\n",
    "from sklearn.impute import SimpleImputer\n",
    "from sklearn.feature_selection import SelectKBest, f_regression\n",
    "import datetime\n",
    "import warnings # For handling error messages.\n",
    "warnings.simplefilter(action=\"ignore\", category=FutureWarning)\n",
    "warnings.filterwarnings(action=\"ignore\", module=\"scipy\", message=\"^internal gelsd\")"
   ]
  },
  {
   "cell_type": "markdown",
   "id": "04c4ace1",
   "metadata": {},
   "source": [
    "##### Load data and take a look "
   ]
  },
  {
   "cell_type": "code",
   "execution_count": 2,
   "id": "7bf8e424",
   "metadata": {},
   "outputs": [],
   "source": [
    "path = 'C:/Users/msale/Documents/Springboard Data Science Track_Jan 2022/Capstone-Three-Final-Project/raw_data/card_transdata.csv'\n",
    "data = pd.read_csv(path)"
   ]
  },
  {
   "cell_type": "code",
   "execution_count": 16,
   "id": "acea83d0",
   "metadata": {},
   "outputs": [
    {
     "data": {
      "text/html": [
       "<div>\n",
       "<style scoped>\n",
       "    .dataframe tbody tr th:only-of-type {\n",
       "        vertical-align: middle;\n",
       "    }\n",
       "\n",
       "    .dataframe tbody tr th {\n",
       "        vertical-align: top;\n",
       "    }\n",
       "\n",
       "    .dataframe thead th {\n",
       "        text-align: right;\n",
       "    }\n",
       "</style>\n",
       "<table border=\"1\" class=\"dataframe\">\n",
       "  <thead>\n",
       "    <tr style=\"text-align: right;\">\n",
       "      <th></th>\n",
       "      <th>distance_from_home</th>\n",
       "      <th>distance_from_last_transaction</th>\n",
       "      <th>ratio_to_median_purchase_price</th>\n",
       "      <th>repeat_retailer</th>\n",
       "      <th>used_chip</th>\n",
       "      <th>used_pin_number</th>\n",
       "      <th>online_order</th>\n",
       "      <th>fraud</th>\n",
       "    </tr>\n",
       "  </thead>\n",
       "  <tbody>\n",
       "    <tr>\n",
       "      <th>count</th>\n",
       "      <td>1000000.000000</td>\n",
       "      <td>1000000.000000</td>\n",
       "      <td>1000000.000000</td>\n",
       "      <td>1000000.000000</td>\n",
       "      <td>1000000.000000</td>\n",
       "      <td>1000000.000000</td>\n",
       "      <td>1000000.000000</td>\n",
       "      <td>1000000.000000</td>\n",
       "    </tr>\n",
       "    <tr>\n",
       "      <th>mean</th>\n",
       "      <td>26.628792</td>\n",
       "      <td>5.036519</td>\n",
       "      <td>1.824182</td>\n",
       "      <td>0.881536</td>\n",
       "      <td>0.350399</td>\n",
       "      <td>0.100608</td>\n",
       "      <td>0.650552</td>\n",
       "      <td>0.087403</td>\n",
       "    </tr>\n",
       "    <tr>\n",
       "      <th>std</th>\n",
       "      <td>65.390784</td>\n",
       "      <td>25.843093</td>\n",
       "      <td>2.799589</td>\n",
       "      <td>0.323157</td>\n",
       "      <td>0.477095</td>\n",
       "      <td>0.300809</td>\n",
       "      <td>0.476796</td>\n",
       "      <td>0.282425</td>\n",
       "    </tr>\n",
       "    <tr>\n",
       "      <th>min</th>\n",
       "      <td>0.004874</td>\n",
       "      <td>0.000118</td>\n",
       "      <td>0.004399</td>\n",
       "      <td>0.000000</td>\n",
       "      <td>0.000000</td>\n",
       "      <td>0.000000</td>\n",
       "      <td>0.000000</td>\n",
       "      <td>0.000000</td>\n",
       "    </tr>\n",
       "    <tr>\n",
       "      <th>25%</th>\n",
       "      <td>3.878008</td>\n",
       "      <td>0.296671</td>\n",
       "      <td>0.475673</td>\n",
       "      <td>1.000000</td>\n",
       "      <td>0.000000</td>\n",
       "      <td>0.000000</td>\n",
       "      <td>0.000000</td>\n",
       "      <td>0.000000</td>\n",
       "    </tr>\n",
       "    <tr>\n",
       "      <th>50%</th>\n",
       "      <td>9.967760</td>\n",
       "      <td>0.998650</td>\n",
       "      <td>0.997717</td>\n",
       "      <td>1.000000</td>\n",
       "      <td>0.000000</td>\n",
       "      <td>0.000000</td>\n",
       "      <td>1.000000</td>\n",
       "      <td>0.000000</td>\n",
       "    </tr>\n",
       "    <tr>\n",
       "      <th>75%</th>\n",
       "      <td>25.743985</td>\n",
       "      <td>3.355748</td>\n",
       "      <td>2.096370</td>\n",
       "      <td>1.000000</td>\n",
       "      <td>1.000000</td>\n",
       "      <td>0.000000</td>\n",
       "      <td>1.000000</td>\n",
       "      <td>0.000000</td>\n",
       "    </tr>\n",
       "    <tr>\n",
       "      <th>max</th>\n",
       "      <td>10632.723672</td>\n",
       "      <td>11851.104565</td>\n",
       "      <td>267.802942</td>\n",
       "      <td>1.000000</td>\n",
       "      <td>1.000000</td>\n",
       "      <td>1.000000</td>\n",
       "      <td>1.000000</td>\n",
       "      <td>1.000000</td>\n",
       "    </tr>\n",
       "  </tbody>\n",
       "</table>\n",
       "</div>"
      ],
      "text/plain": [
       "       distance_from_home  distance_from_last_transaction  \\\n",
       "count      1000000.000000                  1000000.000000   \n",
       "mean            26.628792                        5.036519   \n",
       "std             65.390784                       25.843093   \n",
       "min              0.004874                        0.000118   \n",
       "25%              3.878008                        0.296671   \n",
       "50%              9.967760                        0.998650   \n",
       "75%             25.743985                        3.355748   \n",
       "max          10632.723672                    11851.104565   \n",
       "\n",
       "       ratio_to_median_purchase_price  repeat_retailer       used_chip  \\\n",
       "count                  1000000.000000   1000000.000000  1000000.000000   \n",
       "mean                         1.824182         0.881536        0.350399   \n",
       "std                          2.799589         0.323157        0.477095   \n",
       "min                          0.004399         0.000000        0.000000   \n",
       "25%                          0.475673         1.000000        0.000000   \n",
       "50%                          0.997717         1.000000        0.000000   \n",
       "75%                          2.096370         1.000000        1.000000   \n",
       "max                        267.802942         1.000000        1.000000   \n",
       "\n",
       "       used_pin_number    online_order           fraud  \n",
       "count   1000000.000000  1000000.000000  1000000.000000  \n",
       "mean          0.100608        0.650552        0.087403  \n",
       "std           0.300809        0.476796        0.282425  \n",
       "min           0.000000        0.000000        0.000000  \n",
       "25%           0.000000        0.000000        0.000000  \n",
       "50%           0.000000        1.000000        0.000000  \n",
       "75%           0.000000        1.000000        0.000000  \n",
       "max           1.000000        1.000000        1.000000  "
      ]
     },
     "execution_count": 16,
     "metadata": {},
     "output_type": "execute_result"
    }
   ],
   "source": [
    "data.describe()"
   ]
  },
  {
   "cell_type": "code",
   "execution_count": 117,
   "id": "61d0c18f",
   "metadata": {},
   "outputs": [],
   "source": [
    "df = data # calling clean dataframe df"
   ]
  },
  {
   "cell_type": "markdown",
   "id": "f453bb8e",
   "metadata": {},
   "source": [
    "##### Define our X (features) and y (target variable)"
   ]
  },
  {
   "cell_type": "code",
   "execution_count": 23,
   "id": "3036265d",
   "metadata": {},
   "outputs": [],
   "source": [
    "y = df['fraud']  # target value \n",
    "X = df.drop(['fraud'], axis = 1) # features "
   ]
  },
  {
   "cell_type": "code",
   "execution_count": 24,
   "id": "4edcb247",
   "metadata": {},
   "outputs": [
    {
     "data": {
      "text/plain": [
       "0    0.0\n",
       "1    0.0\n",
       "2    0.0\n",
       "3    0.0\n",
       "4    0.0\n",
       "Name: fraud, dtype: float64"
      ]
     },
     "execution_count": 24,
     "metadata": {},
     "output_type": "execute_result"
    }
   ],
   "source": [
    "y.head()"
   ]
  },
  {
   "cell_type": "code",
   "execution_count": 25,
   "id": "cb91aa0e",
   "metadata": {},
   "outputs": [
    {
     "data": {
      "text/html": [
       "<div>\n",
       "<style scoped>\n",
       "    .dataframe tbody tr th:only-of-type {\n",
       "        vertical-align: middle;\n",
       "    }\n",
       "\n",
       "    .dataframe tbody tr th {\n",
       "        vertical-align: top;\n",
       "    }\n",
       "\n",
       "    .dataframe thead th {\n",
       "        text-align: right;\n",
       "    }\n",
       "</style>\n",
       "<table border=\"1\" class=\"dataframe\">\n",
       "  <thead>\n",
       "    <tr style=\"text-align: right;\">\n",
       "      <th></th>\n",
       "      <th>distance_from_home</th>\n",
       "      <th>distance_from_last_transaction</th>\n",
       "      <th>ratio_to_median_purchase_price</th>\n",
       "      <th>repeat_retailer</th>\n",
       "      <th>used_chip</th>\n",
       "      <th>used_pin_number</th>\n",
       "      <th>online_order</th>\n",
       "    </tr>\n",
       "  </thead>\n",
       "  <tbody>\n",
       "    <tr>\n",
       "      <th>0</th>\n",
       "      <td>57.877857</td>\n",
       "      <td>0.311140</td>\n",
       "      <td>1.945940</td>\n",
       "      <td>1.0</td>\n",
       "      <td>1.0</td>\n",
       "      <td>0.0</td>\n",
       "      <td>0.0</td>\n",
       "    </tr>\n",
       "    <tr>\n",
       "      <th>1</th>\n",
       "      <td>10.829943</td>\n",
       "      <td>0.175592</td>\n",
       "      <td>1.294219</td>\n",
       "      <td>1.0</td>\n",
       "      <td>0.0</td>\n",
       "      <td>0.0</td>\n",
       "      <td>0.0</td>\n",
       "    </tr>\n",
       "    <tr>\n",
       "      <th>2</th>\n",
       "      <td>5.091079</td>\n",
       "      <td>0.805153</td>\n",
       "      <td>0.427715</td>\n",
       "      <td>1.0</td>\n",
       "      <td>0.0</td>\n",
       "      <td>0.0</td>\n",
       "      <td>1.0</td>\n",
       "    </tr>\n",
       "    <tr>\n",
       "      <th>3</th>\n",
       "      <td>2.247564</td>\n",
       "      <td>5.600044</td>\n",
       "      <td>0.362663</td>\n",
       "      <td>1.0</td>\n",
       "      <td>1.0</td>\n",
       "      <td>0.0</td>\n",
       "      <td>1.0</td>\n",
       "    </tr>\n",
       "    <tr>\n",
       "      <th>4</th>\n",
       "      <td>44.190936</td>\n",
       "      <td>0.566486</td>\n",
       "      <td>2.222767</td>\n",
       "      <td>1.0</td>\n",
       "      <td>1.0</td>\n",
       "      <td>0.0</td>\n",
       "      <td>1.0</td>\n",
       "    </tr>\n",
       "  </tbody>\n",
       "</table>\n",
       "</div>"
      ],
      "text/plain": [
       "   distance_from_home  distance_from_last_transaction  \\\n",
       "0           57.877857                        0.311140   \n",
       "1           10.829943                        0.175592   \n",
       "2            5.091079                        0.805153   \n",
       "3            2.247564                        5.600044   \n",
       "4           44.190936                        0.566486   \n",
       "\n",
       "   ratio_to_median_purchase_price  repeat_retailer  used_chip  \\\n",
       "0                        1.945940              1.0        1.0   \n",
       "1                        1.294219              1.0        0.0   \n",
       "2                        0.427715              1.0        0.0   \n",
       "3                        0.362663              1.0        1.0   \n",
       "4                        2.222767              1.0        1.0   \n",
       "\n",
       "   used_pin_number  online_order  \n",
       "0              0.0           0.0  \n",
       "1              0.0           0.0  \n",
       "2              0.0           1.0  \n",
       "3              0.0           1.0  \n",
       "4              0.0           1.0  "
      ]
     },
     "execution_count": 25,
     "metadata": {},
     "output_type": "execute_result"
    }
   ],
   "source": [
    "X.head()"
   ]
  },
  {
   "cell_type": "markdown",
   "id": "44b17ca7",
   "metadata": {},
   "source": [
    "##### Train/Test Split (Creating a 75/25 train and test split)¶"
   ]
  },
  {
   "cell_type": "code",
   "execution_count": 32,
   "id": "6273bb8a",
   "metadata": {},
   "outputs": [],
   "source": [
    "X_train, X_test, y_train, y_test = train_test_split(X, y, test_size = 0.25, random_state = 40)"
   ]
  },
  {
   "cell_type": "code",
   "execution_count": 27,
   "id": "83fd76ba",
   "metadata": {},
   "outputs": [
    {
     "data": {
      "text/plain": [
       "(750000.0, 250000.0)"
      ]
     },
     "execution_count": 27,
     "metadata": {},
     "output_type": "execute_result"
    }
   ],
   "source": [
    "len(df) * .75, len(df) * .25"
   ]
  },
  {
   "cell_type": "code",
   "execution_count": 28,
   "id": "dc54f527",
   "metadata": {},
   "outputs": [
    {
     "data": {
      "text/plain": [
       "((750000, 7), (250000, 7))"
      ]
     },
     "execution_count": 28,
     "metadata": {},
     "output_type": "execute_result"
    }
   ],
   "source": [
    "X_train.shape, X_test.shape # X are all the features "
   ]
  },
  {
   "cell_type": "code",
   "execution_count": 29,
   "id": "f7cf8234",
   "metadata": {},
   "outputs": [
    {
     "data": {
      "text/plain": [
       "((750000,), (250000,))"
      ]
     },
     "execution_count": 29,
     "metadata": {},
     "output_type": "execute_result"
    }
   ],
   "source": [
    "y_train.shape, y_test.shape  # y is the fraud label"
   ]
  },
  {
   "cell_type": "markdown",
   "id": "ee55d2dd",
   "metadata": {},
   "source": [
    "##### we need both train and test sets to be numeric"
   ]
  },
  {
   "cell_type": "code",
   "execution_count": 30,
   "id": "d4a90457",
   "metadata": {},
   "outputs": [
    {
     "name": "stdout",
     "output_type": "stream",
     "text": [
      "<class 'pandas.core.frame.DataFrame'>\n",
      "Int64Index: 750000 entries, 573427 to 929094\n",
      "Data columns (total 7 columns):\n",
      " #   Column                          Non-Null Count   Dtype  \n",
      "---  ------                          --------------   -----  \n",
      " 0   distance_from_home              750000 non-null  float64\n",
      " 1   distance_from_last_transaction  750000 non-null  float64\n",
      " 2   ratio_to_median_purchase_price  750000 non-null  float64\n",
      " 3   repeat_retailer                 750000 non-null  float64\n",
      " 4   used_chip                       750000 non-null  float64\n",
      " 5   used_pin_number                 750000 non-null  float64\n",
      " 6   online_order                    750000 non-null  float64\n",
      "dtypes: float64(7)\n",
      "memory usage: 45.8 MB\n"
     ]
    }
   ],
   "source": [
    "X_train.info()"
   ]
  },
  {
   "cell_type": "code",
   "execution_count": 31,
   "id": "c7a4a180",
   "metadata": {},
   "outputs": [
    {
     "data": {
      "text/plain": [
       "dtype('float64')"
      ]
     },
     "execution_count": 31,
     "metadata": {},
     "output_type": "execute_result"
    }
   ],
   "source": [
    "y_train.dtypes"
   ]
  },
  {
   "cell_type": "markdown",
   "id": "19d44f89",
   "metadata": {},
   "source": [
    "#### Standarizing the features"
   ]
  },
  {
   "cell_type": "markdown",
   "id": "0d2a0213",
   "metadata": {},
   "source": [
    "###### Using Sklearn, standarizing the magnitude of the features by scaling the values.\n",
    "\n",
    "Note: We need to fit() our scaler on X_train and then use that fitted scaler to transform() X_test. This is to avoid data leakage while we standardize our data"
   ]
  },
  {
   "cell_type": "code",
   "execution_count": 33,
   "id": "0802caea",
   "metadata": {},
   "outputs": [],
   "source": [
    "scaler = StandardScaler()\n",
    "X_train_scaled = scaler.fit_transform(X_train)\n",
    "X_test_scaled = scaler.transform(X_test)"
   ]
  },
  {
   "cell_type": "markdown",
   "id": "c166389a",
   "metadata": {},
   "source": [
    "# Initial Models"
   ]
  },
  {
   "cell_type": "code",
   "execution_count": 36,
   "id": "0ef9ad10",
   "metadata": {},
   "outputs": [],
   "source": [
    "# Sklearn's metrics to evaluate our models\n",
    "from sklearn.metrics import accuracy_score, precision_score, confusion_matrix, recall_score, f1_score\n",
    "# Classifiers\n",
    "from sklearn.ensemble import RandomForestClassifier\n",
    "from sklearn.tree import DecisionTreeClassifier"
   ]
  },
  {
   "cell_type": "markdown",
   "id": "afb9d099",
   "metadata": {},
   "source": [
    "## 1) DecisionTreeClassifier Model"
   ]
  },
  {
   "cell_type": "code",
   "execution_count": 38,
   "id": "33dbbf67",
   "metadata": {},
   "outputs": [],
   "source": [
    "dt_clf = DecisionTreeClassifier(random_state= 20)"
   ]
  },
  {
   "cell_type": "code",
   "execution_count": 134,
   "id": "4abf60e7",
   "metadata": {},
   "outputs": [
    {
     "data": {
      "text/html": [
       "<style>#sk-container-id-5 {color: black;background-color: white;}#sk-container-id-5 pre{padding: 0;}#sk-container-id-5 div.sk-toggleable {background-color: white;}#sk-container-id-5 label.sk-toggleable__label {cursor: pointer;display: block;width: 100%;margin-bottom: 0;padding: 0.3em;box-sizing: border-box;text-align: center;}#sk-container-id-5 label.sk-toggleable__label-arrow:before {content: \"▸\";float: left;margin-right: 0.25em;color: #696969;}#sk-container-id-5 label.sk-toggleable__label-arrow:hover:before {color: black;}#sk-container-id-5 div.sk-estimator:hover label.sk-toggleable__label-arrow:before {color: black;}#sk-container-id-5 div.sk-toggleable__content {max-height: 0;max-width: 0;overflow: hidden;text-align: left;background-color: #f0f8ff;}#sk-container-id-5 div.sk-toggleable__content pre {margin: 0.2em;color: black;border-radius: 0.25em;background-color: #f0f8ff;}#sk-container-id-5 input.sk-toggleable__control:checked~div.sk-toggleable__content {max-height: 200px;max-width: 100%;overflow: auto;}#sk-container-id-5 input.sk-toggleable__control:checked~label.sk-toggleable__label-arrow:before {content: \"▾\";}#sk-container-id-5 div.sk-estimator input.sk-toggleable__control:checked~label.sk-toggleable__label {background-color: #d4ebff;}#sk-container-id-5 div.sk-label input.sk-toggleable__control:checked~label.sk-toggleable__label {background-color: #d4ebff;}#sk-container-id-5 input.sk-hidden--visually {border: 0;clip: rect(1px 1px 1px 1px);clip: rect(1px, 1px, 1px, 1px);height: 1px;margin: -1px;overflow: hidden;padding: 0;position: absolute;width: 1px;}#sk-container-id-5 div.sk-estimator {font-family: monospace;background-color: #f0f8ff;border: 1px dotted black;border-radius: 0.25em;box-sizing: border-box;margin-bottom: 0.5em;}#sk-container-id-5 div.sk-estimator:hover {background-color: #d4ebff;}#sk-container-id-5 div.sk-parallel-item::after {content: \"\";width: 100%;border-bottom: 1px solid gray;flex-grow: 1;}#sk-container-id-5 div.sk-label:hover label.sk-toggleable__label {background-color: #d4ebff;}#sk-container-id-5 div.sk-serial::before {content: \"\";position: absolute;border-left: 1px solid gray;box-sizing: border-box;top: 0;bottom: 0;left: 50%;z-index: 0;}#sk-container-id-5 div.sk-serial {display: flex;flex-direction: column;align-items: center;background-color: white;padding-right: 0.2em;padding-left: 0.2em;position: relative;}#sk-container-id-5 div.sk-item {position: relative;z-index: 1;}#sk-container-id-5 div.sk-parallel {display: flex;align-items: stretch;justify-content: center;background-color: white;position: relative;}#sk-container-id-5 div.sk-item::before, #sk-container-id-5 div.sk-parallel-item::before {content: \"\";position: absolute;border-left: 1px solid gray;box-sizing: border-box;top: 0;bottom: 0;left: 50%;z-index: -1;}#sk-container-id-5 div.sk-parallel-item {display: flex;flex-direction: column;z-index: 1;position: relative;background-color: white;}#sk-container-id-5 div.sk-parallel-item:first-child::after {align-self: flex-end;width: 50%;}#sk-container-id-5 div.sk-parallel-item:last-child::after {align-self: flex-start;width: 50%;}#sk-container-id-5 div.sk-parallel-item:only-child::after {width: 0;}#sk-container-id-5 div.sk-dashed-wrapped {border: 1px dashed gray;margin: 0 0.4em 0.5em 0.4em;box-sizing: border-box;padding-bottom: 0.4em;background-color: white;}#sk-container-id-5 div.sk-label label {font-family: monospace;font-weight: bold;display: inline-block;line-height: 1.2em;}#sk-container-id-5 div.sk-label-container {text-align: center;}#sk-container-id-5 div.sk-container {/* jupyter's `normalize.less` sets `[hidden] { display: none; }` but bootstrap.min.css set `[hidden] { display: none !important; }` so we also need the `!important` here to be able to override the default hidden behavior on the sphinx rendered scikit-learn.org. See: https://github.com/scikit-learn/scikit-learn/issues/21755 */display: inline-block !important;position: relative;}#sk-container-id-5 div.sk-text-repr-fallback {display: none;}</style><div id=\"sk-container-id-5\" class=\"sk-top-container\"><div class=\"sk-text-repr-fallback\"><pre>DecisionTreeClassifier(random_state=20)</pre><b>In a Jupyter environment, please rerun this cell to show the HTML representation or trust the notebook. <br />On GitHub, the HTML representation is unable to render, please try loading this page with nbviewer.org.</b></div><div class=\"sk-container\" hidden><div class=\"sk-item\"><div class=\"sk-estimator sk-toggleable\"><input class=\"sk-toggleable__control sk-hidden--visually\" id=\"sk-estimator-id-5\" type=\"checkbox\" checked><label for=\"sk-estimator-id-5\" class=\"sk-toggleable__label sk-toggleable__label-arrow\">DecisionTreeClassifier</label><div class=\"sk-toggleable__content\"><pre>DecisionTreeClassifier(random_state=20)</pre></div></div></div></div></div>"
      ],
      "text/plain": [
       "DecisionTreeClassifier(random_state=20)"
      ]
     },
     "execution_count": 134,
     "metadata": {},
     "output_type": "execute_result"
    }
   ],
   "source": [
    "dt_clf.fit(X_train, y_train)"
   ]
  },
  {
   "cell_type": "code",
   "execution_count": 135,
   "id": "cc31d310",
   "metadata": {},
   "outputs": [
    {
     "data": {
      "text/plain": [
       "{'ccp_alpha': 0.0,\n",
       " 'class_weight': None,\n",
       " 'criterion': 'gini',\n",
       " 'max_depth': None,\n",
       " 'max_features': None,\n",
       " 'max_leaf_nodes': None,\n",
       " 'min_impurity_decrease': 0.0,\n",
       " 'min_samples_leaf': 1,\n",
       " 'min_samples_split': 2,\n",
       " 'min_weight_fraction_leaf': 0.0,\n",
       " 'random_state': 20,\n",
       " 'splitter': 'best'}"
      ]
     },
     "execution_count": 135,
     "metadata": {},
     "output_type": "execute_result"
    }
   ],
   "source": [
    "dt_clf.get_params(deep=True)"
   ]
  },
  {
   "cell_type": "code",
   "execution_count": 136,
   "id": "b97d67f5",
   "metadata": {},
   "outputs": [],
   "source": [
    "# Make predictions using the model on both train and test splits\n",
    "y_train_pred= dt_clf.predict(X_train)\n",
    "y_test_pred = dt_clf.predict(X_test)"
   ]
  },
  {
   "cell_type": "code",
   "execution_count": 137,
   "id": "b9aee1e3",
   "metadata": {},
   "outputs": [],
   "source": [
    "dt_clf_score_te = round(dt_clf.score(X_test,y_test) * 100, 4)"
   ]
  },
  {
   "cell_type": "code",
   "execution_count": 138,
   "id": "24334152",
   "metadata": {},
   "outputs": [
    {
     "name": "stdout",
     "output_type": "stream",
     "text": [
      "Decision Tree Performance:  99.9984\n"
     ]
    }
   ],
   "source": [
    "print('Decision Tree Performance: ', dt_clf_score_te)"
   ]
  },
  {
   "cell_type": "code",
   "execution_count": 139,
   "id": "b24c0e80",
   "metadata": {},
   "outputs": [
    {
     "data": {
      "text/plain": [
       "100.0"
      ]
     },
     "execution_count": 139,
     "metadata": {},
     "output_type": "execute_result"
    }
   ],
   "source": [
    "dt_clf_score_tr = round(dt_clf.score(X_train,y_train) * 100, 4)\n",
    "dt_clf_score_tr "
   ]
  },
  {
   "cell_type": "markdown",
   "id": "19545d87",
   "metadata": {},
   "source": [
    "##### This high accuracy could be an \"Accuracy Paradox\", where accuracy measures indicate we have excellent accuracy, but the accuracy is only reflecting the underlying class distribution."
   ]
  },
  {
   "cell_type": "markdown",
   "id": "c65efed0",
   "metadata": {},
   "source": [
    "###  Decision Tree Performance¶"
   ]
  },
  {
   "cell_type": "code",
   "execution_count": 140,
   "id": "21385524",
   "metadata": {},
   "outputs": [],
   "source": [
    "from sklearn.metrics import confusion_matrix, ConfusionMatrixDisplay, classification_report"
   ]
  },
  {
   "cell_type": "code",
   "execution_count": 141,
   "id": "e92d66d4",
   "metadata": {},
   "outputs": [
    {
     "data": {
      "image/png": "[encoded data removed]",
      "text/plain": [
       "<Figure size 432x288 with 1 Axes>"
      ]
     },
     "metadata": {},
     "output_type": "display_data"
    }
   ],
   "source": [
    "cm = confusion_matrix(y_true = y_test, y_pred=y_test_pred)\n",
    "ConfusionMatrixDisplay(cm).plot(cmap='Blues', colorbar=False)\n",
    "plt.title('DecisionTreeClassifier Confusion Matrix')\n",
    "plt.show()"
   ]
  },
  {
   "cell_type": "code",
   "execution_count": 142,
   "id": "f47ba048",
   "metadata": {
    "scrolled": false
   },
   "outputs": [
    {
     "data": {
      "text/html": [
       "<div>\n",
       "<style scoped>\n",
       "    .dataframe tbody tr th:only-of-type {\n",
       "        vertical-align: middle;\n",
       "    }\n",
       "\n",
       "    .dataframe tbody tr th {\n",
       "        vertical-align: top;\n",
       "    }\n",
       "\n",
       "    .dataframe thead th {\n",
       "        text-align: right;\n",
       "    }\n",
       "</style>\n",
       "<table border=\"1\" class=\"dataframe\">\n",
       "  <thead>\n",
       "    <tr style=\"text-align: right;\">\n",
       "      <th></th>\n",
       "      <th>0.0</th>\n",
       "      <th>1.0</th>\n",
       "      <th>accuracy</th>\n",
       "      <th>macro avg</th>\n",
       "      <th>weighted avg</th>\n",
       "    </tr>\n",
       "  </thead>\n",
       "  <tbody>\n",
       "    <tr>\n",
       "      <th>precision</th>\n",
       "      <td>0.999987</td>\n",
       "      <td>0.999954</td>\n",
       "      <td>0.999984</td>\n",
       "      <td>0.999971</td>\n",
       "      <td>0.999984</td>\n",
       "    </tr>\n",
       "    <tr>\n",
       "      <th>recall</th>\n",
       "      <td>0.999996</td>\n",
       "      <td>0.999863</td>\n",
       "      <td>0.999984</td>\n",
       "      <td>0.999929</td>\n",
       "      <td>0.999984</td>\n",
       "    </tr>\n",
       "    <tr>\n",
       "      <th>f1-score</th>\n",
       "      <td>0.999991</td>\n",
       "      <td>0.999908</td>\n",
       "      <td>0.999984</td>\n",
       "      <td>0.999950</td>\n",
       "      <td>0.999984</td>\n",
       "    </tr>\n",
       "    <tr>\n",
       "      <th>support</th>\n",
       "      <td>228172.000000</td>\n",
       "      <td>21828.000000</td>\n",
       "      <td>0.999984</td>\n",
       "      <td>250000.000000</td>\n",
       "      <td>250000.000000</td>\n",
       "    </tr>\n",
       "  </tbody>\n",
       "</table>\n",
       "</div>"
      ],
      "text/plain": [
       "                     0.0           1.0  accuracy      macro avg   weighted avg\n",
       "precision       0.999987      0.999954  0.999984       0.999971       0.999984\n",
       "recall          0.999996      0.999863  0.999984       0.999929       0.999984\n",
       "f1-score        0.999991      0.999908  0.999984       0.999950       0.999984\n",
       "support    228172.000000  21828.000000  0.999984  250000.000000  250000.000000"
      ]
     },
     "execution_count": 142,
     "metadata": {},
     "output_type": "execute_result"
    }
   ],
   "source": [
    "dt_report = pd.DataFrame(data=classification_report(\n",
    "    y_true=y_test, y_pred=y_test_pred, output_dict=True))\n",
    "dt_report"
   ]
  },
  {
   "cell_type": "markdown",
   "id": "ec5d6615",
   "metadata": {},
   "source": [
    "##### As mentioned before, these high accuracy figures could be an \"Accuracy Paradox\", where accuracy measures indicate we have excellent accuracy, but the accuracy is only reflecting the underlying class distribution."
   ]
  },
  {
   "cell_type": "markdown",
   "id": "afbf65ac",
   "metadata": {},
   "source": [
    "### Feature Importance "
   ]
  },
  {
   "cell_type": "code",
   "execution_count": 143,
   "id": "cce9a280",
   "metadata": {},
   "outputs": [
    {
     "data": {
      "text/plain": [
       "array([0.11312252, 0.03378356, 0.42460994, 0.        , 0.09043749,\n",
       "       0.10389947, 0.23414703])"
      ]
     },
     "execution_count": 143,
     "metadata": {},
     "output_type": "execute_result"
    }
   ],
   "source": [
    "dt_importances = dt_clf.feature_importances_\n",
    "dt_importances"
   ]
  },
  {
   "cell_type": "code",
   "execution_count": 153,
   "id": "39438b97",
   "metadata": {},
   "outputs": [
    {
     "name": "stdout",
     "output_type": "stream",
     "text": [
      "Mean features importance\n",
      "ratio_to_median_purchase_price: 0.4246\n",
      "online_order: 0.2341\n",
      "distance_from_home: 0.1131\n",
      "used_pin_number: 0.1039\n",
      "used_chip: 0.0904\n",
      "distance_from_last_transaction: 0.0338\n",
      "repeat_retailer: 0.0\n"
     ]
    }
   ],
   "source": [
    "dt_clf_importances = pd.Series(dt_importances, index=X_train.columns).sort_values(ascending=False)\n",
    "print('Mean features importance')\n",
    "for feature in dt_clf_importances.index:\n",
    "    print(feature +': '+ str(round(dt_clf_importances[feature],4)))"
   ]
  },
  {
   "cell_type": "code",
   "execution_count": 154,
   "id": "2dc04b9c",
   "metadata": {},
   "outputs": [
    {
     "data": {
      "image/png": "[encoded data removed]",
      "text/plain": [
       "<Figure size 432x288 with 1 Axes>"
      ]
     },
     "metadata": {},
     "output_type": "display_data"
    }
   ],
   "source": [
    "fig, ax = plt.subplots()\n",
    "dt_clf_importances.plot.bar(ax=ax)\n",
    "ax.set_title(\"Feature importances using MDI\") #Minimum decrease in impurity\n",
    "ax.set_ylabel(\"Mean decrease in impurity\")\n",
    "plt.show()\n",
    "fig.tight_layout()"
   ]
  },
  {
   "cell_type": "markdown",
   "id": "45a234e9",
   "metadata": {},
   "source": [
    "## 2) Random Forest"
   ]
  },
  {
   "cell_type": "code",
   "execution_count": 84,
   "id": "034ba48a",
   "metadata": {},
   "outputs": [],
   "source": [
    "rf_clf = RandomForestClassifier(random_state= 40)"
   ]
  },
  {
   "cell_type": "code",
   "execution_count": 86,
   "id": "b71c861a",
   "metadata": {},
   "outputs": [
    {
     "data": {
      "text/html": [
       "<style>#sk-container-id-3 {color: black;background-color: white;}#sk-container-id-3 pre{padding: 0;}#sk-container-id-3 div.sk-toggleable {background-color: white;}#sk-container-id-3 label.sk-toggleable__label {cursor: pointer;display: block;width: 100%;margin-bottom: 0;padding: 0.3em;box-sizing: border-box;text-align: center;}#sk-container-id-3 label.sk-toggleable__label-arrow:before {content: \"▸\";float: left;margin-right: 0.25em;color: #696969;}#sk-container-id-3 label.sk-toggleable__label-arrow:hover:before {color: black;}#sk-container-id-3 div.sk-estimator:hover label.sk-toggleable__label-arrow:before {color: black;}#sk-container-id-3 div.sk-toggleable__content {max-height: 0;max-width: 0;overflow: hidden;text-align: left;background-color: #f0f8ff;}#sk-container-id-3 div.sk-toggleable__content pre {margin: 0.2em;color: black;border-radius: 0.25em;background-color: #f0f8ff;}#sk-container-id-3 input.sk-toggleable__control:checked~div.sk-toggleable__content {max-height: 200px;max-width: 100%;overflow: auto;}#sk-container-id-3 input.sk-toggleable__control:checked~label.sk-toggleable__label-arrow:before {content: \"▾\";}#sk-container-id-3 div.sk-estimator input.sk-toggleable__control:checked~label.sk-toggleable__label {background-color: #d4ebff;}#sk-container-id-3 div.sk-label input.sk-toggleable__control:checked~label.sk-toggleable__label {background-color: #d4ebff;}#sk-container-id-3 input.sk-hidden--visually {border: 0;clip: rect(1px 1px 1px 1px);clip: rect(1px, 1px, 1px, 1px);height: 1px;margin: -1px;overflow: hidden;padding: 0;position: absolute;width: 1px;}#sk-container-id-3 div.sk-estimator {font-family: monospace;background-color: #f0f8ff;border: 1px dotted black;border-radius: 0.25em;box-sizing: border-box;margin-bottom: 0.5em;}#sk-container-id-3 div.sk-estimator:hover {background-color: #d4ebff;}#sk-container-id-3 div.sk-parallel-item::after {content: \"\";width: 100%;border-bottom: 1px solid gray;flex-grow: 1;}#sk-container-id-3 div.sk-label:hover label.sk-toggleable__label {background-color: #d4ebff;}#sk-container-id-3 div.sk-serial::before {content: \"\";position: absolute;border-left: 1px solid gray;box-sizing: border-box;top: 0;bottom: 0;left: 50%;z-index: 0;}#sk-container-id-3 div.sk-serial {display: flex;flex-direction: column;align-items: center;background-color: white;padding-right: 0.2em;padding-left: 0.2em;position: relative;}#sk-container-id-3 div.sk-item {position: relative;z-index: 1;}#sk-container-id-3 div.sk-parallel {display: flex;align-items: stretch;justify-content: center;background-color: white;position: relative;}#sk-container-id-3 div.sk-item::before, #sk-container-id-3 div.sk-parallel-item::before {content: \"\";position: absolute;border-left: 1px solid gray;box-sizing: border-box;top: 0;bottom: 0;left: 50%;z-index: -1;}#sk-container-id-3 div.sk-parallel-item {display: flex;flex-direction: column;z-index: 1;position: relative;background-color: white;}#sk-container-id-3 div.sk-parallel-item:first-child::after {align-self: flex-end;width: 50%;}#sk-container-id-3 div.sk-parallel-item:last-child::after {align-self: flex-start;width: 50%;}#sk-container-id-3 div.sk-parallel-item:only-child::after {width: 0;}#sk-container-id-3 div.sk-dashed-wrapped {border: 1px dashed gray;margin: 0 0.4em 0.5em 0.4em;box-sizing: border-box;padding-bottom: 0.4em;background-color: white;}#sk-container-id-3 div.sk-label label {font-family: monospace;font-weight: bold;display: inline-block;line-height: 1.2em;}#sk-container-id-3 div.sk-label-container {text-align: center;}#sk-container-id-3 div.sk-container {/* jupyter's `normalize.less` sets `[hidden] { display: none; }` but bootstrap.min.css set `[hidden] { display: none !important; }` so we also need the `!important` here to be able to override the default hidden behavior on the sphinx rendered scikit-learn.org. See: https://github.com/scikit-learn/scikit-learn/issues/21755 */display: inline-block !important;position: relative;}#sk-container-id-3 div.sk-text-repr-fallback {display: none;}</style><div id=\"sk-container-id-3\" class=\"sk-top-container\"><div class=\"sk-text-repr-fallback\"><pre>RandomForestClassifier(random_state=40)</pre><b>In a Jupyter environment, please rerun this cell to show the HTML representation or trust the notebook. <br />On GitHub, the HTML representation is unable to render, please try loading this page with nbviewer.org.</b></div><div class=\"sk-container\" hidden><div class=\"sk-item\"><div class=\"sk-estimator sk-toggleable\"><input class=\"sk-toggleable__control sk-hidden--visually\" id=\"sk-estimator-id-3\" type=\"checkbox\" checked><label for=\"sk-estimator-id-3\" class=\"sk-toggleable__label sk-toggleable__label-arrow\">RandomForestClassifier</label><div class=\"sk-toggleable__content\"><pre>RandomForestClassifier(random_state=40)</pre></div></div></div></div></div>"
      ],
      "text/plain": [
       "RandomForestClassifier(random_state=40)"
      ]
     },
     "execution_count": 86,
     "metadata": {},
     "output_type": "execute_result"
    }
   ],
   "source": [
    "rf_clf.fit(X_train, y_train)"
   ]
  },
  {
   "cell_type": "code",
   "execution_count": 87,
   "id": "13c2fd29",
   "metadata": {},
   "outputs": [
    {
     "data": {
      "text/plain": [
       "{'bootstrap': True,\n",
       " 'ccp_alpha': 0.0,\n",
       " 'class_weight': None,\n",
       " 'criterion': 'gini',\n",
       " 'max_depth': None,\n",
       " 'max_features': 'sqrt',\n",
       " 'max_leaf_nodes': None,\n",
       " 'max_samples': None,\n",
       " 'min_impurity_decrease': 0.0,\n",
       " 'min_samples_leaf': 1,\n",
       " 'min_samples_split': 2,\n",
       " 'min_weight_fraction_leaf': 0.0,\n",
       " 'n_estimators': 100,\n",
       " 'n_jobs': None,\n",
       " 'oob_score': False,\n",
       " 'random_state': 40,\n",
       " 'verbose': 0,\n",
       " 'warm_start': False}"
      ]
     },
     "execution_count": 87,
     "metadata": {},
     "output_type": "execute_result"
    }
   ],
   "source": [
    "rf_clf.get_params(deep=True)"
   ]
  },
  {
   "cell_type": "code",
   "execution_count": 88,
   "id": "8377d6db",
   "metadata": {},
   "outputs": [],
   "source": [
    "# Make predictions using the model on both train and test splits\n",
    "# rf_y_train_pred= rf_clf.predict(X_train)\n",
    "rf_y_test_pred = rf_clf.predict(X_test)"
   ]
  },
  {
   "cell_type": "code",
   "execution_count": 90,
   "id": "69844ae4",
   "metadata": {},
   "outputs": [],
   "source": [
    "rf_clf_score = round(rf_clf.score(X_test,y_test) * 100, 2)"
   ]
  },
  {
   "cell_type": "code",
   "execution_count": 91,
   "id": "a44c3fd2",
   "metadata": {},
   "outputs": [
    {
     "name": "stdout",
     "output_type": "stream",
     "text": [
      "Random Forest Performance:  100.0\n"
     ]
    }
   ],
   "source": [
    "print('Random Forest Performance: ', rf_clf_score)"
   ]
  },
  {
   "cell_type": "markdown",
   "id": "df8c227e",
   "metadata": {},
   "source": [
    "### Random Forest Performance "
   ]
  },
  {
   "cell_type": "code",
   "execution_count": 92,
   "id": "d42b596b",
   "metadata": {
    "scrolled": true
   },
   "outputs": [
    {
     "data": {
      "image/png": "[encoded data removed]",
      "text/plain": [
       "<Figure size 432x288 with 1 Axes>"
      ]
     },
     "metadata": {},
     "output_type": "display_data"
    }
   ],
   "source": [
    "cm = confusion_matrix(y_true = y_test, y_pred=rf_y_test_pred)\n",
    "ConfusionMatrixDisplay(cm).plot(cmap='Blues', colorbar=False)\n",
    "plt.title('RF Confusion Matrix')\n",
    "plt.show()"
   ]
  },
  {
   "cell_type": "code",
   "execution_count": 93,
   "id": "2be09e41",
   "metadata": {},
   "outputs": [
    {
     "data": {
      "text/html": [
       "<div>\n",
       "<style scoped>\n",
       "    .dataframe tbody tr th:only-of-type {\n",
       "        vertical-align: middle;\n",
       "    }\n",
       "\n",
       "    .dataframe tbody tr th {\n",
       "        vertical-align: top;\n",
       "    }\n",
       "\n",
       "    .dataframe thead th {\n",
       "        text-align: right;\n",
       "    }\n",
       "</style>\n",
       "<table border=\"1\" class=\"dataframe\">\n",
       "  <thead>\n",
       "    <tr style=\"text-align: right;\">\n",
       "      <th></th>\n",
       "      <th>0.0</th>\n",
       "      <th>1.0</th>\n",
       "      <th>accuracy</th>\n",
       "      <th>macro avg</th>\n",
       "      <th>weighted avg</th>\n",
       "    </tr>\n",
       "  </thead>\n",
       "  <tbody>\n",
       "    <tr>\n",
       "      <th>precision</th>\n",
       "      <td>0.999987</td>\n",
       "      <td>1.000000</td>\n",
       "      <td>0.999988</td>\n",
       "      <td>0.999993</td>\n",
       "      <td>0.999988</td>\n",
       "    </tr>\n",
       "    <tr>\n",
       "      <th>recall</th>\n",
       "      <td>1.000000</td>\n",
       "      <td>0.999863</td>\n",
       "      <td>0.999988</td>\n",
       "      <td>0.999931</td>\n",
       "      <td>0.999988</td>\n",
       "    </tr>\n",
       "    <tr>\n",
       "      <th>f1-score</th>\n",
       "      <td>0.999993</td>\n",
       "      <td>0.999931</td>\n",
       "      <td>0.999988</td>\n",
       "      <td>0.999962</td>\n",
       "      <td>0.999988</td>\n",
       "    </tr>\n",
       "    <tr>\n",
       "      <th>support</th>\n",
       "      <td>228172.000000</td>\n",
       "      <td>21828.000000</td>\n",
       "      <td>0.999988</td>\n",
       "      <td>250000.000000</td>\n",
       "      <td>250000.000000</td>\n",
       "    </tr>\n",
       "  </tbody>\n",
       "</table>\n",
       "</div>"
      ],
      "text/plain": [
       "                     0.0           1.0  accuracy      macro avg   weighted avg\n",
       "precision       0.999987      1.000000  0.999988       0.999993       0.999988\n",
       "recall          1.000000      0.999863  0.999988       0.999931       0.999988\n",
       "f1-score        0.999993      0.999931  0.999988       0.999962       0.999988\n",
       "support    228172.000000  21828.000000  0.999988  250000.000000  250000.000000"
      ]
     },
     "execution_count": 93,
     "metadata": {},
     "output_type": "execute_result"
    }
   ],
   "source": [
    "rf_report = pd.DataFrame(data = classification_report(\n",
    "    y_true=y_test, y_pred= rf_y_test_pred, output_dict=True))\n",
    "rf_report"
   ]
  },
  {
   "cell_type": "markdown",
   "id": "310d893d",
   "metadata": {},
   "source": [
    "### Feature Importance "
   ]
  },
  {
   "cell_type": "markdown",
   "id": "544d28e9",
   "metadata": {},
   "source": [
    "###### Feature importances are provided by the fitted attribute feature_importances_ and they are computed as the mean and standard deviation of accumulation of the impurity decrease within each tree."
   ]
  },
  {
   "cell_type": "code",
   "execution_count": 155,
   "id": "f50c8da4",
   "metadata": {},
   "outputs": [
    {
     "name": "stdout",
     "output_type": "stream",
     "text": [
      "Mean features importance\n",
      "ratio_to_median_purchase_price: 0.5344\n",
      "online_order: 0.1653\n",
      "distance_from_home: 0.1251\n",
      "used_chip: 0.0637\n",
      "used_pin_number: 0.0601\n",
      "distance_from_last_transaction: 0.0443\n",
      "repeat_retailer: 0.007\n"
     ]
    }
   ],
   "source": [
    "rf_importances = rf_clf.feature_importances_\n",
    "std = np.std([tree.feature_importances_ for tree in rf_clf.estimators_], axis=0)\n",
    "rf_clf_importances = pd.Series(rf_importances, index=X_train.columns).sort_values(ascending=False)\n",
    "\n",
    "print('Mean features importance')\n",
    "for feature in rf_clf_importances.index:\n",
    "    print(feature+': '+str(round(rf_clf_importances[feature],4)))"
   ]
  },
  {
   "cell_type": "code",
   "execution_count": 106,
   "id": "07329029",
   "metadata": {},
   "outputs": [
    {
     "data": {
      "image/png": "[encoded data removed]",
      "text/plain": [
       "<Figure size 432x288 with 1 Axes>"
      ]
     },
     "metadata": {},
     "output_type": "display_data"
    }
   ],
   "source": [
    "fig, ax = plt.subplots()\n",
    "rf_clf_importances.plot.bar(yerr=std, ax=ax)\n",
    "ax.set_title(\"Feature importances using MDI\") #Minimum decrease in impurity\n",
    "ax.set_ylabel(\"Mean decrease in impurity\")\n",
    "plt.show()"
   ]
  },
  {
   "cell_type": "code",
   "execution_count": 156,
   "id": "00904a2f",
   "metadata": {},
   "outputs": [
    {
     "data": {
      "image/svg+xml": [
       "<?xml version=\"1.0\" encoding=\"UTF-8\" standalone=\"no\"?>\n",
       "<!DOCTYPE svg PUBLIC \"-//W3C//DTD SVG 1.1//EN\"\n",
       " \"http://www.w3.org/Graphics/SVG/1.1/DTD/svg11.dtd\">\n",
       "<!-- Generated by graphviz version 3.0.0 (20220226.1711)\n",
       " -->\n",
       "<!-- Title: Tree Pages: 1 -->\n",
       "<svg width=\"2990pt\" height=\"909pt\"\n",
       " viewBox=\"0.00 0.00 2989.50 909.00\" xmlns=\"http://www.w3.org/2000/svg\" xmlns:xlink=\"http://www.w3.org/1999/xlink\">\n",
       "<g id=\"graph0\" class=\"graph\" transform=\"scale(1 1) rotate(0) translate(4 905)\">\n",
       "<title>Tree</title>\n",
       "<polygon fill=\"white\" stroke=\"transparent\" points=\"-4,4 -4,-905 2985.5,-905 2985.5,4 -4,4\"/>\n",
       "<!-- 0 -->\n",
       "<g id=\"node1\" class=\"node\">\n",
       "<title>0</title>\n",
       "<path fill=\"#e78d4c\" stroke=\"black\" d=\"M1392,-901C1392,-901 1156,-901 1156,-901 1150,-901 1144,-895 1144,-889 1144,-889 1144,-830 1144,-830 1144,-824 1150,-818 1156,-818 1156,-818 1392,-818 1392,-818 1398,-818 1404,-824 1404,-830 1404,-830 1404,-889 1404,-889 1404,-895 1398,-901 1392,-901\"/>\n",
       "<text text-anchor=\"start\" x=\"1152\" y=\"-885.8\" font-family=\"Helvetica,sans-Serif\" font-size=\"14.00\">ratio_to_median_purchase_price ≤ 4.0</text>\n",
       "<text text-anchor=\"start\" x=\"1240.5\" y=\"-870.8\" font-family=\"Helvetica,sans-Serif\" font-size=\"14.00\">gini = 0.16</text>\n",
       "<text text-anchor=\"start\" x=\"1214\" y=\"-855.8\" font-family=\"Helvetica,sans-Serif\" font-size=\"14.00\">samples = 750000</text>\n",
       "<text text-anchor=\"start\" x=\"1196.5\" y=\"-840.8\" font-family=\"Helvetica,sans-Serif\" font-size=\"14.00\">value = [684425, 65575]</text>\n",
       "<text text-anchor=\"start\" x=\"1247\" y=\"-825.8\" font-family=\"Helvetica,sans-Serif\" font-size=\"14.00\">class = f</text>\n",
       "</g>\n",
       "<!-- 1 -->\n",
       "<g id=\"node2\" class=\"node\">\n",
       "<title>1</title>\n",
       "<path fill=\"#e6843e\" stroke=\"black\" d=\"M866,-782C866,-782 670,-782 670,-782 664,-782 658,-776 658,-770 658,-770 658,-711 658,-711 658,-705 664,-699 670,-699 670,-699 866,-699 866,-699 872,-699 878,-705 878,-711 878,-711 878,-770 878,-770 878,-776 872,-782 866,-782\"/>\n",
       "<text text-anchor=\"start\" x=\"666\" y=\"-766.8\" font-family=\"Helvetica,sans-Serif\" font-size=\"14.00\">distance_from_home ≤ 100.004</text>\n",
       "<text text-anchor=\"start\" x=\"730.5\" y=\"-751.8\" font-family=\"Helvetica,sans-Serif\" font-size=\"14.00\">gini = 0.049</text>\n",
       "<text text-anchor=\"start\" x=\"708\" y=\"-736.8\" font-family=\"Helvetica,sans-Serif\" font-size=\"14.00\">samples = 672487</text>\n",
       "<text text-anchor=\"start\" x=\"690.5\" y=\"-721.8\" font-family=\"Helvetica,sans-Serif\" font-size=\"14.00\">value = [655713, 16774]</text>\n",
       "<text text-anchor=\"start\" x=\"741\" y=\"-706.8\" font-family=\"Helvetica,sans-Serif\" font-size=\"14.00\">class = f</text>\n",
       "</g>\n",
       "<!-- 0&#45;&gt;1 -->\n",
       "<g id=\"edge1\" class=\"edge\">\n",
       "<title>0&#45;&gt;1</title>\n",
       "<path fill=\"none\" stroke=\"black\" d=\"M1143.69,-828.37C1064.78,-810.12 964.87,-787.02 887.91,-769.23\"/>\n",
       "<polygon fill=\"black\" stroke=\"black\" points=\"888.7,-765.82 878.17,-766.97 887.12,-772.64 888.7,-765.82\"/>\n",
       "<text text-anchor=\"middle\" x=\"891.41\" y=\"-784.48\" font-family=\"Helvetica,sans-Serif\" font-size=\"14.00\">True</text>\n",
       "</g>\n",
       "<!-- 30 -->\n",
       "<g id=\"node31\" class=\"node\">\n",
       "<title>30</title>\n",
       "<path fill=\"#add7f4\" stroke=\"black\" d=\"M2060.5,-782C2060.5,-782 1921.5,-782 1921.5,-782 1915.5,-782 1909.5,-776 1909.5,-770 1909.5,-770 1909.5,-711 1909.5,-711 1909.5,-705 1915.5,-699 1921.5,-699 1921.5,-699 2060.5,-699 2060.5,-699 2066.5,-699 2072.5,-705 2072.5,-711 2072.5,-711 2072.5,-770 2072.5,-770 2072.5,-776 2066.5,-782 2060.5,-782\"/>\n",
       "<text text-anchor=\"start\" x=\"1933.5\" y=\"-766.8\" font-family=\"Helvetica,sans-Serif\" font-size=\"14.00\">online_order ≤ 0.5</text>\n",
       "<text text-anchor=\"start\" x=\"1953.5\" y=\"-751.8\" font-family=\"Helvetica,sans-Serif\" font-size=\"14.00\">gini = 0.466</text>\n",
       "<text text-anchor=\"start\" x=\"1935\" y=\"-736.8\" font-family=\"Helvetica,sans-Serif\" font-size=\"14.00\">samples = 77513</text>\n",
       "<text text-anchor=\"start\" x=\"1917.5\" y=\"-721.8\" font-family=\"Helvetica,sans-Serif\" font-size=\"14.00\">value = [28712, 48801]</text>\n",
       "<text text-anchor=\"start\" x=\"1964\" y=\"-706.8\" font-family=\"Helvetica,sans-Serif\" font-size=\"14.00\">class = r</text>\n",
       "</g>\n",
       "<!-- 0&#45;&gt;30 -->\n",
       "<g id=\"edge30\" class=\"edge\">\n",
       "<title>0&#45;&gt;30</title>\n",
       "<path fill=\"none\" stroke=\"black\" d=\"M1404.26,-837.24C1547.44,-813.88 1773.78,-776.95 1899.38,-756.45\"/>\n",
       "<polygon fill=\"black\" stroke=\"black\" points=\"1900.05,-759.89 1909.36,-754.82 1898.92,-752.98 1900.05,-759.89\"/>\n",
       "<text text-anchor=\"middle\" x=\"1894.76\" y=\"-771.42\" font-family=\"Helvetica,sans-Serif\" font-size=\"14.00\">False</text>\n",
       "</g>\n",
       "<!-- 2 -->\n",
       "<g id=\"node3\" class=\"node\">\n",
       "<title>2</title>\n",
       "<path fill=\"#e5823a\" stroke=\"black\" d=\"M466,-663C466,-663 216,-663 216,-663 210,-663 204,-657 204,-651 204,-651 204,-592 204,-592 204,-586 210,-580 216,-580 216,-580 466,-580 466,-580 472,-580 478,-586 478,-592 478,-592 478,-651 478,-651 478,-657 472,-663 466,-663\"/>\n",
       "<text text-anchor=\"start\" x=\"212\" y=\"-647.8\" font-family=\"Helvetica,sans-Serif\" font-size=\"14.00\">distance_from_last_transaction ≤ 50.028</text>\n",
       "<text text-anchor=\"start\" x=\"303.5\" y=\"-632.8\" font-family=\"Helvetica,sans-Serif\" font-size=\"14.00\">gini = 0.012</text>\n",
       "<text text-anchor=\"start\" x=\"281\" y=\"-617.8\" font-family=\"Helvetica,sans-Serif\" font-size=\"14.00\">samples = 639047</text>\n",
       "<text text-anchor=\"start\" x=\"267.5\" y=\"-602.8\" font-family=\"Helvetica,sans-Serif\" font-size=\"14.00\">value = [635301, 3746]</text>\n",
       "<text text-anchor=\"start\" x=\"314\" y=\"-587.8\" font-family=\"Helvetica,sans-Serif\" font-size=\"14.00\">class = f</text>\n",
       "</g>\n",
       "<!-- 1&#45;&gt;2 -->\n",
       "<g id=\"edge2\" class=\"edge\">\n",
       "<title>1&#45;&gt;2</title>\n",
       "<path fill=\"none\" stroke=\"black\" d=\"M657.76,-709.29C606.13,-695.15 543.88,-678.09 488.28,-662.86\"/>\n",
       "<polygon fill=\"black\" stroke=\"black\" points=\"488.91,-659.4 478.34,-660.13 487.06,-666.15 488.91,-659.4\"/>\n",
       "</g>\n",
       "<!-- 15 -->\n",
       "<g id=\"node16\" class=\"node\">\n",
       "<title>15</title>\n",
       "<path fill=\"#f6d1b7\" stroke=\"black\" d=\"M837.5,-663C837.5,-663 698.5,-663 698.5,-663 692.5,-663 686.5,-657 686.5,-651 686.5,-651 686.5,-592 686.5,-592 686.5,-586 692.5,-580 698.5,-580 698.5,-580 837.5,-580 837.5,-580 843.5,-580 849.5,-586 849.5,-592 849.5,-592 849.5,-651 849.5,-651 849.5,-657 843.5,-663 837.5,-663\"/>\n",
       "<text text-anchor=\"start\" x=\"710.5\" y=\"-647.8\" font-family=\"Helvetica,sans-Serif\" font-size=\"14.00\">online_order ≤ 0.5</text>\n",
       "<text text-anchor=\"start\" x=\"730.5\" y=\"-632.8\" font-family=\"Helvetica,sans-Serif\" font-size=\"14.00\">gini = 0.476</text>\n",
       "<text text-anchor=\"start\" x=\"712\" y=\"-617.8\" font-family=\"Helvetica,sans-Serif\" font-size=\"14.00\">samples = 33440</text>\n",
       "<text text-anchor=\"start\" x=\"694.5\" y=\"-602.8\" font-family=\"Helvetica,sans-Serif\" font-size=\"14.00\">value = [20412, 13028]</text>\n",
       "<text text-anchor=\"start\" x=\"741\" y=\"-587.8\" font-family=\"Helvetica,sans-Serif\" font-size=\"14.00\">class = f</text>\n",
       "</g>\n",
       "<!-- 1&#45;&gt;15 -->\n",
       "<g id=\"edge15\" class=\"edge\">\n",
       "<title>1&#45;&gt;15</title>\n",
       "<path fill=\"none\" stroke=\"black\" d=\"M768,-698.91C768,-690.65 768,-681.86 768,-673.3\"/>\n",
       "<polygon fill=\"black\" stroke=\"black\" points=\"771.5,-673.02 768,-663.02 764.5,-673.02 771.5,-673.02\"/>\n",
       "</g>\n",
       "<!-- 3 -->\n",
       "<g id=\"node4\" class=\"node\">\n",
       "<title>3</title>\n",
       "<path fill=\"#e58139\" stroke=\"black\" d=\"M238,-536.5C238,-536.5 124,-536.5 124,-536.5 118,-536.5 112,-530.5 112,-524.5 112,-524.5 112,-480.5 112,-480.5 112,-474.5 118,-468.5 124,-468.5 124,-468.5 238,-468.5 238,-468.5 244,-468.5 250,-474.5 250,-480.5 250,-480.5 250,-524.5 250,-524.5 250,-530.5 244,-536.5 238,-536.5\"/>\n",
       "<text text-anchor=\"start\" x=\"152\" y=\"-521.3\" font-family=\"Helvetica,sans-Serif\" font-size=\"14.00\">gini = 0.0</text>\n",
       "<text text-anchor=\"start\" x=\"121\" y=\"-506.3\" font-family=\"Helvetica,sans-Serif\" font-size=\"14.00\">samples = 629587</text>\n",
       "<text text-anchor=\"start\" x=\"120\" y=\"-491.3\" font-family=\"Helvetica,sans-Serif\" font-size=\"14.00\">value = [629587, 0]</text>\n",
       "<text text-anchor=\"start\" x=\"154\" y=\"-476.3\" font-family=\"Helvetica,sans-Serif\" font-size=\"14.00\">class = f</text>\n",
       "</g>\n",
       "<!-- 2&#45;&gt;3 -->\n",
       "<g id=\"edge3\" class=\"edge\">\n",
       "<title>2&#45;&gt;3</title>\n",
       "<path fill=\"none\" stroke=\"black\" d=\"M285.49,-579.91C269.04,-567.88 251.06,-554.73 234.73,-542.79\"/>\n",
       "<polygon fill=\"black\" stroke=\"black\" points=\"236.49,-539.74 226.36,-536.67 232.36,-545.39 236.49,-539.74\"/>\n",
       "</g>\n",
       "<!-- 4 -->\n",
       "<g id=\"node5\" class=\"node\">\n",
       "<title>4</title>\n",
       "<path fill=\"#f6d4bb\" stroke=\"black\" d=\"M402,-544C402,-544 280,-544 280,-544 274,-544 268,-538 268,-532 268,-532 268,-473 268,-473 268,-467 274,-461 280,-461 280,-461 402,-461 402,-461 408,-461 414,-467 414,-473 414,-473 414,-532 414,-532 414,-538 408,-544 402,-544\"/>\n",
       "<text text-anchor=\"start\" x=\"283.5\" y=\"-528.8\" font-family=\"Helvetica,sans-Serif\" font-size=\"14.00\">online_order ≤ 0.5</text>\n",
       "<text text-anchor=\"start\" x=\"303.5\" y=\"-513.8\" font-family=\"Helvetica,sans-Serif\" font-size=\"14.00\">gini = 0.478</text>\n",
       "<text text-anchor=\"start\" x=\"289.5\" y=\"-498.8\" font-family=\"Helvetica,sans-Serif\" font-size=\"14.00\">samples = 9460</text>\n",
       "<text text-anchor=\"start\" x=\"276\" y=\"-483.8\" font-family=\"Helvetica,sans-Serif\" font-size=\"14.00\">value = [5714, 3746]</text>\n",
       "<text text-anchor=\"start\" x=\"314\" y=\"-468.8\" font-family=\"Helvetica,sans-Serif\" font-size=\"14.00\">class = f</text>\n",
       "</g>\n",
       "<!-- 2&#45;&gt;4 -->\n",
       "<g id=\"edge4\" class=\"edge\">\n",
       "<title>2&#45;&gt;4</title>\n",
       "<path fill=\"none\" stroke=\"black\" d=\"M341,-579.91C341,-571.65 341,-562.86 341,-554.3\"/>\n",
       "<polygon fill=\"black\" stroke=\"black\" points=\"344.5,-554.02 341,-544.02 337.5,-554.02 344.5,-554.02\"/>\n",
       "</g>\n",
       "<!-- 5 -->\n",
       "<g id=\"node6\" class=\"node\">\n",
       "<title>5</title>\n",
       "<path fill=\"#e58139\" stroke=\"black\" d=\"M238,-417.5C238,-417.5 140,-417.5 140,-417.5 134,-417.5 128,-411.5 128,-405.5 128,-405.5 128,-361.5 128,-361.5 128,-355.5 134,-349.5 140,-349.5 140,-349.5 238,-349.5 238,-349.5 244,-349.5 250,-355.5 250,-361.5 250,-361.5 250,-405.5 250,-405.5 250,-411.5 244,-417.5 238,-417.5\"/>\n",
       "<text text-anchor=\"start\" x=\"160\" y=\"-402.3\" font-family=\"Helvetica,sans-Serif\" font-size=\"14.00\">gini = 0.0</text>\n",
       "<text text-anchor=\"start\" x=\"137.5\" y=\"-387.3\" font-family=\"Helvetica,sans-Serif\" font-size=\"14.00\">samples = 3313</text>\n",
       "<text text-anchor=\"start\" x=\"136\" y=\"-372.3\" font-family=\"Helvetica,sans-Serif\" font-size=\"14.00\">value = [3313, 0]</text>\n",
       "<text text-anchor=\"start\" x=\"162\" y=\"-357.3\" font-family=\"Helvetica,sans-Serif\" font-size=\"14.00\">class = f</text>\n",
       "</g>\n",
       "<!-- 4&#45;&gt;5 -->\n",
       "<g id=\"edge5\" class=\"edge\">\n",
       "<title>4&#45;&gt;5</title>\n",
       "<path fill=\"none\" stroke=\"black\" d=\"M288.26,-460.91C272.64,-448.88 255.56,-435.73 240.04,-423.79\"/>\n",
       "<polygon fill=\"black\" stroke=\"black\" points=\"242.15,-420.99 232.09,-417.67 237.88,-426.54 242.15,-420.99\"/>\n",
       "</g>\n",
       "<!-- 6 -->\n",
       "<g id=\"node7\" class=\"node\">\n",
       "<title>6</title>\n",
       "<path fill=\"#b8dcf6\" stroke=\"black\" d=\"M402,-425C402,-425 280,-425 280,-425 274,-425 268,-419 268,-413 268,-413 268,-354 268,-354 268,-348 274,-342 280,-342 280,-342 402,-342 402,-342 408,-342 414,-348 414,-354 414,-354 414,-413 414,-413 414,-419 408,-425 402,-425\"/>\n",
       "<text text-anchor=\"start\" x=\"290\" y=\"-409.8\" font-family=\"Helvetica,sans-Serif\" font-size=\"14.00\">used_chip ≤ 0.5</text>\n",
       "<text text-anchor=\"start\" x=\"303.5\" y=\"-394.8\" font-family=\"Helvetica,sans-Serif\" font-size=\"14.00\">gini = 0.476</text>\n",
       "<text text-anchor=\"start\" x=\"289.5\" y=\"-379.8\" font-family=\"Helvetica,sans-Serif\" font-size=\"14.00\">samples = 6147</text>\n",
       "<text text-anchor=\"start\" x=\"276\" y=\"-364.8\" font-family=\"Helvetica,sans-Serif\" font-size=\"14.00\">value = [2401, 3746]</text>\n",
       "<text text-anchor=\"start\" x=\"314\" y=\"-349.8\" font-family=\"Helvetica,sans-Serif\" font-size=\"14.00\">class = r</text>\n",
       "</g>\n",
       "<!-- 4&#45;&gt;6 -->\n",
       "<g id=\"edge6\" class=\"edge\">\n",
       "<title>4&#45;&gt;6</title>\n",
       "<path fill=\"none\" stroke=\"black\" d=\"M341,-460.91C341,-452.65 341,-443.86 341,-435.3\"/>\n",
       "<polygon fill=\"black\" stroke=\"black\" points=\"344.5,-435.02 341,-425.02 337.5,-435.02 344.5,-435.02\"/>\n",
       "</g>\n",
       "<!-- 7 -->\n",
       "<g id=\"node8\" class=\"node\">\n",
       "<title>7</title>\n",
       "<path fill=\"#51a9e8\" stroke=\"black\" d=\"M264.5,-306C264.5,-306 121.5,-306 121.5,-306 115.5,-306 109.5,-300 109.5,-294 109.5,-294 109.5,-235 109.5,-235 109.5,-229 115.5,-223 121.5,-223 121.5,-223 264.5,-223 264.5,-223 270.5,-223 276.5,-229 276.5,-235 276.5,-235 276.5,-294 276.5,-294 276.5,-300 270.5,-306 264.5,-306\"/>\n",
       "<text text-anchor=\"start\" x=\"117.5\" y=\"-290.8\" font-family=\"Helvetica,sans-Serif\" font-size=\"14.00\">used_pin_number ≤ 0.5</text>\n",
       "<text text-anchor=\"start\" x=\"155.5\" y=\"-275.8\" font-family=\"Helvetica,sans-Serif\" font-size=\"14.00\">gini = 0.192</text>\n",
       "<text text-anchor=\"start\" x=\"141.5\" y=\"-260.8\" font-family=\"Helvetica,sans-Serif\" font-size=\"14.00\">samples = 3934</text>\n",
       "<text text-anchor=\"start\" x=\"132\" y=\"-245.8\" font-family=\"Helvetica,sans-Serif\" font-size=\"14.00\">value = [423, 3511]</text>\n",
       "<text text-anchor=\"start\" x=\"166\" y=\"-230.8\" font-family=\"Helvetica,sans-Serif\" font-size=\"14.00\">class = r</text>\n",
       "</g>\n",
       "<!-- 6&#45;&gt;7 -->\n",
       "<g id=\"edge7\" class=\"edge\">\n",
       "<title>6&#45;&gt;7</title>\n",
       "<path fill=\"none\" stroke=\"black\" d=\"M289.65,-341.91C277.6,-332.38 264.66,-322.15 252.29,-312.37\"/>\n",
       "<polygon fill=\"black\" stroke=\"black\" points=\"254.27,-309.48 244.26,-306.02 249.93,-314.97 254.27,-309.48\"/>\n",
       "</g>\n",
       "<!-- 10 -->\n",
       "<g id=\"node11\" class=\"node\">\n",
       "<title>10</title>\n",
       "<path fill=\"#e89051\" stroke=\"black\" d=\"M425.5,-306C425.5,-306 306.5,-306 306.5,-306 300.5,-306 294.5,-300 294.5,-294 294.5,-294 294.5,-235 294.5,-235 294.5,-229 300.5,-223 306.5,-223 306.5,-223 425.5,-223 425.5,-223 431.5,-223 437.5,-229 437.5,-235 437.5,-235 437.5,-294 437.5,-294 437.5,-300 431.5,-306 425.5,-306\"/>\n",
       "<text text-anchor=\"start\" x=\"302.5\" y=\"-290.8\" font-family=\"Helvetica,sans-Serif\" font-size=\"14.00\">repeat_retailer ≤ 0.5</text>\n",
       "<text text-anchor=\"start\" x=\"332.5\" y=\"-275.8\" font-family=\"Helvetica,sans-Serif\" font-size=\"14.00\">gini = 0.19</text>\n",
       "<text text-anchor=\"start\" x=\"314.5\" y=\"-260.8\" font-family=\"Helvetica,sans-Serif\" font-size=\"14.00\">samples = 2213</text>\n",
       "<text text-anchor=\"start\" x=\"305\" y=\"-245.8\" font-family=\"Helvetica,sans-Serif\" font-size=\"14.00\">value = [1978, 235]</text>\n",
       "<text text-anchor=\"start\" x=\"339\" y=\"-230.8\" font-family=\"Helvetica,sans-Serif\" font-size=\"14.00\">class = f</text>\n",
       "</g>\n",
       "<!-- 6&#45;&gt;10 -->\n",
       "<g id=\"edge10\" class=\"edge\">\n",
       "<title>6&#45;&gt;10</title>\n",
       "<path fill=\"none\" stroke=\"black\" d=\"M349.67,-341.91C351.46,-333.56 353.36,-324.67 355.21,-316.02\"/>\n",
       "<polygon fill=\"black\" stroke=\"black\" points=\"358.67,-316.53 357.34,-306.02 351.83,-315.07 358.67,-316.53\"/>\n",
       "</g>\n",
       "<!-- 8 -->\n",
       "<g id=\"node9\" class=\"node\">\n",
       "<title>8</title>\n",
       "<path fill=\"#399de5\" stroke=\"black\" d=\"M110,-179.5C110,-179.5 12,-179.5 12,-179.5 6,-179.5 0,-173.5 0,-167.5 0,-167.5 0,-123.5 0,-123.5 0,-117.5 6,-111.5 12,-111.5 12,-111.5 110,-111.5 110,-111.5 116,-111.5 122,-117.5 122,-123.5 122,-123.5 122,-167.5 122,-167.5 122,-173.5 116,-179.5 110,-179.5\"/>\n",
       "<text text-anchor=\"start\" x=\"32\" y=\"-164.3\" font-family=\"Helvetica,sans-Serif\" font-size=\"14.00\">gini = 0.0</text>\n",
       "<text text-anchor=\"start\" x=\"9.5\" y=\"-149.3\" font-family=\"Helvetica,sans-Serif\" font-size=\"14.00\">samples = 3511</text>\n",
       "<text text-anchor=\"start\" x=\"8\" y=\"-134.3\" font-family=\"Helvetica,sans-Serif\" font-size=\"14.00\">value = [0, 3511]</text>\n",
       "<text text-anchor=\"start\" x=\"34\" y=\"-119.3\" font-family=\"Helvetica,sans-Serif\" font-size=\"14.00\">class = r</text>\n",
       "</g>\n",
       "<!-- 7&#45;&gt;8 -->\n",
       "<g id=\"edge8\" class=\"edge\">\n",
       "<title>7&#45;&gt;8</title>\n",
       "<path fill=\"none\" stroke=\"black\" d=\"M147.2,-222.91C133.88,-211.1 119.35,-198.22 106.07,-186.45\"/>\n",
       "<polygon fill=\"black\" stroke=\"black\" points=\"108.22,-183.68 98.42,-179.67 103.58,-188.92 108.22,-183.68\"/>\n",
       "</g>\n",
       "<!-- 9 -->\n",
       "<g id=\"node10\" class=\"node\">\n",
       "<title>9</title>\n",
       "<path fill=\"#e58139\" stroke=\"black\" d=\"M241.5,-179.5C241.5,-179.5 152.5,-179.5 152.5,-179.5 146.5,-179.5 140.5,-173.5 140.5,-167.5 140.5,-167.5 140.5,-123.5 140.5,-123.5 140.5,-117.5 146.5,-111.5 152.5,-111.5 152.5,-111.5 241.5,-111.5 241.5,-111.5 247.5,-111.5 253.5,-117.5 253.5,-123.5 253.5,-123.5 253.5,-167.5 253.5,-167.5 253.5,-173.5 247.5,-179.5 241.5,-179.5\"/>\n",
       "<text text-anchor=\"start\" x=\"168\" y=\"-164.3\" font-family=\"Helvetica,sans-Serif\" font-size=\"14.00\">gini = 0.0</text>\n",
       "<text text-anchor=\"start\" x=\"149.5\" y=\"-149.3\" font-family=\"Helvetica,sans-Serif\" font-size=\"14.00\">samples = 423</text>\n",
       "<text text-anchor=\"start\" x=\"148.5\" y=\"-134.3\" font-family=\"Helvetica,sans-Serif\" font-size=\"14.00\">value = [423, 0]</text>\n",
       "<text text-anchor=\"start\" x=\"170\" y=\"-119.3\" font-family=\"Helvetica,sans-Serif\" font-size=\"14.00\">class = f</text>\n",
       "</g>\n",
       "<!-- 7&#45;&gt;9 -->\n",
       "<g id=\"edge9\" class=\"edge\">\n",
       "<title>7&#45;&gt;9</title>\n",
       "<path fill=\"none\" stroke=\"black\" d=\"M194.39,-222.91C194.75,-212.2 195.15,-200.62 195.52,-189.78\"/>\n",
       "<polygon fill=\"black\" stroke=\"black\" points=\"199.02,-189.78 195.87,-179.67 192.03,-189.54 199.02,-189.78\"/>\n",
       "</g>\n",
       "<!-- 11 -->\n",
       "<g id=\"node12\" class=\"node\">\n",
       "<title>11</title>\n",
       "<path fill=\"#57ace9\" stroke=\"black\" d=\"M433.5,-187C433.5,-187 290.5,-187 290.5,-187 284.5,-187 278.5,-181 278.5,-175 278.5,-175 278.5,-116 278.5,-116 278.5,-110 284.5,-104 290.5,-104 290.5,-104 433.5,-104 433.5,-104 439.5,-104 445.5,-110 445.5,-116 445.5,-116 445.5,-175 445.5,-175 445.5,-181 439.5,-187 433.5,-187\"/>\n",
       "<text text-anchor=\"start\" x=\"286.5\" y=\"-171.8\" font-family=\"Helvetica,sans-Serif\" font-size=\"14.00\">used_pin_number ≤ 0.5</text>\n",
       "<text text-anchor=\"start\" x=\"328.5\" y=\"-156.8\" font-family=\"Helvetica,sans-Serif\" font-size=\"14.00\">gini = 0.23</text>\n",
       "<text text-anchor=\"start\" x=\"314.5\" y=\"-141.8\" font-family=\"Helvetica,sans-Serif\" font-size=\"14.00\">samples = 271</text>\n",
       "<text text-anchor=\"start\" x=\"309\" y=\"-126.8\" font-family=\"Helvetica,sans-Serif\" font-size=\"14.00\">value = [36, 235]</text>\n",
       "<text text-anchor=\"start\" x=\"335\" y=\"-111.8\" font-family=\"Helvetica,sans-Serif\" font-size=\"14.00\">class = r</text>\n",
       "</g>\n",
       "<!-- 10&#45;&gt;11 -->\n",
       "<g id=\"edge11\" class=\"edge\">\n",
       "<title>10&#45;&gt;11</title>\n",
       "<path fill=\"none\" stroke=\"black\" d=\"M364.61,-222.91C364.33,-214.56 364.02,-205.67 363.73,-197.02\"/>\n",
       "<polygon fill=\"black\" stroke=\"black\" points=\"367.23,-196.9 363.39,-187.02 360.23,-197.13 367.23,-196.9\"/>\n",
       "</g>\n",
       "<!-- 14 -->\n",
       "<g id=\"node15\" class=\"node\">\n",
       "<title>14</title>\n",
       "<path fill=\"#e58139\" stroke=\"black\" d=\"M574,-179.5C574,-179.5 476,-179.5 476,-179.5 470,-179.5 464,-173.5 464,-167.5 464,-167.5 464,-123.5 464,-123.5 464,-117.5 470,-111.5 476,-111.5 476,-111.5 574,-111.5 574,-111.5 580,-111.5 586,-117.5 586,-123.5 586,-123.5 586,-167.5 586,-167.5 586,-173.5 580,-179.5 574,-179.5\"/>\n",
       "<text text-anchor=\"start\" x=\"496\" y=\"-164.3\" font-family=\"Helvetica,sans-Serif\" font-size=\"14.00\">gini = 0.0</text>\n",
       "<text text-anchor=\"start\" x=\"473.5\" y=\"-149.3\" font-family=\"Helvetica,sans-Serif\" font-size=\"14.00\">samples = 1942</text>\n",
       "<text text-anchor=\"start\" x=\"472\" y=\"-134.3\" font-family=\"Helvetica,sans-Serif\" font-size=\"14.00\">value = [1942, 0]</text>\n",
       "<text text-anchor=\"start\" x=\"498\" y=\"-119.3\" font-family=\"Helvetica,sans-Serif\" font-size=\"14.00\">class = f</text>\n",
       "</g>\n",
       "<!-- 10&#45;&gt;14 -->\n",
       "<g id=\"edge14\" class=\"edge\">\n",
       "<title>10&#45;&gt;14</title>\n",
       "<path fill=\"none\" stroke=\"black\" d=\"M421.16,-222.91C437.51,-210.88 455.37,-197.73 471.6,-185.79\"/>\n",
       "<polygon fill=\"black\" stroke=\"black\" points=\"473.95,-188.41 479.93,-179.67 469.8,-182.77 473.95,-188.41\"/>\n",
       "</g>\n",
       "<!-- 12 -->\n",
       "<g id=\"node13\" class=\"node\">\n",
       "<title>12</title>\n",
       "<path fill=\"#399de5\" stroke=\"black\" d=\"M343.5,-68C343.5,-68 254.5,-68 254.5,-68 248.5,-68 242.5,-62 242.5,-56 242.5,-56 242.5,-12 242.5,-12 242.5,-6 248.5,0 254.5,0 254.5,0 343.5,0 343.5,0 349.5,0 355.5,-6 355.5,-12 355.5,-12 355.5,-56 355.5,-56 355.5,-62 349.5,-68 343.5,-68\"/>\n",
       "<text text-anchor=\"start\" x=\"270\" y=\"-52.8\" font-family=\"Helvetica,sans-Serif\" font-size=\"14.00\">gini = 0.0</text>\n",
       "<text text-anchor=\"start\" x=\"251.5\" y=\"-37.8\" font-family=\"Helvetica,sans-Serif\" font-size=\"14.00\">samples = 235</text>\n",
       "<text text-anchor=\"start\" x=\"250.5\" y=\"-22.8\" font-family=\"Helvetica,sans-Serif\" font-size=\"14.00\">value = [0, 235]</text>\n",
       "<text text-anchor=\"start\" x=\"272\" y=\"-7.8\" font-family=\"Helvetica,sans-Serif\" font-size=\"14.00\">class = r</text>\n",
       "</g>\n",
       "<!-- 11&#45;&gt;12 -->\n",
       "<g id=\"edge12\" class=\"edge\">\n",
       "<title>11&#45;&gt;12</title>\n",
       "<path fill=\"none\" stroke=\"black\" d=\"M338.54,-103.73C333.56,-95.06 328.28,-85.9 323.27,-77.18\"/>\n",
       "<polygon fill=\"black\" stroke=\"black\" points=\"326.18,-75.22 318.16,-68.3 320.11,-78.71 326.18,-75.22\"/>\n",
       "</g>\n",
       "<!-- 13 -->\n",
       "<g id=\"node14\" class=\"node\">\n",
       "<title>13</title>\n",
       "<path fill=\"#e58139\" stroke=\"black\" d=\"M466.5,-68C466.5,-68 385.5,-68 385.5,-68 379.5,-68 373.5,-62 373.5,-56 373.5,-56 373.5,-12 373.5,-12 373.5,-6 379.5,0 385.5,0 385.5,0 466.5,0 466.5,0 472.5,0 478.5,-6 478.5,-12 478.5,-12 478.5,-56 478.5,-56 478.5,-62 472.5,-68 466.5,-68\"/>\n",
       "<text text-anchor=\"start\" x=\"397\" y=\"-52.8\" font-family=\"Helvetica,sans-Serif\" font-size=\"14.00\">gini = 0.0</text>\n",
       "<text text-anchor=\"start\" x=\"382.5\" y=\"-37.8\" font-family=\"Helvetica,sans-Serif\" font-size=\"14.00\">samples = 36</text>\n",
       "<text text-anchor=\"start\" x=\"381.5\" y=\"-22.8\" font-family=\"Helvetica,sans-Serif\" font-size=\"14.00\">value = [36, 0]</text>\n",
       "<text text-anchor=\"start\" x=\"399\" y=\"-7.8\" font-family=\"Helvetica,sans-Serif\" font-size=\"14.00\">class = f</text>\n",
       "</g>\n",
       "<!-- 11&#45;&gt;13 -->\n",
       "<g id=\"edge13\" class=\"edge\">\n",
       "<title>11&#45;&gt;13</title>\n",
       "<path fill=\"none\" stroke=\"black\" d=\"M385.83,-103.73C390.9,-95.06 396.25,-85.9 401.35,-77.18\"/>\n",
       "<polygon fill=\"black\" stroke=\"black\" points=\"404.51,-78.7 406.54,-68.3 398.47,-75.17 404.51,-78.7\"/>\n",
       "</g>\n",
       "<!-- 16 -->\n",
       "<g id=\"node17\" class=\"node\">\n",
       "<title>16</title>\n",
       "<path fill=\"#e5833c\" stroke=\"black\" d=\"M774,-544C774,-544 532,-544 532,-544 526,-544 520,-538 520,-532 520,-532 520,-473 520,-473 520,-467 526,-461 532,-461 532,-461 774,-461 774,-461 780,-461 786,-467 786,-473 786,-473 786,-532 786,-532 786,-538 780,-544 774,-544\"/>\n",
       "<text text-anchor=\"start\" x=\"528\" y=\"-528.8\" font-family=\"Helvetica,sans-Serif\" font-size=\"14.00\">distance_from_last_transaction ≤ 50.14</text>\n",
       "<text text-anchor=\"start\" x=\"615.5\" y=\"-513.8\" font-family=\"Helvetica,sans-Serif\" font-size=\"14.00\">gini = 0.028</text>\n",
       "<text text-anchor=\"start\" x=\"597\" y=\"-498.8\" font-family=\"Helvetica,sans-Serif\" font-size=\"14.00\">samples = 11703</text>\n",
       "<text text-anchor=\"start\" x=\"588\" y=\"-483.8\" font-family=\"Helvetica,sans-Serif\" font-size=\"14.00\">value = [11539, 164]</text>\n",
       "<text text-anchor=\"start\" x=\"626\" y=\"-468.8\" font-family=\"Helvetica,sans-Serif\" font-size=\"14.00\">class = f</text>\n",
       "</g>\n",
       "<!-- 15&#45;&gt;16 -->\n",
       "<g id=\"edge16\" class=\"edge\">\n",
       "<title>15&#45;&gt;16</title>\n",
       "<path fill=\"none\" stroke=\"black\" d=\"M728.1,-579.91C719,-570.65 709.25,-560.73 699.89,-551.21\"/>\n",
       "<polygon fill=\"black\" stroke=\"black\" points=\"702.33,-548.7 692.83,-544.02 697.34,-553.61 702.33,-548.7\"/>\n",
       "</g>\n",
       "<!-- 21 -->\n",
       "<g id=\"node22\" class=\"node\">\n",
       "<title>21</title>\n",
       "<path fill=\"#c2e1f7\" stroke=\"black\" d=\"M947.5,-544C947.5,-544 816.5,-544 816.5,-544 810.5,-544 804.5,-538 804.5,-532 804.5,-532 804.5,-473 804.5,-473 804.5,-467 810.5,-461 816.5,-461 816.5,-461 947.5,-461 947.5,-461 953.5,-461 959.5,-467 959.5,-473 959.5,-473 959.5,-532 959.5,-532 959.5,-538 953.5,-544 947.5,-544\"/>\n",
       "<text text-anchor=\"start\" x=\"831\" y=\"-528.8\" font-family=\"Helvetica,sans-Serif\" font-size=\"14.00\">used_chip ≤ 0.5</text>\n",
       "<text text-anchor=\"start\" x=\"844.5\" y=\"-513.8\" font-family=\"Helvetica,sans-Serif\" font-size=\"14.00\">gini = 0.483</text>\n",
       "<text text-anchor=\"start\" x=\"826\" y=\"-498.8\" font-family=\"Helvetica,sans-Serif\" font-size=\"14.00\">samples = 21737</text>\n",
       "<text text-anchor=\"start\" x=\"812.5\" y=\"-483.8\" font-family=\"Helvetica,sans-Serif\" font-size=\"14.00\">value = [8873, 12864]</text>\n",
       "<text text-anchor=\"start\" x=\"855\" y=\"-468.8\" font-family=\"Helvetica,sans-Serif\" font-size=\"14.00\">class = r</text>\n",
       "</g>\n",
       "<!-- 15&#45;&gt;21 -->\n",
       "<g id=\"edge21\" class=\"edge\">\n",
       "<title>15&#45;&gt;21</title>\n",
       "<path fill=\"none\" stroke=\"black\" d=\"M807.55,-579.91C816.57,-570.65 826.24,-560.73 835.51,-551.21\"/>\n",
       "<polygon fill=\"black\" stroke=\"black\" points=\"838.05,-553.63 842.52,-544.02 833.03,-548.74 838.05,-553.63\"/>\n",
       "</g>\n",
       "<!-- 17 -->\n",
       "<g id=\"node18\" class=\"node\">\n",
       "<title>17</title>\n",
       "<path fill=\"#e58139\" stroke=\"black\" d=\"M550,-417.5C550,-417.5 444,-417.5 444,-417.5 438,-417.5 432,-411.5 432,-405.5 432,-405.5 432,-361.5 432,-361.5 432,-355.5 438,-349.5 444,-349.5 444,-349.5 550,-349.5 550,-349.5 556,-349.5 562,-355.5 562,-361.5 562,-361.5 562,-405.5 562,-405.5 562,-411.5 556,-417.5 550,-417.5\"/>\n",
       "<text text-anchor=\"start\" x=\"468\" y=\"-402.3\" font-family=\"Helvetica,sans-Serif\" font-size=\"14.00\">gini = 0.0</text>\n",
       "<text text-anchor=\"start\" x=\"441\" y=\"-387.3\" font-family=\"Helvetica,sans-Serif\" font-size=\"14.00\">samples = 11517</text>\n",
       "<text text-anchor=\"start\" x=\"440\" y=\"-372.3\" font-family=\"Helvetica,sans-Serif\" font-size=\"14.00\">value = [11517, 0]</text>\n",
       "<text text-anchor=\"start\" x=\"470\" y=\"-357.3\" font-family=\"Helvetica,sans-Serif\" font-size=\"14.00\">class = f</text>\n",
       "</g>\n",
       "<!-- 16&#45;&gt;17 -->\n",
       "<g id=\"edge17\" class=\"edge\">\n",
       "<title>16&#45;&gt;17</title>\n",
       "<path fill=\"none\" stroke=\"black\" d=\"M598.88,-460.91C582.84,-448.88 565.31,-435.73 549.39,-423.79\"/>\n",
       "<polygon fill=\"black\" stroke=\"black\" points=\"551.32,-420.87 541.22,-417.67 547.12,-426.47 551.32,-420.87\"/>\n",
       "</g>\n",
       "<!-- 18 -->\n",
       "<g id=\"node19\" class=\"node\">\n",
       "<title>18</title>\n",
       "<path fill=\"#54aae8\" stroke=\"black\" d=\"M735.5,-425C735.5,-425 592.5,-425 592.5,-425 586.5,-425 580.5,-419 580.5,-413 580.5,-413 580.5,-354 580.5,-354 580.5,-348 586.5,-342 592.5,-342 592.5,-342 735.5,-342 735.5,-342 741.5,-342 747.5,-348 747.5,-354 747.5,-354 747.5,-413 747.5,-413 747.5,-419 741.5,-425 735.5,-425\"/>\n",
       "<text text-anchor=\"start\" x=\"588.5\" y=\"-409.8\" font-family=\"Helvetica,sans-Serif\" font-size=\"14.00\">used_pin_number ≤ 0.5</text>\n",
       "<text text-anchor=\"start\" x=\"626.5\" y=\"-394.8\" font-family=\"Helvetica,sans-Serif\" font-size=\"14.00\">gini = 0.209</text>\n",
       "<text text-anchor=\"start\" x=\"616.5\" y=\"-379.8\" font-family=\"Helvetica,sans-Serif\" font-size=\"14.00\">samples = 186</text>\n",
       "<text text-anchor=\"start\" x=\"611\" y=\"-364.8\" font-family=\"Helvetica,sans-Serif\" font-size=\"14.00\">value = [22, 164]</text>\n",
       "<text text-anchor=\"start\" x=\"637\" y=\"-349.8\" font-family=\"Helvetica,sans-Serif\" font-size=\"14.00\">class = r</text>\n",
       "</g>\n",
       "<!-- 16&#45;&gt;18 -->\n",
       "<g id=\"edge18\" class=\"edge\">\n",
       "<title>16&#45;&gt;18</title>\n",
       "<path fill=\"none\" stroke=\"black\" d=\"M656.82,-460.91C657.6,-452.56 658.44,-443.67 659.25,-435.02\"/>\n",
       "<polygon fill=\"black\" stroke=\"black\" points=\"662.74,-435.3 660.19,-425.02 655.77,-434.65 662.74,-435.3\"/>\n",
       "</g>\n",
       "<!-- 19 -->\n",
       "<g id=\"node20\" class=\"node\">\n",
       "<title>19</title>\n",
       "<path fill=\"#399de5\" stroke=\"black\" d=\"M581.5,-298.5C581.5,-298.5 492.5,-298.5 492.5,-298.5 486.5,-298.5 480.5,-292.5 480.5,-286.5 480.5,-286.5 480.5,-242.5 480.5,-242.5 480.5,-236.5 486.5,-230.5 492.5,-230.5 492.5,-230.5 581.5,-230.5 581.5,-230.5 587.5,-230.5 593.5,-236.5 593.5,-242.5 593.5,-242.5 593.5,-286.5 593.5,-286.5 593.5,-292.5 587.5,-298.5 581.5,-298.5\"/>\n",
       "<text text-anchor=\"start\" x=\"508\" y=\"-283.3\" font-family=\"Helvetica,sans-Serif\" font-size=\"14.00\">gini = 0.0</text>\n",
       "<text text-anchor=\"start\" x=\"489.5\" y=\"-268.3\" font-family=\"Helvetica,sans-Serif\" font-size=\"14.00\">samples = 164</text>\n",
       "<text text-anchor=\"start\" x=\"488.5\" y=\"-253.3\" font-family=\"Helvetica,sans-Serif\" font-size=\"14.00\">value = [0, 164]</text>\n",
       "<text text-anchor=\"start\" x=\"510\" y=\"-238.3\" font-family=\"Helvetica,sans-Serif\" font-size=\"14.00\">class = r</text>\n",
       "</g>\n",
       "<!-- 18&#45;&gt;19 -->\n",
       "<g id=\"edge19\" class=\"edge\">\n",
       "<title>18&#45;&gt;19</title>\n",
       "<path fill=\"none\" stroke=\"black\" d=\"M619.94,-341.91C607.12,-330.1 593.14,-317.22 580.36,-305.45\"/>\n",
       "<polygon fill=\"black\" stroke=\"black\" points=\"582.73,-302.87 573,-298.67 577.98,-308.02 582.73,-302.87\"/>\n",
       "</g>\n",
       "<!-- 20 -->\n",
       "<g id=\"node21\" class=\"node\">\n",
       "<title>20</title>\n",
       "<path fill=\"#e58139\" stroke=\"black\" d=\"M704.5,-298.5C704.5,-298.5 623.5,-298.5 623.5,-298.5 617.5,-298.5 611.5,-292.5 611.5,-286.5 611.5,-286.5 611.5,-242.5 611.5,-242.5 611.5,-236.5 617.5,-230.5 623.5,-230.5 623.5,-230.5 704.5,-230.5 704.5,-230.5 710.5,-230.5 716.5,-236.5 716.5,-242.5 716.5,-242.5 716.5,-286.5 716.5,-286.5 716.5,-292.5 710.5,-298.5 704.5,-298.5\"/>\n",
       "<text text-anchor=\"start\" x=\"635\" y=\"-283.3\" font-family=\"Helvetica,sans-Serif\" font-size=\"14.00\">gini = 0.0</text>\n",
       "<text text-anchor=\"start\" x=\"620.5\" y=\"-268.3\" font-family=\"Helvetica,sans-Serif\" font-size=\"14.00\">samples = 22</text>\n",
       "<text text-anchor=\"start\" x=\"619.5\" y=\"-253.3\" font-family=\"Helvetica,sans-Serif\" font-size=\"14.00\">value = [22, 0]</text>\n",
       "<text text-anchor=\"start\" x=\"637\" y=\"-238.3\" font-family=\"Helvetica,sans-Serif\" font-size=\"14.00\">class = f</text>\n",
       "</g>\n",
       "<!-- 18&#45;&gt;20 -->\n",
       "<g id=\"edge20\" class=\"edge\">\n",
       "<title>18&#45;&gt;20</title>\n",
       "<path fill=\"none\" stroke=\"black\" d=\"M664,-341.91C664,-331.2 664,-319.62 664,-308.78\"/>\n",
       "<polygon fill=\"black\" stroke=\"black\" points=\"667.5,-308.67 664,-298.67 660.5,-308.67 667.5,-308.67\"/>\n",
       "</g>\n",
       "<!-- 22 -->\n",
       "<g id=\"node23\" class=\"node\">\n",
       "<title>22</title>\n",
       "<path fill=\"#4fa8e8\" stroke=\"black\" d=\"M942.5,-425C942.5,-425 799.5,-425 799.5,-425 793.5,-425 787.5,-419 787.5,-413 787.5,-413 787.5,-354 787.5,-354 787.5,-348 793.5,-342 799.5,-342 799.5,-342 942.5,-342 942.5,-342 948.5,-342 954.5,-348 954.5,-354 954.5,-354 954.5,-413 954.5,-413 954.5,-419 948.5,-425 942.5,-425\"/>\n",
       "<text text-anchor=\"start\" x=\"795.5\" y=\"-409.8\" font-family=\"Helvetica,sans-Serif\" font-size=\"14.00\">used_pin_number ≤ 0.5</text>\n",
       "<text text-anchor=\"start\" x=\"833.5\" y=\"-394.8\" font-family=\"Helvetica,sans-Serif\" font-size=\"14.00\">gini = 0.178</text>\n",
       "<text text-anchor=\"start\" x=\"815\" y=\"-379.8\" font-family=\"Helvetica,sans-Serif\" font-size=\"14.00\">samples = 14157</text>\n",
       "<text text-anchor=\"start\" x=\"801.5\" y=\"-364.8\" font-family=\"Helvetica,sans-Serif\" font-size=\"14.00\">value = [1394, 12763]</text>\n",
       "<text text-anchor=\"start\" x=\"844\" y=\"-349.8\" font-family=\"Helvetica,sans-Serif\" font-size=\"14.00\">class = r</text>\n",
       "</g>\n",
       "<!-- 21&#45;&gt;22 -->\n",
       "<g id=\"edge22\" class=\"edge\">\n",
       "<title>21&#45;&gt;22</title>\n",
       "<path fill=\"none\" stroke=\"black\" d=\"M878.18,-460.91C877.4,-452.56 876.56,-443.67 875.75,-435.02\"/>\n",
       "<polygon fill=\"black\" stroke=\"black\" points=\"879.23,-434.65 874.81,-425.02 872.26,-435.3 879.23,-434.65\"/>\n",
       "</g>\n",
       "<!-- 25 -->\n",
       "<g id=\"node26\" class=\"node\">\n",
       "<title>25</title>\n",
       "<path fill=\"#e5833c\" stroke=\"black\" d=\"M1235,-425C1235,-425 985,-425 985,-425 979,-425 973,-419 973,-413 973,-413 973,-354 973,-354 973,-348 979,-342 985,-342 985,-342 1235,-342 1235,-342 1241,-342 1247,-348 1247,-354 1247,-354 1247,-413 1247,-413 1247,-419 1241,-425 1235,-425\"/>\n",
       "<text text-anchor=\"start\" x=\"981\" y=\"-409.8\" font-family=\"Helvetica,sans-Serif\" font-size=\"14.00\">distance_from_last_transaction ≤ 50.625</text>\n",
       "<text text-anchor=\"start\" x=\"1072.5\" y=\"-394.8\" font-family=\"Helvetica,sans-Serif\" font-size=\"14.00\">gini = 0.026</text>\n",
       "<text text-anchor=\"start\" x=\"1058.5\" y=\"-379.8\" font-family=\"Helvetica,sans-Serif\" font-size=\"14.00\">samples = 7580</text>\n",
       "<text text-anchor=\"start\" x=\"1049\" y=\"-364.8\" font-family=\"Helvetica,sans-Serif\" font-size=\"14.00\">value = [7479, 101]</text>\n",
       "<text text-anchor=\"start\" x=\"1083\" y=\"-349.8\" font-family=\"Helvetica,sans-Serif\" font-size=\"14.00\">class = f</text>\n",
       "</g>\n",
       "<!-- 21&#45;&gt;25 -->\n",
       "<g id=\"edge25\" class=\"edge\">\n",
       "<title>21&#45;&gt;25</title>\n",
       "<path fill=\"none\" stroke=\"black\" d=\"M959.51,-461.73C979.53,-451.45 1001.22,-440.32 1021.74,-429.79\"/>\n",
       "<polygon fill=\"black\" stroke=\"black\" points=\"1023.47,-432.84 1030.77,-425.16 1020.27,-426.61 1023.47,-432.84\"/>\n",
       "</g>\n",
       "<!-- 23 -->\n",
       "<g id=\"node24\" class=\"node\">\n",
       "<title>23</title>\n",
       "<path fill=\"#399de5\" stroke=\"black\" d=\"M853,-298.5C853,-298.5 747,-298.5 747,-298.5 741,-298.5 735,-292.5 735,-286.5 735,-286.5 735,-242.5 735,-242.5 735,-236.5 741,-230.5 747,-230.5 747,-230.5 853,-230.5 853,-230.5 859,-230.5 865,-236.5 865,-242.5 865,-242.5 865,-286.5 865,-286.5 865,-292.5 859,-298.5 853,-298.5\"/>\n",
       "<text text-anchor=\"start\" x=\"771\" y=\"-283.3\" font-family=\"Helvetica,sans-Serif\" font-size=\"14.00\">gini = 0.0</text>\n",
       "<text text-anchor=\"start\" x=\"744\" y=\"-268.3\" font-family=\"Helvetica,sans-Serif\" font-size=\"14.00\">samples = 12763</text>\n",
       "<text text-anchor=\"start\" x=\"743\" y=\"-253.3\" font-family=\"Helvetica,sans-Serif\" font-size=\"14.00\">value = [0, 12763]</text>\n",
       "<text text-anchor=\"start\" x=\"773\" y=\"-238.3\" font-family=\"Helvetica,sans-Serif\" font-size=\"14.00\">class = r</text>\n",
       "</g>\n",
       "<!-- 22&#45;&gt;23 -->\n",
       "<g id=\"edge23\" class=\"edge\">\n",
       "<title>22&#45;&gt;23</title>\n",
       "<path fill=\"none\" stroke=\"black\" d=\"M846.37,-341.91C839.6,-330.76 832.26,-318.66 825.45,-307.44\"/>\n",
       "<polygon fill=\"black\" stroke=\"black\" points=\"828.31,-305.4 820.13,-298.67 822.32,-309.03 828.31,-305.4\"/>\n",
       "</g>\n",
       "<!-- 24 -->\n",
       "<g id=\"node25\" class=\"node\">\n",
       "<title>24</title>\n",
       "<path fill=\"#e58139\" stroke=\"black\" d=\"M993,-298.5C993,-298.5 895,-298.5 895,-298.5 889,-298.5 883,-292.5 883,-286.5 883,-286.5 883,-242.5 883,-242.5 883,-236.5 889,-230.5 895,-230.5 895,-230.5 993,-230.5 993,-230.5 999,-230.5 1005,-236.5 1005,-242.5 1005,-242.5 1005,-286.5 1005,-286.5 1005,-292.5 999,-298.5 993,-298.5\"/>\n",
       "<text text-anchor=\"start\" x=\"915\" y=\"-283.3\" font-family=\"Helvetica,sans-Serif\" font-size=\"14.00\">gini = 0.0</text>\n",
       "<text text-anchor=\"start\" x=\"892.5\" y=\"-268.3\" font-family=\"Helvetica,sans-Serif\" font-size=\"14.00\">samples = 1394</text>\n",
       "<text text-anchor=\"start\" x=\"891\" y=\"-253.3\" font-family=\"Helvetica,sans-Serif\" font-size=\"14.00\">value = [1394, 0]</text>\n",
       "<text text-anchor=\"start\" x=\"917\" y=\"-238.3\" font-family=\"Helvetica,sans-Serif\" font-size=\"14.00\">class = f</text>\n",
       "</g>\n",
       "<!-- 22&#45;&gt;24 -->\n",
       "<g id=\"edge24\" class=\"edge\">\n",
       "<title>22&#45;&gt;24</title>\n",
       "<path fill=\"none\" stroke=\"black\" d=\"M896.33,-341.91C903.28,-330.76 910.83,-318.66 917.83,-307.44\"/>\n",
       "<polygon fill=\"black\" stroke=\"black\" points=\"920.98,-309 923.31,-298.67 915.04,-305.3 920.98,-309\"/>\n",
       "</g>\n",
       "<!-- 26 -->\n",
       "<g id=\"node27\" class=\"node\">\n",
       "<title>26</title>\n",
       "<path fill=\"#e58139\" stroke=\"black\" d=\"M1133,-298.5C1133,-298.5 1035,-298.5 1035,-298.5 1029,-298.5 1023,-292.5 1023,-286.5 1023,-286.5 1023,-242.5 1023,-242.5 1023,-236.5 1029,-230.5 1035,-230.5 1035,-230.5 1133,-230.5 1133,-230.5 1139,-230.5 1145,-236.5 1145,-242.5 1145,-242.5 1145,-286.5 1145,-286.5 1145,-292.5 1139,-298.5 1133,-298.5\"/>\n",
       "<text text-anchor=\"start\" x=\"1055\" y=\"-283.3\" font-family=\"Helvetica,sans-Serif\" font-size=\"14.00\">gini = 0.0</text>\n",
       "<text text-anchor=\"start\" x=\"1032.5\" y=\"-268.3\" font-family=\"Helvetica,sans-Serif\" font-size=\"14.00\">samples = 7466</text>\n",
       "<text text-anchor=\"start\" x=\"1031\" y=\"-253.3\" font-family=\"Helvetica,sans-Serif\" font-size=\"14.00\">value = [7466, 0]</text>\n",
       "<text text-anchor=\"start\" x=\"1057\" y=\"-238.3\" font-family=\"Helvetica,sans-Serif\" font-size=\"14.00\">class = f</text>\n",
       "</g>\n",
       "<!-- 25&#45;&gt;26 -->\n",
       "<g id=\"edge26\" class=\"edge\">\n",
       "<title>25&#45;&gt;26</title>\n",
       "<path fill=\"none\" stroke=\"black\" d=\"M1100.98,-341.91C1098.58,-331.09 1095.97,-319.38 1093.54,-308.44\"/>\n",
       "<polygon fill=\"black\" stroke=\"black\" points=\"1096.96,-307.67 1091.37,-298.67 1090.12,-309.19 1096.96,-307.67\"/>\n",
       "</g>\n",
       "<!-- 27 -->\n",
       "<g id=\"node28\" class=\"node\">\n",
       "<title>27</title>\n",
       "<path fill=\"#52aae8\" stroke=\"black\" d=\"M1318.5,-306C1318.5,-306 1175.5,-306 1175.5,-306 1169.5,-306 1163.5,-300 1163.5,-294 1163.5,-294 1163.5,-235 1163.5,-235 1163.5,-229 1169.5,-223 1175.5,-223 1175.5,-223 1318.5,-223 1318.5,-223 1324.5,-223 1330.5,-229 1330.5,-235 1330.5,-235 1330.5,-294 1330.5,-294 1330.5,-300 1324.5,-306 1318.5,-306\"/>\n",
       "<text text-anchor=\"start\" x=\"1171.5\" y=\"-290.8\" font-family=\"Helvetica,sans-Serif\" font-size=\"14.00\">used_pin_number ≤ 0.5</text>\n",
       "<text text-anchor=\"start\" x=\"1209.5\" y=\"-275.8\" font-family=\"Helvetica,sans-Serif\" font-size=\"14.00\">gini = 0.202</text>\n",
       "<text text-anchor=\"start\" x=\"1199.5\" y=\"-260.8\" font-family=\"Helvetica,sans-Serif\" font-size=\"14.00\">samples = 114</text>\n",
       "<text text-anchor=\"start\" x=\"1194\" y=\"-245.8\" font-family=\"Helvetica,sans-Serif\" font-size=\"14.00\">value = [13, 101]</text>\n",
       "<text text-anchor=\"start\" x=\"1220\" y=\"-230.8\" font-family=\"Helvetica,sans-Serif\" font-size=\"14.00\">class = r</text>\n",
       "</g>\n",
       "<!-- 25&#45;&gt;27 -->\n",
       "<g id=\"edge27\" class=\"edge\">\n",
       "<title>25&#45;&gt;27</title>\n",
       "<path fill=\"none\" stroke=\"black\" d=\"M1157.53,-341.91C1168.58,-332.47 1180.44,-322.34 1191.79,-312.65\"/>\n",
       "<polygon fill=\"black\" stroke=\"black\" points=\"1194.22,-315.18 1199.55,-306.02 1189.68,-309.85 1194.22,-315.18\"/>\n",
       "</g>\n",
       "<!-- 28 -->\n",
       "<g id=\"node29\" class=\"node\">\n",
       "<title>28</title>\n",
       "<path fill=\"#399de5\" stroke=\"black\" d=\"M1166.5,-179.5C1166.5,-179.5 1077.5,-179.5 1077.5,-179.5 1071.5,-179.5 1065.5,-173.5 1065.5,-167.5 1065.5,-167.5 1065.5,-123.5 1065.5,-123.5 1065.5,-117.5 1071.5,-111.5 1077.5,-111.5 1077.5,-111.5 1166.5,-111.5 1166.5,-111.5 1172.5,-111.5 1178.5,-117.5 1178.5,-123.5 1178.5,-123.5 1178.5,-167.5 1178.5,-167.5 1178.5,-173.5 1172.5,-179.5 1166.5,-179.5\"/>\n",
       "<text text-anchor=\"start\" x=\"1093\" y=\"-164.3\" font-family=\"Helvetica,sans-Serif\" font-size=\"14.00\">gini = 0.0</text>\n",
       "<text text-anchor=\"start\" x=\"1074.5\" y=\"-149.3\" font-family=\"Helvetica,sans-Serif\" font-size=\"14.00\">samples = 101</text>\n",
       "<text text-anchor=\"start\" x=\"1073.5\" y=\"-134.3\" font-family=\"Helvetica,sans-Serif\" font-size=\"14.00\">value = [0, 101]</text>\n",
       "<text text-anchor=\"start\" x=\"1095\" y=\"-119.3\" font-family=\"Helvetica,sans-Serif\" font-size=\"14.00\">class = r</text>\n",
       "</g>\n",
       "<!-- 27&#45;&gt;28 -->\n",
       "<g id=\"edge28\" class=\"edge\">\n",
       "<title>27&#45;&gt;28</title>\n",
       "<path fill=\"none\" stroke=\"black\" d=\"M1203.63,-222.91C1191.14,-211.21 1177.51,-198.46 1165.03,-186.78\"/>\n",
       "<polygon fill=\"black\" stroke=\"black\" points=\"1167.13,-183.95 1157.43,-179.67 1162.34,-189.06 1167.13,-183.95\"/>\n",
       "</g>\n",
       "<!-- 29 -->\n",
       "<g id=\"node30\" class=\"node\">\n",
       "<title>29</title>\n",
       "<path fill=\"#e58139\" stroke=\"black\" d=\"M1289.5,-179.5C1289.5,-179.5 1208.5,-179.5 1208.5,-179.5 1202.5,-179.5 1196.5,-173.5 1196.5,-167.5 1196.5,-167.5 1196.5,-123.5 1196.5,-123.5 1196.5,-117.5 1202.5,-111.5 1208.5,-111.5 1208.5,-111.5 1289.5,-111.5 1289.5,-111.5 1295.5,-111.5 1301.5,-117.5 1301.5,-123.5 1301.5,-123.5 1301.5,-167.5 1301.5,-167.5 1301.5,-173.5 1295.5,-179.5 1289.5,-179.5\"/>\n",
       "<text text-anchor=\"start\" x=\"1220\" y=\"-164.3\" font-family=\"Helvetica,sans-Serif\" font-size=\"14.00\">gini = 0.0</text>\n",
       "<text text-anchor=\"start\" x=\"1205.5\" y=\"-149.3\" font-family=\"Helvetica,sans-Serif\" font-size=\"14.00\">samples = 13</text>\n",
       "<text text-anchor=\"start\" x=\"1204.5\" y=\"-134.3\" font-family=\"Helvetica,sans-Serif\" font-size=\"14.00\">value = [13, 0]</text>\n",
       "<text text-anchor=\"start\" x=\"1222\" y=\"-119.3\" font-family=\"Helvetica,sans-Serif\" font-size=\"14.00\">class = f</text>\n",
       "</g>\n",
       "<!-- 27&#45;&gt;29 -->\n",
       "<g id=\"edge29\" class=\"edge\">\n",
       "<title>27&#45;&gt;29</title>\n",
       "<path fill=\"none\" stroke=\"black\" d=\"M1247.69,-222.91C1247.88,-212.2 1248.07,-200.62 1248.26,-189.78\"/>\n",
       "<polygon fill=\"black\" stroke=\"black\" points=\"1251.76,-189.73 1248.43,-179.67 1244.76,-189.61 1251.76,-189.73\"/>\n",
       "</g>\n",
       "<!-- 31 -->\n",
       "<g id=\"node32\" class=\"node\">\n",
       "<title>31</title>\n",
       "<path fill=\"#e99356\" stroke=\"black\" d=\"M2089,-663C2089,-663 1893,-663 1893,-663 1887,-663 1881,-657 1881,-651 1881,-651 1881,-592 1881,-592 1881,-586 1887,-580 1893,-580 1893,-580 2089,-580 2089,-580 2095,-580 2101,-586 2101,-592 2101,-592 2101,-651 2101,-651 2101,-657 2095,-663 2089,-663\"/>\n",
       "<text text-anchor=\"start\" x=\"1889\" y=\"-647.8\" font-family=\"Helvetica,sans-Serif\" font-size=\"14.00\">distance_from_home ≤ 100.037</text>\n",
       "<text text-anchor=\"start\" x=\"1957.5\" y=\"-632.8\" font-family=\"Helvetica,sans-Serif\" font-size=\"14.00\">gini = 0.22</text>\n",
       "<text text-anchor=\"start\" x=\"1935\" y=\"-617.8\" font-family=\"Helvetica,sans-Serif\" font-size=\"14.00\">samples = 27286</text>\n",
       "<text text-anchor=\"start\" x=\"1921.5\" y=\"-602.8\" font-family=\"Helvetica,sans-Serif\" font-size=\"14.00\">value = [23844, 3442]</text>\n",
       "<text text-anchor=\"start\" x=\"1964\" y=\"-587.8\" font-family=\"Helvetica,sans-Serif\" font-size=\"14.00\">class = f</text>\n",
       "</g>\n",
       "<!-- 30&#45;&gt;31 -->\n",
       "<g id=\"edge31\" class=\"edge\">\n",
       "<title>30&#45;&gt;31</title>\n",
       "<path fill=\"none\" stroke=\"black\" d=\"M1991,-698.91C1991,-690.65 1991,-681.86 1991,-673.3\"/>\n",
       "<polygon fill=\"black\" stroke=\"black\" points=\"1994.5,-673.02 1991,-663.02 1987.5,-673.02 1994.5,-673.02\"/>\n",
       "</g>\n",
       "<!-- 52 -->\n",
       "<g id=\"node53\" class=\"node\">\n",
       "<title>52</title>\n",
       "<path fill=\"#4ea8e8\" stroke=\"black\" d=\"M2411.5,-663C2411.5,-663 2268.5,-663 2268.5,-663 2262.5,-663 2256.5,-657 2256.5,-651 2256.5,-651 2256.5,-592 2256.5,-592 2256.5,-586 2262.5,-580 2268.5,-580 2268.5,-580 2411.5,-580 2411.5,-580 2417.5,-580 2423.5,-586 2423.5,-592 2423.5,-592 2423.5,-651 2423.5,-651 2423.5,-657 2417.5,-663 2411.5,-663\"/>\n",
       "<text text-anchor=\"start\" x=\"2264.5\" y=\"-647.8\" font-family=\"Helvetica,sans-Serif\" font-size=\"14.00\">used_pin_number ≤ 0.5</text>\n",
       "<text text-anchor=\"start\" x=\"2302.5\" y=\"-632.8\" font-family=\"Helvetica,sans-Serif\" font-size=\"14.00\">gini = 0.175</text>\n",
       "<text text-anchor=\"start\" x=\"2284\" y=\"-617.8\" font-family=\"Helvetica,sans-Serif\" font-size=\"14.00\">samples = 50227</text>\n",
       "<text text-anchor=\"start\" x=\"2270.5\" y=\"-602.8\" font-family=\"Helvetica,sans-Serif\" font-size=\"14.00\">value = [4868, 45359]</text>\n",
       "<text text-anchor=\"start\" x=\"2313\" y=\"-587.8\" font-family=\"Helvetica,sans-Serif\" font-size=\"14.00\">class = r</text>\n",
       "</g>\n",
       "<!-- 30&#45;&gt;52 -->\n",
       "<g id=\"edge52\" class=\"edge\">\n",
       "<title>30&#45;&gt;52</title>\n",
       "<path fill=\"none\" stroke=\"black\" d=\"M2072.82,-712.07C2124.9,-694.61 2192.49,-671.95 2246.66,-653.79\"/>\n",
       "<polygon fill=\"black\" stroke=\"black\" points=\"2247.89,-657.07 2256.26,-650.57 2245.67,-650.43 2247.89,-657.07\"/>\n",
       "</g>\n",
       "<!-- 32 -->\n",
       "<g id=\"node33\" class=\"node\">\n",
       "<title>32</title>\n",
       "<path fill=\"#e78d4b\" stroke=\"black\" d=\"M1964.5,-544C1964.5,-544 1801.5,-544 1801.5,-544 1795.5,-544 1789.5,-538 1789.5,-532 1789.5,-532 1789.5,-473 1789.5,-473 1789.5,-467 1795.5,-461 1801.5,-461 1801.5,-461 1964.5,-461 1964.5,-461 1970.5,-461 1976.5,-467 1976.5,-473 1976.5,-473 1976.5,-532 1976.5,-532 1976.5,-538 1970.5,-544 1964.5,-544\"/>\n",
       "<text text-anchor=\"start\" x=\"1797.5\" y=\"-528.8\" font-family=\"Helvetica,sans-Serif\" font-size=\"14.00\">distance_from_home ≤ 1.9</text>\n",
       "<text text-anchor=\"start\" x=\"1845.5\" y=\"-513.8\" font-family=\"Helvetica,sans-Serif\" font-size=\"14.00\">gini = 0.155</text>\n",
       "<text text-anchor=\"start\" x=\"1827\" y=\"-498.8\" font-family=\"Helvetica,sans-Serif\" font-size=\"14.00\">samples = 25923</text>\n",
       "<text text-anchor=\"start\" x=\"1813.5\" y=\"-483.8\" font-family=\"Helvetica,sans-Serif\" font-size=\"14.00\">value = [23726, 2197]</text>\n",
       "<text text-anchor=\"start\" x=\"1856\" y=\"-468.8\" font-family=\"Helvetica,sans-Serif\" font-size=\"14.00\">class = f</text>\n",
       "</g>\n",
       "<!-- 31&#45;&gt;32 -->\n",
       "<g id=\"edge32\" class=\"edge\">\n",
       "<title>31&#45;&gt;32</title>\n",
       "<path fill=\"none\" stroke=\"black\" d=\"M1953.53,-579.91C1945.07,-570.74 1936.01,-560.93 1927.3,-551.49\"/>\n",
       "<polygon fill=\"black\" stroke=\"black\" points=\"1929.76,-548.99 1920.4,-544.02 1924.61,-553.74 1929.76,-548.99\"/>\n",
       "</g>\n",
       "<!-- 47 -->\n",
       "<g id=\"node48\" class=\"node\">\n",
       "<title>47</title>\n",
       "<path fill=\"#4ca6e7\" stroke=\"black\" d=\"M2170.5,-544C2170.5,-544 2027.5,-544 2027.5,-544 2021.5,-544 2015.5,-538 2015.5,-532 2015.5,-532 2015.5,-473 2015.5,-473 2015.5,-467 2021.5,-461 2027.5,-461 2027.5,-461 2170.5,-461 2170.5,-461 2176.5,-461 2182.5,-467 2182.5,-473 2182.5,-473 2182.5,-532 2182.5,-532 2182.5,-538 2176.5,-544 2170.5,-544\"/>\n",
       "<text text-anchor=\"start\" x=\"2023.5\" y=\"-528.8\" font-family=\"Helvetica,sans-Serif\" font-size=\"14.00\">used_pin_number ≤ 0.5</text>\n",
       "<text text-anchor=\"start\" x=\"2061.5\" y=\"-513.8\" font-family=\"Helvetica,sans-Serif\" font-size=\"14.00\">gini = 0.158</text>\n",
       "<text text-anchor=\"start\" x=\"2047.5\" y=\"-498.8\" font-family=\"Helvetica,sans-Serif\" font-size=\"14.00\">samples = 1363</text>\n",
       "<text text-anchor=\"start\" x=\"2038\" y=\"-483.8\" font-family=\"Helvetica,sans-Serif\" font-size=\"14.00\">value = [118, 1245]</text>\n",
       "<text text-anchor=\"start\" x=\"2072\" y=\"-468.8\" font-family=\"Helvetica,sans-Serif\" font-size=\"14.00\">class = r</text>\n",
       "</g>\n",
       "<!-- 31&#45;&gt;47 -->\n",
       "<g id=\"edge47\" class=\"edge\">\n",
       "<title>31&#45;&gt;47</title>\n",
       "<path fill=\"none\" stroke=\"black\" d=\"M2028.47,-579.91C2036.93,-570.74 2045.99,-560.93 2054.7,-551.49\"/>\n",
       "<polygon fill=\"black\" stroke=\"black\" points=\"2057.39,-553.74 2061.6,-544.02 2052.24,-548.99 2057.39,-553.74\"/>\n",
       "</g>\n",
       "<!-- 33 -->\n",
       "<g id=\"node34\" class=\"node\">\n",
       "<title>33</title>\n",
       "<path fill=\"#c3e1f7\" stroke=\"black\" d=\"M1716,-425C1716,-425 1594,-425 1594,-425 1588,-425 1582,-419 1582,-413 1582,-413 1582,-354 1582,-354 1582,-348 1588,-342 1594,-342 1594,-342 1716,-342 1716,-342 1722,-342 1728,-348 1728,-354 1728,-354 1728,-413 1728,-413 1728,-419 1722,-425 1716,-425\"/>\n",
       "<text text-anchor=\"start\" x=\"1604\" y=\"-409.8\" font-family=\"Helvetica,sans-Serif\" font-size=\"14.00\">used_chip ≤ 0.5</text>\n",
       "<text text-anchor=\"start\" x=\"1617.5\" y=\"-394.8\" font-family=\"Helvetica,sans-Serif\" font-size=\"14.00\">gini = 0.484</text>\n",
       "<text text-anchor=\"start\" x=\"1603.5\" y=\"-379.8\" font-family=\"Helvetica,sans-Serif\" font-size=\"14.00\">samples = 3207</text>\n",
       "<text text-anchor=\"start\" x=\"1590\" y=\"-364.8\" font-family=\"Helvetica,sans-Serif\" font-size=\"14.00\">value = [1319, 1888]</text>\n",
       "<text text-anchor=\"start\" x=\"1628\" y=\"-349.8\" font-family=\"Helvetica,sans-Serif\" font-size=\"14.00\">class = r</text>\n",
       "</g>\n",
       "<!-- 32&#45;&gt;33 -->\n",
       "<g id=\"edge33\" class=\"edge\">\n",
       "<title>32&#45;&gt;33</title>\n",
       "<path fill=\"none\" stroke=\"black\" d=\"M1803.9,-460.91C1782.4,-449.88 1759.07,-437.91 1737.4,-426.79\"/>\n",
       "<polygon fill=\"black\" stroke=\"black\" points=\"1738.72,-423.53 1728.22,-422.08 1735.52,-429.76 1738.72,-423.53\"/>\n",
       "</g>\n",
       "<!-- 42 -->\n",
       "<g id=\"node43\" class=\"node\">\n",
       "<title>42</title>\n",
       "<path fill=\"#e5833c\" stroke=\"black\" d=\"M2008,-425C2008,-425 1758,-425 1758,-425 1752,-425 1746,-419 1746,-413 1746,-413 1746,-354 1746,-354 1746,-348 1752,-342 1758,-342 1758,-342 2008,-342 2008,-342 2014,-342 2020,-348 2020,-354 2020,-354 2020,-413 2020,-413 2020,-419 2014,-425 2008,-425\"/>\n",
       "<text text-anchor=\"start\" x=\"1754\" y=\"-409.8\" font-family=\"Helvetica,sans-Serif\" font-size=\"14.00\">distance_from_last_transaction ≤ 49.988</text>\n",
       "<text text-anchor=\"start\" x=\"1845.5\" y=\"-394.8\" font-family=\"Helvetica,sans-Serif\" font-size=\"14.00\">gini = 0.027</text>\n",
       "<text text-anchor=\"start\" x=\"1827\" y=\"-379.8\" font-family=\"Helvetica,sans-Serif\" font-size=\"14.00\">samples = 22716</text>\n",
       "<text text-anchor=\"start\" x=\"1818\" y=\"-364.8\" font-family=\"Helvetica,sans-Serif\" font-size=\"14.00\">value = [22407, 309]</text>\n",
       "<text text-anchor=\"start\" x=\"1856\" y=\"-349.8\" font-family=\"Helvetica,sans-Serif\" font-size=\"14.00\">class = f</text>\n",
       "</g>\n",
       "<!-- 32&#45;&gt;42 -->\n",
       "<g id=\"edge42\" class=\"edge\">\n",
       "<title>32&#45;&gt;42</title>\n",
       "<path fill=\"none\" stroke=\"black\" d=\"M1883,-460.91C1883,-452.65 1883,-443.86 1883,-435.3\"/>\n",
       "<polygon fill=\"black\" stroke=\"black\" points=\"1886.5,-435.02 1883,-425.02 1879.5,-435.02 1886.5,-435.02\"/>\n",
       "</g>\n",
       "<!-- 34 -->\n",
       "<g id=\"node35\" class=\"node\">\n",
       "<title>34</title>\n",
       "<path fill=\"#4fa8e8\" stroke=\"black\" d=\"M1503.5,-306C1503.5,-306 1360.5,-306 1360.5,-306 1354.5,-306 1348.5,-300 1348.5,-294 1348.5,-294 1348.5,-235 1348.5,-235 1348.5,-229 1354.5,-223 1360.5,-223 1360.5,-223 1503.5,-223 1503.5,-223 1509.5,-223 1515.5,-229 1515.5,-235 1515.5,-235 1515.5,-294 1515.5,-294 1515.5,-300 1509.5,-306 1503.5,-306\"/>\n",
       "<text text-anchor=\"start\" x=\"1356.5\" y=\"-290.8\" font-family=\"Helvetica,sans-Serif\" font-size=\"14.00\">used_pin_number ≤ 0.5</text>\n",
       "<text text-anchor=\"start\" x=\"1394.5\" y=\"-275.8\" font-family=\"Helvetica,sans-Serif\" font-size=\"14.00\">gini = 0.182</text>\n",
       "<text text-anchor=\"start\" x=\"1380.5\" y=\"-260.8\" font-family=\"Helvetica,sans-Serif\" font-size=\"14.00\">samples = 2088</text>\n",
       "<text text-anchor=\"start\" x=\"1371\" y=\"-245.8\" font-family=\"Helvetica,sans-Serif\" font-size=\"14.00\">value = [211, 1877]</text>\n",
       "<text text-anchor=\"start\" x=\"1405\" y=\"-230.8\" font-family=\"Helvetica,sans-Serif\" font-size=\"14.00\">class = r</text>\n",
       "</g>\n",
       "<!-- 33&#45;&gt;34 -->\n",
       "<g id=\"edge34\" class=\"edge\">\n",
       "<title>33&#45;&gt;34</title>\n",
       "<path fill=\"none\" stroke=\"black\" d=\"M1581.98,-344.19C1561.64,-333.52 1539.35,-321.83 1518.33,-310.79\"/>\n",
       "<polygon fill=\"black\" stroke=\"black\" points=\"1519.88,-307.66 1509.4,-306.11 1516.63,-313.86 1519.88,-307.66\"/>\n",
       "</g>\n",
       "<!-- 37 -->\n",
       "<g id=\"node38\" class=\"node\">\n",
       "<title>37</title>\n",
       "<path fill=\"#e5823b\" stroke=\"black\" d=\"M1788,-306C1788,-306 1546,-306 1546,-306 1540,-306 1534,-300 1534,-294 1534,-294 1534,-235 1534,-235 1534,-229 1540,-223 1546,-223 1546,-223 1788,-223 1788,-223 1794,-223 1800,-229 1800,-235 1800,-235 1800,-294 1800,-294 1800,-300 1794,-306 1788,-306\"/>\n",
       "<text text-anchor=\"start\" x=\"1542\" y=\"-290.8\" font-family=\"Helvetica,sans-Serif\" font-size=\"14.00\">distance_from_last_transaction ≤ 49.56</text>\n",
       "<text text-anchor=\"start\" x=\"1629.5\" y=\"-275.8\" font-family=\"Helvetica,sans-Serif\" font-size=\"14.00\">gini = 0.019</text>\n",
       "<text text-anchor=\"start\" x=\"1615.5\" y=\"-260.8\" font-family=\"Helvetica,sans-Serif\" font-size=\"14.00\">samples = 1119</text>\n",
       "<text text-anchor=\"start\" x=\"1610\" y=\"-245.8\" font-family=\"Helvetica,sans-Serif\" font-size=\"14.00\">value = [1108, 11]</text>\n",
       "<text text-anchor=\"start\" x=\"1640\" y=\"-230.8\" font-family=\"Helvetica,sans-Serif\" font-size=\"14.00\">class = f</text>\n",
       "</g>\n",
       "<!-- 33&#45;&gt;37 -->\n",
       "<g id=\"edge37\" class=\"edge\">\n",
       "<title>33&#45;&gt;37</title>\n",
       "<path fill=\"none\" stroke=\"black\" d=\"M1659.16,-341.91C1660.02,-333.56 1660.93,-324.67 1661.82,-316.02\"/>\n",
       "<polygon fill=\"black\" stroke=\"black\" points=\"1665.31,-316.33 1662.84,-306.02 1658.34,-315.61 1665.31,-316.33\"/>\n",
       "</g>\n",
       "<!-- 35 -->\n",
       "<g id=\"node36\" class=\"node\">\n",
       "<title>35</title>\n",
       "<path fill=\"#399de5\" stroke=\"black\" d=\"M1438,-179.5C1438,-179.5 1340,-179.5 1340,-179.5 1334,-179.5 1328,-173.5 1328,-167.5 1328,-167.5 1328,-123.5 1328,-123.5 1328,-117.5 1334,-111.5 1340,-111.5 1340,-111.5 1438,-111.5 1438,-111.5 1444,-111.5 1450,-117.5 1450,-123.5 1450,-123.5 1450,-167.5 1450,-167.5 1450,-173.5 1444,-179.5 1438,-179.5\"/>\n",
       "<text text-anchor=\"start\" x=\"1360\" y=\"-164.3\" font-family=\"Helvetica,sans-Serif\" font-size=\"14.00\">gini = 0.0</text>\n",
       "<text text-anchor=\"start\" x=\"1337.5\" y=\"-149.3\" font-family=\"Helvetica,sans-Serif\" font-size=\"14.00\">samples = 1877</text>\n",
       "<text text-anchor=\"start\" x=\"1336\" y=\"-134.3\" font-family=\"Helvetica,sans-Serif\" font-size=\"14.00\">value = [0, 1877]</text>\n",
       "<text text-anchor=\"start\" x=\"1362\" y=\"-119.3\" font-family=\"Helvetica,sans-Serif\" font-size=\"14.00\">class = r</text>\n",
       "</g>\n",
       "<!-- 34&#45;&gt;35 -->\n",
       "<g id=\"edge35\" class=\"edge\">\n",
       "<title>34&#45;&gt;35</title>\n",
       "<path fill=\"none\" stroke=\"black\" d=\"M1417.08,-222.91C1413.07,-211.98 1408.71,-200.14 1404.66,-189.11\"/>\n",
       "<polygon fill=\"black\" stroke=\"black\" points=\"1407.92,-187.85 1401.19,-179.67 1401.35,-190.26 1407.92,-187.85\"/>\n",
       "</g>\n",
       "<!-- 36 -->\n",
       "<g id=\"node37\" class=\"node\">\n",
       "<title>36</title>\n",
       "<path fill=\"#e58139\" stroke=\"black\" d=\"M1569.5,-179.5C1569.5,-179.5 1480.5,-179.5 1480.5,-179.5 1474.5,-179.5 1468.5,-173.5 1468.5,-167.5 1468.5,-167.5 1468.5,-123.5 1468.5,-123.5 1468.5,-117.5 1474.5,-111.5 1480.5,-111.5 1480.5,-111.5 1569.5,-111.5 1569.5,-111.5 1575.5,-111.5 1581.5,-117.5 1581.5,-123.5 1581.5,-123.5 1581.5,-167.5 1581.5,-167.5 1581.5,-173.5 1575.5,-179.5 1569.5,-179.5\"/>\n",
       "<text text-anchor=\"start\" x=\"1496\" y=\"-164.3\" font-family=\"Helvetica,sans-Serif\" font-size=\"14.00\">gini = 0.0</text>\n",
       "<text text-anchor=\"start\" x=\"1477.5\" y=\"-149.3\" font-family=\"Helvetica,sans-Serif\" font-size=\"14.00\">samples = 211</text>\n",
       "<text text-anchor=\"start\" x=\"1476.5\" y=\"-134.3\" font-family=\"Helvetica,sans-Serif\" font-size=\"14.00\">value = [211, 0]</text>\n",
       "<text text-anchor=\"start\" x=\"1498\" y=\"-119.3\" font-family=\"Helvetica,sans-Serif\" font-size=\"14.00\">class = f</text>\n",
       "</g>\n",
       "<!-- 34&#45;&gt;36 -->\n",
       "<g id=\"edge36\" class=\"edge\">\n",
       "<title>34&#45;&gt;36</title>\n",
       "<path fill=\"none\" stroke=\"black\" d=\"M1464.27,-222.91C1473.3,-211.54 1483.13,-199.18 1492.19,-187.77\"/>\n",
       "<polygon fill=\"black\" stroke=\"black\" points=\"1495.15,-189.67 1498.64,-179.67 1489.67,-185.32 1495.15,-189.67\"/>\n",
       "</g>\n",
       "<!-- 38 -->\n",
       "<g id=\"node39\" class=\"node\">\n",
       "<title>38</title>\n",
       "<path fill=\"#e58139\" stroke=\"black\" d=\"M1714,-179.5C1714,-179.5 1616,-179.5 1616,-179.5 1610,-179.5 1604,-173.5 1604,-167.5 1604,-167.5 1604,-123.5 1604,-123.5 1604,-117.5 1610,-111.5 1616,-111.5 1616,-111.5 1714,-111.5 1714,-111.5 1720,-111.5 1726,-117.5 1726,-123.5 1726,-123.5 1726,-167.5 1726,-167.5 1726,-173.5 1720,-179.5 1714,-179.5\"/>\n",
       "<text text-anchor=\"start\" x=\"1636\" y=\"-164.3\" font-family=\"Helvetica,sans-Serif\" font-size=\"14.00\">gini = 0.0</text>\n",
       "<text text-anchor=\"start\" x=\"1613.5\" y=\"-149.3\" font-family=\"Helvetica,sans-Serif\" font-size=\"14.00\">samples = 1106</text>\n",
       "<text text-anchor=\"start\" x=\"1612\" y=\"-134.3\" font-family=\"Helvetica,sans-Serif\" font-size=\"14.00\">value = [1106, 0]</text>\n",
       "<text text-anchor=\"start\" x=\"1638\" y=\"-119.3\" font-family=\"Helvetica,sans-Serif\" font-size=\"14.00\">class = f</text>\n",
       "</g>\n",
       "<!-- 37&#45;&gt;38 -->\n",
       "<g id=\"edge38\" class=\"edge\">\n",
       "<title>37&#45;&gt;38</title>\n",
       "<path fill=\"none\" stroke=\"black\" d=\"M1666.31,-222.91C1666.12,-212.2 1665.93,-200.62 1665.74,-189.78\"/>\n",
       "<polygon fill=\"black\" stroke=\"black\" points=\"1669.24,-189.61 1665.57,-179.67 1662.24,-189.73 1669.24,-189.61\"/>\n",
       "</g>\n",
       "<!-- 39 -->\n",
       "<g id=\"node40\" class=\"node\">\n",
       "<title>39</title>\n",
       "<path fill=\"#5dafea\" stroke=\"black\" d=\"M1899.5,-187C1899.5,-187 1756.5,-187 1756.5,-187 1750.5,-187 1744.5,-181 1744.5,-175 1744.5,-175 1744.5,-116 1744.5,-116 1744.5,-110 1750.5,-104 1756.5,-104 1756.5,-104 1899.5,-104 1899.5,-104 1905.5,-104 1911.5,-110 1911.5,-116 1911.5,-116 1911.5,-175 1911.5,-175 1911.5,-181 1905.5,-187 1899.5,-187\"/>\n",
       "<text text-anchor=\"start\" x=\"1752.5\" y=\"-171.8\" font-family=\"Helvetica,sans-Serif\" font-size=\"14.00\">used_pin_number ≤ 0.5</text>\n",
       "<text text-anchor=\"start\" x=\"1794.5\" y=\"-156.8\" font-family=\"Helvetica,sans-Serif\" font-size=\"14.00\">gini = 0.26</text>\n",
       "<text text-anchor=\"start\" x=\"1784.5\" y=\"-141.8\" font-family=\"Helvetica,sans-Serif\" font-size=\"14.00\">samples = 13</text>\n",
       "<text text-anchor=\"start\" x=\"1783.5\" y=\"-126.8\" font-family=\"Helvetica,sans-Serif\" font-size=\"14.00\">value = [2, 11]</text>\n",
       "<text text-anchor=\"start\" x=\"1801\" y=\"-111.8\" font-family=\"Helvetica,sans-Serif\" font-size=\"14.00\">class = r</text>\n",
       "</g>\n",
       "<!-- 37&#45;&gt;39 -->\n",
       "<g id=\"edge39\" class=\"edge\">\n",
       "<title>37&#45;&gt;39</title>\n",
       "<path fill=\"none\" stroke=\"black\" d=\"M1722.86,-222.91C1736.1,-213.29 1750.32,-202.95 1763.89,-193.09\"/>\n",
       "<polygon fill=\"black\" stroke=\"black\" points=\"1766.21,-195.73 1772.24,-187.02 1762.09,-190.07 1766.21,-195.73\"/>\n",
       "</g>\n",
       "<!-- 40 -->\n",
       "<g id=\"node41\" class=\"node\">\n",
       "<title>40</title>\n",
       "<path fill=\"#399de5\" stroke=\"black\" d=\"M1809.5,-68C1809.5,-68 1728.5,-68 1728.5,-68 1722.5,-68 1716.5,-62 1716.5,-56 1716.5,-56 1716.5,-12 1716.5,-12 1716.5,-6 1722.5,0 1728.5,0 1728.5,0 1809.5,0 1809.5,0 1815.5,0 1821.5,-6 1821.5,-12 1821.5,-12 1821.5,-56 1821.5,-56 1821.5,-62 1815.5,-68 1809.5,-68\"/>\n",
       "<text text-anchor=\"start\" x=\"1740\" y=\"-52.8\" font-family=\"Helvetica,sans-Serif\" font-size=\"14.00\">gini = 0.0</text>\n",
       "<text text-anchor=\"start\" x=\"1725.5\" y=\"-37.8\" font-family=\"Helvetica,sans-Serif\" font-size=\"14.00\">samples = 11</text>\n",
       "<text text-anchor=\"start\" x=\"1724.5\" y=\"-22.8\" font-family=\"Helvetica,sans-Serif\" font-size=\"14.00\">value = [0, 11]</text>\n",
       "<text text-anchor=\"start\" x=\"1742\" y=\"-7.8\" font-family=\"Helvetica,sans-Serif\" font-size=\"14.00\">class = r</text>\n",
       "</g>\n",
       "<!-- 39&#45;&gt;40 -->\n",
       "<g id=\"edge40\" class=\"edge\">\n",
       "<title>39&#45;&gt;40</title>\n",
       "<path fill=\"none\" stroke=\"black\" d=\"M1806.03,-103.73C1801.36,-95.06 1796.42,-85.9 1791.73,-77.18\"/>\n",
       "<polygon fill=\"black\" stroke=\"black\" points=\"1794.77,-75.44 1786.94,-68.3 1788.6,-78.76 1794.77,-75.44\"/>\n",
       "</g>\n",
       "<!-- 41 -->\n",
       "<g id=\"node42\" class=\"node\">\n",
       "<title>41</title>\n",
       "<path fill=\"#e58139\" stroke=\"black\" d=\"M1924.5,-68C1924.5,-68 1851.5,-68 1851.5,-68 1845.5,-68 1839.5,-62 1839.5,-56 1839.5,-56 1839.5,-12 1839.5,-12 1839.5,-6 1845.5,0 1851.5,0 1851.5,0 1924.5,0 1924.5,0 1930.5,0 1936.5,-6 1936.5,-12 1936.5,-12 1936.5,-56 1936.5,-56 1936.5,-62 1930.5,-68 1924.5,-68\"/>\n",
       "<text text-anchor=\"start\" x=\"1859\" y=\"-52.8\" font-family=\"Helvetica,sans-Serif\" font-size=\"14.00\">gini = 0.0</text>\n",
       "<text text-anchor=\"start\" x=\"1848.5\" y=\"-37.8\" font-family=\"Helvetica,sans-Serif\" font-size=\"14.00\">samples = 2</text>\n",
       "<text text-anchor=\"start\" x=\"1847.5\" y=\"-22.8\" font-family=\"Helvetica,sans-Serif\" font-size=\"14.00\">value = [2, 0]</text>\n",
       "<text text-anchor=\"start\" x=\"1861\" y=\"-7.8\" font-family=\"Helvetica,sans-Serif\" font-size=\"14.00\">class = f</text>\n",
       "</g>\n",
       "<!-- 39&#45;&gt;41 -->\n",
       "<g id=\"edge41\" class=\"edge\">\n",
       "<title>39&#45;&gt;41</title>\n",
       "<path fill=\"none\" stroke=\"black\" d=\"M1850.34,-103.73C1855.09,-95.06 1860.11,-85.9 1864.89,-77.18\"/>\n",
       "<polygon fill=\"black\" stroke=\"black\" points=\"1868.02,-78.75 1869.75,-68.3 1861.88,-75.39 1868.02,-78.75\"/>\n",
       "</g>\n",
       "<!-- 43 -->\n",
       "<g id=\"node44\" class=\"node\">\n",
       "<title>43</title>\n",
       "<path fill=\"#e58139\" stroke=\"black\" d=\"M1936,-298.5C1936,-298.5 1830,-298.5 1830,-298.5 1824,-298.5 1818,-292.5 1818,-286.5 1818,-286.5 1818,-242.5 1818,-242.5 1818,-236.5 1824,-230.5 1830,-230.5 1830,-230.5 1936,-230.5 1936,-230.5 1942,-230.5 1948,-236.5 1948,-242.5 1948,-242.5 1948,-286.5 1948,-286.5 1948,-292.5 1942,-298.5 1936,-298.5\"/>\n",
       "<text text-anchor=\"start\" x=\"1854\" y=\"-283.3\" font-family=\"Helvetica,sans-Serif\" font-size=\"14.00\">gini = 0.0</text>\n",
       "<text text-anchor=\"start\" x=\"1827\" y=\"-268.3\" font-family=\"Helvetica,sans-Serif\" font-size=\"14.00\">samples = 22375</text>\n",
       "<text text-anchor=\"start\" x=\"1826\" y=\"-253.3\" font-family=\"Helvetica,sans-Serif\" font-size=\"14.00\">value = [22375, 0]</text>\n",
       "<text text-anchor=\"start\" x=\"1856\" y=\"-238.3\" font-family=\"Helvetica,sans-Serif\" font-size=\"14.00\">class = f</text>\n",
       "</g>\n",
       "<!-- 42&#45;&gt;43 -->\n",
       "<g id=\"edge43\" class=\"edge\">\n",
       "<title>42&#45;&gt;43</title>\n",
       "<path fill=\"none\" stroke=\"black\" d=\"M1883,-341.91C1883,-331.2 1883,-319.62 1883,-308.78\"/>\n",
       "<polygon fill=\"black\" stroke=\"black\" points=\"1886.5,-308.67 1883,-298.67 1879.5,-308.67 1886.5,-308.67\"/>\n",
       "</g>\n",
       "<!-- 44 -->\n",
       "<g id=\"node45\" class=\"node\">\n",
       "<title>44</title>\n",
       "<path fill=\"#4ea7e8\" stroke=\"black\" d=\"M2121.5,-306C2121.5,-306 1978.5,-306 1978.5,-306 1972.5,-306 1966.5,-300 1966.5,-294 1966.5,-294 1966.5,-235 1966.5,-235 1966.5,-229 1972.5,-223 1978.5,-223 1978.5,-223 2121.5,-223 2121.5,-223 2127.5,-223 2133.5,-229 2133.5,-235 2133.5,-235 2133.5,-294 2133.5,-294 2133.5,-300 2127.5,-306 2121.5,-306\"/>\n",
       "<text text-anchor=\"start\" x=\"1974.5\" y=\"-290.8\" font-family=\"Helvetica,sans-Serif\" font-size=\"14.00\">used_pin_number ≤ 0.5</text>\n",
       "<text text-anchor=\"start\" x=\"2016.5\" y=\"-275.8\" font-family=\"Helvetica,sans-Serif\" font-size=\"14.00\">gini = 0.17</text>\n",
       "<text text-anchor=\"start\" x=\"2002.5\" y=\"-260.8\" font-family=\"Helvetica,sans-Serif\" font-size=\"14.00\">samples = 341</text>\n",
       "<text text-anchor=\"start\" x=\"1997\" y=\"-245.8\" font-family=\"Helvetica,sans-Serif\" font-size=\"14.00\">value = [32, 309]</text>\n",
       "<text text-anchor=\"start\" x=\"2023\" y=\"-230.8\" font-family=\"Helvetica,sans-Serif\" font-size=\"14.00\">class = r</text>\n",
       "</g>\n",
       "<!-- 42&#45;&gt;44 -->\n",
       "<g id=\"edge44\" class=\"edge\">\n",
       "<title>42&#45;&gt;44</title>\n",
       "<path fill=\"none\" stroke=\"black\" d=\"M1940.94,-341.91C1954.8,-332.2 1969.7,-321.76 1983.9,-311.81\"/>\n",
       "<polygon fill=\"black\" stroke=\"black\" points=\"1985.98,-314.63 1992.16,-306.02 1981.96,-308.89 1985.98,-314.63\"/>\n",
       "</g>\n",
       "<!-- 45 -->\n",
       "<g id=\"node46\" class=\"node\">\n",
       "<title>45</title>\n",
       "<path fill=\"#399de5\" stroke=\"black\" d=\"M2063.5,-179.5C2063.5,-179.5 1974.5,-179.5 1974.5,-179.5 1968.5,-179.5 1962.5,-173.5 1962.5,-167.5 1962.5,-167.5 1962.5,-123.5 1962.5,-123.5 1962.5,-117.5 1968.5,-111.5 1974.5,-111.5 1974.5,-111.5 2063.5,-111.5 2063.5,-111.5 2069.5,-111.5 2075.5,-117.5 2075.5,-123.5 2075.5,-123.5 2075.5,-167.5 2075.5,-167.5 2075.5,-173.5 2069.5,-179.5 2063.5,-179.5\"/>\n",
       "<text text-anchor=\"start\" x=\"1990\" y=\"-164.3\" font-family=\"Helvetica,sans-Serif\" font-size=\"14.00\">gini = 0.0</text>\n",
       "<text text-anchor=\"start\" x=\"1971.5\" y=\"-149.3\" font-family=\"Helvetica,sans-Serif\" font-size=\"14.00\">samples = 309</text>\n",
       "<text text-anchor=\"start\" x=\"1970.5\" y=\"-134.3\" font-family=\"Helvetica,sans-Serif\" font-size=\"14.00\">value = [0, 309]</text>\n",
       "<text text-anchor=\"start\" x=\"1992\" y=\"-119.3\" font-family=\"Helvetica,sans-Serif\" font-size=\"14.00\">class = r</text>\n",
       "</g>\n",
       "<!-- 44&#45;&gt;45 -->\n",
       "<g id=\"edge45\" class=\"edge\">\n",
       "<title>44&#45;&gt;45</title>\n",
       "<path fill=\"none\" stroke=\"black\" d=\"M2039.24,-222.91C2036.38,-212.09 2033.27,-200.38 2030.38,-189.44\"/>\n",
       "<polygon fill=\"black\" stroke=\"black\" points=\"2033.73,-188.44 2027.79,-179.67 2026.97,-190.23 2033.73,-188.44\"/>\n",
       "</g>\n",
       "<!-- 46 -->\n",
       "<g id=\"node47\" class=\"node\">\n",
       "<title>46</title>\n",
       "<path fill=\"#e58139\" stroke=\"black\" d=\"M2186.5,-179.5C2186.5,-179.5 2105.5,-179.5 2105.5,-179.5 2099.5,-179.5 2093.5,-173.5 2093.5,-167.5 2093.5,-167.5 2093.5,-123.5 2093.5,-123.5 2093.5,-117.5 2099.5,-111.5 2105.5,-111.5 2105.5,-111.5 2186.5,-111.5 2186.5,-111.5 2192.5,-111.5 2198.5,-117.5 2198.5,-123.5 2198.5,-123.5 2198.5,-167.5 2198.5,-167.5 2198.5,-173.5 2192.5,-179.5 2186.5,-179.5\"/>\n",
       "<text text-anchor=\"start\" x=\"2117\" y=\"-164.3\" font-family=\"Helvetica,sans-Serif\" font-size=\"14.00\">gini = 0.0</text>\n",
       "<text text-anchor=\"start\" x=\"2102.5\" y=\"-149.3\" font-family=\"Helvetica,sans-Serif\" font-size=\"14.00\">samples = 32</text>\n",
       "<text text-anchor=\"start\" x=\"2101.5\" y=\"-134.3\" font-family=\"Helvetica,sans-Serif\" font-size=\"14.00\">value = [32, 0]</text>\n",
       "<text text-anchor=\"start\" x=\"2119\" y=\"-119.3\" font-family=\"Helvetica,sans-Serif\" font-size=\"14.00\">class = f</text>\n",
       "</g>\n",
       "<!-- 44&#45;&gt;46 -->\n",
       "<g id=\"edge46\" class=\"edge\">\n",
       "<title>44&#45;&gt;46</title>\n",
       "<path fill=\"none\" stroke=\"black\" d=\"M2083.31,-222.91C2092.72,-211.43 2102.97,-198.94 2112.41,-187.44\"/>\n",
       "<polygon fill=\"black\" stroke=\"black\" points=\"2115.15,-189.62 2118.79,-179.67 2109.74,-185.18 2115.15,-189.62\"/>\n",
       "</g>\n",
       "<!-- 48 -->\n",
       "<g id=\"node49\" class=\"node\">\n",
       "<title>48</title>\n",
       "<path fill=\"#399de5\" stroke=\"black\" d=\"M2148,-417.5C2148,-417.5 2050,-417.5 2050,-417.5 2044,-417.5 2038,-411.5 2038,-405.5 2038,-405.5 2038,-361.5 2038,-361.5 2038,-355.5 2044,-349.5 2050,-349.5 2050,-349.5 2148,-349.5 2148,-349.5 2154,-349.5 2160,-355.5 2160,-361.5 2160,-361.5 2160,-405.5 2160,-405.5 2160,-411.5 2154,-417.5 2148,-417.5\"/>\n",
       "<text text-anchor=\"start\" x=\"2070\" y=\"-402.3\" font-family=\"Helvetica,sans-Serif\" font-size=\"14.00\">gini = 0.0</text>\n",
       "<text text-anchor=\"start\" x=\"2047.5\" y=\"-387.3\" font-family=\"Helvetica,sans-Serif\" font-size=\"14.00\">samples = 1244</text>\n",
       "<text text-anchor=\"start\" x=\"2046\" y=\"-372.3\" font-family=\"Helvetica,sans-Serif\" font-size=\"14.00\">value = [0, 1244]</text>\n",
       "<text text-anchor=\"start\" x=\"2072\" y=\"-357.3\" font-family=\"Helvetica,sans-Serif\" font-size=\"14.00\">class = r</text>\n",
       "</g>\n",
       "<!-- 47&#45;&gt;48 -->\n",
       "<g id=\"edge48\" class=\"edge\">\n",
       "<title>47&#45;&gt;48</title>\n",
       "<path fill=\"none\" stroke=\"black\" d=\"M2099,-460.91C2099,-450.2 2099,-438.62 2099,-427.78\"/>\n",
       "<polygon fill=\"black\" stroke=\"black\" points=\"2102.5,-427.67 2099,-417.67 2095.5,-427.67 2102.5,-427.67\"/>\n",
       "</g>\n",
       "<!-- 49 -->\n",
       "<g id=\"node50\" class=\"node\">\n",
       "<title>49</title>\n",
       "<path fill=\"#e5823b\" stroke=\"black\" d=\"M2440,-425C2440,-425 2190,-425 2190,-425 2184,-425 2178,-419 2178,-413 2178,-413 2178,-354 2178,-354 2178,-348 2184,-342 2190,-342 2190,-342 2440,-342 2440,-342 2446,-342 2452,-348 2452,-354 2452,-354 2452,-413 2452,-413 2452,-419 2446,-425 2440,-425\"/>\n",
       "<text text-anchor=\"start\" x=\"2186\" y=\"-409.8\" font-family=\"Helvetica,sans-Serif\" font-size=\"14.00\">distance_from_last_transaction ≤ 49.579</text>\n",
       "<text text-anchor=\"start\" x=\"2277.5\" y=\"-394.8\" font-family=\"Helvetica,sans-Serif\" font-size=\"14.00\">gini = 0.017</text>\n",
       "<text text-anchor=\"start\" x=\"2267.5\" y=\"-379.8\" font-family=\"Helvetica,sans-Serif\" font-size=\"14.00\">samples = 119</text>\n",
       "<text text-anchor=\"start\" x=\"2266.5\" y=\"-364.8\" font-family=\"Helvetica,sans-Serif\" font-size=\"14.00\">value = [118, 1]</text>\n",
       "<text text-anchor=\"start\" x=\"2288\" y=\"-349.8\" font-family=\"Helvetica,sans-Serif\" font-size=\"14.00\">class = f</text>\n",
       "</g>\n",
       "<!-- 47&#45;&gt;49 -->\n",
       "<g id=\"edge49\" class=\"edge\">\n",
       "<title>47&#45;&gt;49</title>\n",
       "<path fill=\"none\" stroke=\"black\" d=\"M2173.94,-460.91C2192.45,-450.88 2212.4,-440.07 2231.3,-429.84\"/>\n",
       "<polygon fill=\"black\" stroke=\"black\" points=\"2233.07,-432.86 2240.19,-425.02 2229.73,-426.71 2233.07,-432.86\"/>\n",
       "</g>\n",
       "<!-- 50 -->\n",
       "<g id=\"node51\" class=\"node\">\n",
       "<title>50</title>\n",
       "<path fill=\"#e58139\" stroke=\"black\" d=\"M2277.5,-298.5C2277.5,-298.5 2188.5,-298.5 2188.5,-298.5 2182.5,-298.5 2176.5,-292.5 2176.5,-286.5 2176.5,-286.5 2176.5,-242.5 2176.5,-242.5 2176.5,-236.5 2182.5,-230.5 2188.5,-230.5 2188.5,-230.5 2277.5,-230.5 2277.5,-230.5 2283.5,-230.5 2289.5,-236.5 2289.5,-242.5 2289.5,-242.5 2289.5,-286.5 2289.5,-286.5 2289.5,-292.5 2283.5,-298.5 2277.5,-298.5\"/>\n",
       "<text text-anchor=\"start\" x=\"2204\" y=\"-283.3\" font-family=\"Helvetica,sans-Serif\" font-size=\"14.00\">gini = 0.0</text>\n",
       "<text text-anchor=\"start\" x=\"2185.5\" y=\"-268.3\" font-family=\"Helvetica,sans-Serif\" font-size=\"14.00\">samples = 118</text>\n",
       "<text text-anchor=\"start\" x=\"2184.5\" y=\"-253.3\" font-family=\"Helvetica,sans-Serif\" font-size=\"14.00\">value = [118, 0]</text>\n",
       "<text text-anchor=\"start\" x=\"2206\" y=\"-238.3\" font-family=\"Helvetica,sans-Serif\" font-size=\"14.00\">class = f</text>\n",
       "</g>\n",
       "<!-- 49&#45;&gt;50 -->\n",
       "<g id=\"edge50\" class=\"edge\">\n",
       "<title>49&#45;&gt;50</title>\n",
       "<path fill=\"none\" stroke=\"black\" d=\"M2286.55,-341.91C2278.66,-330.65 2270.09,-318.42 2262.16,-307.11\"/>\n",
       "<polygon fill=\"black\" stroke=\"black\" points=\"2264.85,-304.85 2256.25,-298.67 2259.12,-308.86 2264.85,-304.85\"/>\n",
       "</g>\n",
       "<!-- 51 -->\n",
       "<g id=\"node52\" class=\"node\">\n",
       "<title>51</title>\n",
       "<path fill=\"#399de5\" stroke=\"black\" d=\"M2392.5,-298.5C2392.5,-298.5 2319.5,-298.5 2319.5,-298.5 2313.5,-298.5 2307.5,-292.5 2307.5,-286.5 2307.5,-286.5 2307.5,-242.5 2307.5,-242.5 2307.5,-236.5 2313.5,-230.5 2319.5,-230.5 2319.5,-230.5 2392.5,-230.5 2392.5,-230.5 2398.5,-230.5 2404.5,-236.5 2404.5,-242.5 2404.5,-242.5 2404.5,-286.5 2404.5,-286.5 2404.5,-292.5 2398.5,-298.5 2392.5,-298.5\"/>\n",
       "<text text-anchor=\"start\" x=\"2327\" y=\"-283.3\" font-family=\"Helvetica,sans-Serif\" font-size=\"14.00\">gini = 0.0</text>\n",
       "<text text-anchor=\"start\" x=\"2316.5\" y=\"-268.3\" font-family=\"Helvetica,sans-Serif\" font-size=\"14.00\">samples = 1</text>\n",
       "<text text-anchor=\"start\" x=\"2315.5\" y=\"-253.3\" font-family=\"Helvetica,sans-Serif\" font-size=\"14.00\">value = [0, 1]</text>\n",
       "<text text-anchor=\"start\" x=\"2329\" y=\"-238.3\" font-family=\"Helvetica,sans-Serif\" font-size=\"14.00\">class = r</text>\n",
       "</g>\n",
       "<!-- 49&#45;&gt;51 -->\n",
       "<g id=\"edge51\" class=\"edge\">\n",
       "<title>49&#45;&gt;51</title>\n",
       "<path fill=\"none\" stroke=\"black\" d=\"M2329.22,-341.91C2333.05,-330.98 2337.2,-319.14 2341.07,-308.11\"/>\n",
       "<polygon fill=\"black\" stroke=\"black\" points=\"2344.37,-309.26 2344.38,-298.67 2337.77,-306.95 2344.37,-309.26\"/>\n",
       "</g>\n",
       "<!-- 53 -->\n",
       "<g id=\"node54\" class=\"node\">\n",
       "<title>53</title>\n",
       "<path fill=\"#399de5\" stroke=\"black\" d=\"M2393,-536.5C2393,-536.5 2287,-536.5 2287,-536.5 2281,-536.5 2275,-530.5 2275,-524.5 2275,-524.5 2275,-480.5 2275,-480.5 2275,-474.5 2281,-468.5 2287,-468.5 2287,-468.5 2393,-468.5 2393,-468.5 2399,-468.5 2405,-474.5 2405,-480.5 2405,-480.5 2405,-524.5 2405,-524.5 2405,-530.5 2399,-536.5 2393,-536.5\"/>\n",
       "<text text-anchor=\"start\" x=\"2311\" y=\"-521.3\" font-family=\"Helvetica,sans-Serif\" font-size=\"14.00\">gini = 0.0</text>\n",
       "<text text-anchor=\"start\" x=\"2284\" y=\"-506.3\" font-family=\"Helvetica,sans-Serif\" font-size=\"14.00\">samples = 45148</text>\n",
       "<text text-anchor=\"start\" x=\"2283\" y=\"-491.3\" font-family=\"Helvetica,sans-Serif\" font-size=\"14.00\">value = [0, 45148]</text>\n",
       "<text text-anchor=\"start\" x=\"2313\" y=\"-476.3\" font-family=\"Helvetica,sans-Serif\" font-size=\"14.00\">class = r</text>\n",
       "</g>\n",
       "<!-- 52&#45;&gt;53 -->\n",
       "<g id=\"edge53\" class=\"edge\">\n",
       "<title>52&#45;&gt;53</title>\n",
       "<path fill=\"none\" stroke=\"black\" d=\"M2340,-579.91C2340,-569.2 2340,-557.62 2340,-546.78\"/>\n",
       "<polygon fill=\"black\" stroke=\"black\" points=\"2343.5,-546.67 2340,-536.67 2336.5,-546.67 2343.5,-546.67\"/>\n",
       "</g>\n",
       "<!-- 54 -->\n",
       "<g id=\"node55\" class=\"node\">\n",
       "<title>54</title>\n",
       "<path fill=\"#e68642\" stroke=\"black\" d=\"M2705,-544C2705,-544 2509,-544 2509,-544 2503,-544 2497,-538 2497,-532 2497,-532 2497,-473 2497,-473 2497,-467 2503,-461 2509,-461 2509,-461 2705,-461 2705,-461 2711,-461 2717,-467 2717,-473 2717,-473 2717,-532 2717,-532 2717,-538 2711,-544 2705,-544\"/>\n",
       "<text text-anchor=\"start\" x=\"2505\" y=\"-528.8\" font-family=\"Helvetica,sans-Serif\" font-size=\"14.00\">distance_from_home ≤ 100.346</text>\n",
       "<text text-anchor=\"start\" x=\"2573.5\" y=\"-513.8\" font-family=\"Helvetica,sans-Serif\" font-size=\"14.00\">gini = 0.08</text>\n",
       "<text text-anchor=\"start\" x=\"2555.5\" y=\"-498.8\" font-family=\"Helvetica,sans-Serif\" font-size=\"14.00\">samples = 5079</text>\n",
       "<text text-anchor=\"start\" x=\"2546\" y=\"-483.8\" font-family=\"Helvetica,sans-Serif\" font-size=\"14.00\">value = [4868, 211]</text>\n",
       "<text text-anchor=\"start\" x=\"2580\" y=\"-468.8\" font-family=\"Helvetica,sans-Serif\" font-size=\"14.00\">class = f</text>\n",
       "</g>\n",
       "<!-- 52&#45;&gt;54 -->\n",
       "<g id=\"edge54\" class=\"edge\">\n",
       "<title>52&#45;&gt;54</title>\n",
       "<path fill=\"none\" stroke=\"black\" d=\"M2423.75,-583.8C2449.47,-572.53 2478.06,-560 2504.87,-548.25\"/>\n",
       "<polygon fill=\"black\" stroke=\"black\" points=\"2506.51,-551.36 2514.27,-544.14 2503.7,-544.94 2506.51,-551.36\"/>\n",
       "</g>\n",
       "<!-- 55 -->\n",
       "<g id=\"node56\" class=\"node\">\n",
       "<title>55</title>\n",
       "<path fill=\"#e5833b\" stroke=\"black\" d=\"M2732,-425C2732,-425 2482,-425 2482,-425 2476,-425 2470,-419 2470,-413 2470,-413 2470,-354 2470,-354 2470,-348 2476,-342 2482,-342 2482,-342 2732,-342 2732,-342 2738,-342 2744,-348 2744,-354 2744,-354 2744,-413 2744,-413 2744,-419 2738,-425 2732,-425\"/>\n",
       "<text text-anchor=\"start\" x=\"2478\" y=\"-409.8\" font-family=\"Helvetica,sans-Serif\" font-size=\"14.00\">distance_from_last_transaction ≤ 50.114</text>\n",
       "<text text-anchor=\"start\" x=\"2569.5\" y=\"-394.8\" font-family=\"Helvetica,sans-Serif\" font-size=\"14.00\">gini = 0.023</text>\n",
       "<text text-anchor=\"start\" x=\"2555.5\" y=\"-379.8\" font-family=\"Helvetica,sans-Serif\" font-size=\"14.00\">samples = 4836</text>\n",
       "<text text-anchor=\"start\" x=\"2550\" y=\"-364.8\" font-family=\"Helvetica,sans-Serif\" font-size=\"14.00\">value = [4779, 57]</text>\n",
       "<text text-anchor=\"start\" x=\"2580\" y=\"-349.8\" font-family=\"Helvetica,sans-Serif\" font-size=\"14.00\">class = f</text>\n",
       "</g>\n",
       "<!-- 54&#45;&gt;55 -->\n",
       "<g id=\"edge55\" class=\"edge\">\n",
       "<title>54&#45;&gt;55</title>\n",
       "<path fill=\"none\" stroke=\"black\" d=\"M2607,-460.91C2607,-452.65 2607,-443.86 2607,-435.3\"/>\n",
       "<polygon fill=\"black\" stroke=\"black\" points=\"2610.5,-435.02 2607,-425.02 2603.5,-435.02 2610.5,-435.02\"/>\n",
       "</g>\n",
       "<!-- 62 -->\n",
       "<g id=\"node63\" class=\"node\">\n",
       "<title>62</title>\n",
       "<path fill=\"#abd6f4\" stroke=\"black\" d=\"M2872,-425C2872,-425 2774,-425 2774,-425 2768,-425 2762,-419 2762,-413 2762,-413 2762,-354 2762,-354 2762,-348 2768,-342 2774,-342 2774,-342 2872,-342 2872,-342 2878,-342 2884,-348 2884,-354 2884,-354 2884,-413 2884,-413 2884,-419 2878,-425 2872,-425\"/>\n",
       "<text text-anchor=\"start\" x=\"2772\" y=\"-409.8\" font-family=\"Helvetica,sans-Serif\" font-size=\"14.00\">used_chip ≤ 0.5</text>\n",
       "<text text-anchor=\"start\" x=\"2785.5\" y=\"-394.8\" font-family=\"Helvetica,sans-Serif\" font-size=\"14.00\">gini = 0.464</text>\n",
       "<text text-anchor=\"start\" x=\"2775.5\" y=\"-379.8\" font-family=\"Helvetica,sans-Serif\" font-size=\"14.00\">samples = 243</text>\n",
       "<text text-anchor=\"start\" x=\"2770\" y=\"-364.8\" font-family=\"Helvetica,sans-Serif\" font-size=\"14.00\">value = [89, 154]</text>\n",
       "<text text-anchor=\"start\" x=\"2796\" y=\"-349.8\" font-family=\"Helvetica,sans-Serif\" font-size=\"14.00\">class = r</text>\n",
       "</g>\n",
       "<!-- 54&#45;&gt;62 -->\n",
       "<g id=\"edge62\" class=\"edge\">\n",
       "<title>54&#45;&gt;62</title>\n",
       "<path fill=\"none\" stroke=\"black\" d=\"M2686.12,-460.81C2705.68,-450.56 2726.68,-439.41 2752.63,-425.16\"/>\n",
       "<polygon fill=\"black\" stroke=\"black\" points=\"2754.55,-428.1 2761.62,-420.21 2751.17,-421.96 2754.55,-428.1\"/>\n",
       "</g>\n",
       "<!-- 56 -->\n",
       "<g id=\"node57\" class=\"node\">\n",
       "<title>56</title>\n",
       "<path fill=\"#e58139\" stroke=\"black\" d=\"M2538,-298.5C2538,-298.5 2440,-298.5 2440,-298.5 2434,-298.5 2428,-292.5 2428,-286.5 2428,-286.5 2428,-242.5 2428,-242.5 2428,-236.5 2434,-230.5 2440,-230.5 2440,-230.5 2538,-230.5 2538,-230.5 2544,-230.5 2550,-236.5 2550,-242.5 2550,-242.5 2550,-286.5 2550,-286.5 2550,-292.5 2544,-298.5 2538,-298.5\"/>\n",
       "<text text-anchor=\"start\" x=\"2460\" y=\"-283.3\" font-family=\"Helvetica,sans-Serif\" font-size=\"14.00\">gini = 0.0</text>\n",
       "<text text-anchor=\"start\" x=\"2437.5\" y=\"-268.3\" font-family=\"Helvetica,sans-Serif\" font-size=\"14.00\">samples = 4763</text>\n",
       "<text text-anchor=\"start\" x=\"2436\" y=\"-253.3\" font-family=\"Helvetica,sans-Serif\" font-size=\"14.00\">value = [4763, 0]</text>\n",
       "<text text-anchor=\"start\" x=\"2462\" y=\"-238.3\" font-family=\"Helvetica,sans-Serif\" font-size=\"14.00\">class = f</text>\n",
       "</g>\n",
       "<!-- 55&#45;&gt;56 -->\n",
       "<g id=\"edge56\" class=\"edge\">\n",
       "<title>55&#45;&gt;56</title>\n",
       "<path fill=\"none\" stroke=\"black\" d=\"M2566.06,-341.91C2554.26,-330.21 2541.4,-317.46 2529.62,-305.78\"/>\n",
       "<polygon fill=\"black\" stroke=\"black\" points=\"2532.02,-303.22 2522.45,-298.67 2527.09,-308.19 2532.02,-303.22\"/>\n",
       "</g>\n",
       "<!-- 57 -->\n",
       "<g id=\"node58\" class=\"node\">\n",
       "<title>57</title>\n",
       "<path fill=\"#71b9ec\" stroke=\"black\" d=\"M2674,-306C2674,-306 2580,-306 2580,-306 2574,-306 2568,-300 2568,-294 2568,-294 2568,-235 2568,-235 2568,-229 2574,-223 2580,-223 2580,-223 2674,-223 2674,-223 2680,-223 2686,-229 2686,-235 2686,-235 2686,-294 2686,-294 2686,-300 2680,-306 2674,-306\"/>\n",
       "<text text-anchor=\"start\" x=\"2576\" y=\"-290.8\" font-family=\"Helvetica,sans-Serif\" font-size=\"14.00\">used_chip ≤ 0.5</text>\n",
       "<text text-anchor=\"start\" x=\"2589.5\" y=\"-275.8\" font-family=\"Helvetica,sans-Serif\" font-size=\"14.00\">gini = 0.342</text>\n",
       "<text text-anchor=\"start\" x=\"2583.5\" y=\"-260.8\" font-family=\"Helvetica,sans-Serif\" font-size=\"14.00\">samples = 73</text>\n",
       "<text text-anchor=\"start\" x=\"2578.5\" y=\"-245.8\" font-family=\"Helvetica,sans-Serif\" font-size=\"14.00\">value = [16, 57]</text>\n",
       "<text text-anchor=\"start\" x=\"2600\" y=\"-230.8\" font-family=\"Helvetica,sans-Serif\" font-size=\"14.00\">class = r</text>\n",
       "</g>\n",
       "<!-- 55&#45;&gt;57 -->\n",
       "<g id=\"edge57\" class=\"edge\">\n",
       "<title>55&#45;&gt;57</title>\n",
       "<path fill=\"none\" stroke=\"black\" d=\"M2613.94,-341.91C2615.37,-333.56 2616.89,-324.67 2618.36,-316.02\"/>\n",
       "<polygon fill=\"black\" stroke=\"black\" points=\"2621.84,-316.47 2620.07,-306.02 2614.94,-315.29 2621.84,-316.47\"/>\n",
       "</g>\n",
       "<!-- 58 -->\n",
       "<g id=\"node59\" class=\"node\">\n",
       "<title>58</title>\n",
       "<path fill=\"#399de5\" stroke=\"black\" d=\"M2581.5,-179.5C2581.5,-179.5 2500.5,-179.5 2500.5,-179.5 2494.5,-179.5 2488.5,-173.5 2488.5,-167.5 2488.5,-167.5 2488.5,-123.5 2488.5,-123.5 2488.5,-117.5 2494.5,-111.5 2500.5,-111.5 2500.5,-111.5 2581.5,-111.5 2581.5,-111.5 2587.5,-111.5 2593.5,-117.5 2593.5,-123.5 2593.5,-123.5 2593.5,-167.5 2593.5,-167.5 2593.5,-173.5 2587.5,-179.5 2581.5,-179.5\"/>\n",
       "<text text-anchor=\"start\" x=\"2512\" y=\"-164.3\" font-family=\"Helvetica,sans-Serif\" font-size=\"14.00\">gini = 0.0</text>\n",
       "<text text-anchor=\"start\" x=\"2497.5\" y=\"-149.3\" font-family=\"Helvetica,sans-Serif\" font-size=\"14.00\">samples = 53</text>\n",
       "<text text-anchor=\"start\" x=\"2496.5\" y=\"-134.3\" font-family=\"Helvetica,sans-Serif\" font-size=\"14.00\">value = [0, 53]</text>\n",
       "<text text-anchor=\"start\" x=\"2514\" y=\"-119.3\" font-family=\"Helvetica,sans-Serif\" font-size=\"14.00\">class = r</text>\n",
       "</g>\n",
       "<!-- 57&#45;&gt;58 -->\n",
       "<g id=\"edge58\" class=\"edge\">\n",
       "<title>57&#45;&gt;58</title>\n",
       "<path fill=\"none\" stroke=\"black\" d=\"M2597.16,-222.91C2588.81,-211.54 2579.72,-199.18 2571.34,-187.77\"/>\n",
       "<polygon fill=\"black\" stroke=\"black\" points=\"2574.12,-185.65 2565.38,-179.67 2568.48,-189.8 2574.12,-185.65\"/>\n",
       "</g>\n",
       "<!-- 59 -->\n",
       "<g id=\"node60\" class=\"node\">\n",
       "<title>59</title>\n",
       "<path fill=\"#eca06a\" stroke=\"black\" d=\"M2802.5,-187C2802.5,-187 2623.5,-187 2623.5,-187 2617.5,-187 2611.5,-181 2611.5,-175 2611.5,-175 2611.5,-116 2611.5,-116 2611.5,-110 2617.5,-104 2623.5,-104 2623.5,-104 2802.5,-104 2802.5,-104 2808.5,-104 2814.5,-110 2814.5,-116 2814.5,-116 2814.5,-175 2814.5,-175 2814.5,-181 2808.5,-187 2802.5,-187\"/>\n",
       "<text text-anchor=\"start\" x=\"2619.5\" y=\"-171.8\" font-family=\"Helvetica,sans-Serif\" font-size=\"14.00\">distance_from_home ≤ 1.529</text>\n",
       "<text text-anchor=\"start\" x=\"2679.5\" y=\"-156.8\" font-family=\"Helvetica,sans-Serif\" font-size=\"14.00\">gini = 0.32</text>\n",
       "<text text-anchor=\"start\" x=\"2669.5\" y=\"-141.8\" font-family=\"Helvetica,sans-Serif\" font-size=\"14.00\">samples = 20</text>\n",
       "<text text-anchor=\"start\" x=\"2668.5\" y=\"-126.8\" font-family=\"Helvetica,sans-Serif\" font-size=\"14.00\">value = [16, 4]</text>\n",
       "<text text-anchor=\"start\" x=\"2686\" y=\"-111.8\" font-family=\"Helvetica,sans-Serif\" font-size=\"14.00\">class = f</text>\n",
       "</g>\n",
       "<!-- 57&#45;&gt;59 -->\n",
       "<g id=\"edge59\" class=\"edge\">\n",
       "<title>57&#45;&gt;59</title>\n",
       "<path fill=\"none\" stroke=\"black\" d=\"M2656.84,-222.91C2663.37,-214.01 2670.36,-204.51 2677.11,-195.33\"/>\n",
       "<polygon fill=\"black\" stroke=\"black\" points=\"2680.11,-197.15 2683.22,-187.02 2674.47,-193.01 2680.11,-197.15\"/>\n",
       "</g>\n",
       "<!-- 60 -->\n",
       "<g id=\"node61\" class=\"node\">\n",
       "<title>60</title>\n",
       "<path fill=\"#399de5\" stroke=\"black\" d=\"M2689.5,-68C2689.5,-68 2616.5,-68 2616.5,-68 2610.5,-68 2604.5,-62 2604.5,-56 2604.5,-56 2604.5,-12 2604.5,-12 2604.5,-6 2610.5,0 2616.5,0 2616.5,0 2689.5,0 2689.5,0 2695.5,0 2701.5,-6 2701.5,-12 2701.5,-12 2701.5,-56 2701.5,-56 2701.5,-62 2695.5,-68 2689.5,-68\"/>\n",
       "<text text-anchor=\"start\" x=\"2624\" y=\"-52.8\" font-family=\"Helvetica,sans-Serif\" font-size=\"14.00\">gini = 0.0</text>\n",
       "<text text-anchor=\"start\" x=\"2613.5\" y=\"-37.8\" font-family=\"Helvetica,sans-Serif\" font-size=\"14.00\">samples = 4</text>\n",
       "<text text-anchor=\"start\" x=\"2612.5\" y=\"-22.8\" font-family=\"Helvetica,sans-Serif\" font-size=\"14.00\">value = [0, 4]</text>\n",
       "<text text-anchor=\"start\" x=\"2626\" y=\"-7.8\" font-family=\"Helvetica,sans-Serif\" font-size=\"14.00\">class = r</text>\n",
       "</g>\n",
       "<!-- 59&#45;&gt;60 -->\n",
       "<g id=\"edge60\" class=\"edge\">\n",
       "<title>59&#45;&gt;60</title>\n",
       "<path fill=\"none\" stroke=\"black\" d=\"M2690.66,-103.73C2685.91,-95.06 2680.89,-85.9 2676.11,-77.18\"/>\n",
       "<polygon fill=\"black\" stroke=\"black\" points=\"2679.12,-75.39 2671.25,-68.3 2672.98,-78.75 2679.12,-75.39\"/>\n",
       "</g>\n",
       "<!-- 61 -->\n",
       "<g id=\"node62\" class=\"node\">\n",
       "<title>61</title>\n",
       "<path fill=\"#e58139\" stroke=\"black\" d=\"M2812.5,-68C2812.5,-68 2731.5,-68 2731.5,-68 2725.5,-68 2719.5,-62 2719.5,-56 2719.5,-56 2719.5,-12 2719.5,-12 2719.5,-6 2725.5,0 2731.5,0 2731.5,0 2812.5,0 2812.5,0 2818.5,0 2824.5,-6 2824.5,-12 2824.5,-12 2824.5,-56 2824.5,-56 2824.5,-62 2818.5,-68 2812.5,-68\"/>\n",
       "<text text-anchor=\"start\" x=\"2743\" y=\"-52.8\" font-family=\"Helvetica,sans-Serif\" font-size=\"14.00\">gini = 0.0</text>\n",
       "<text text-anchor=\"start\" x=\"2728.5\" y=\"-37.8\" font-family=\"Helvetica,sans-Serif\" font-size=\"14.00\">samples = 16</text>\n",
       "<text text-anchor=\"start\" x=\"2727.5\" y=\"-22.8\" font-family=\"Helvetica,sans-Serif\" font-size=\"14.00\">value = [16, 0]</text>\n",
       "<text text-anchor=\"start\" x=\"2745\" y=\"-7.8\" font-family=\"Helvetica,sans-Serif\" font-size=\"14.00\">class = f</text>\n",
       "</g>\n",
       "<!-- 59&#45;&gt;61 -->\n",
       "<g id=\"edge61\" class=\"edge\">\n",
       "<title>59&#45;&gt;61</title>\n",
       "<path fill=\"none\" stroke=\"black\" d=\"M2734.97,-103.73C2739.64,-95.06 2744.58,-85.9 2749.27,-77.18\"/>\n",
       "<polygon fill=\"black\" stroke=\"black\" points=\"2752.4,-78.76 2754.06,-68.3 2746.23,-75.44 2752.4,-78.76\"/>\n",
       "</g>\n",
       "<!-- 63 -->\n",
       "<g id=\"node64\" class=\"node\">\n",
       "<title>63</title>\n",
       "<path fill=\"#399de5\" stroke=\"black\" d=\"M2846.5,-298.5C2846.5,-298.5 2757.5,-298.5 2757.5,-298.5 2751.5,-298.5 2745.5,-292.5 2745.5,-286.5 2745.5,-286.5 2745.5,-242.5 2745.5,-242.5 2745.5,-236.5 2751.5,-230.5 2757.5,-230.5 2757.5,-230.5 2846.5,-230.5 2846.5,-230.5 2852.5,-230.5 2858.5,-236.5 2858.5,-242.5 2858.5,-242.5 2858.5,-286.5 2858.5,-286.5 2858.5,-292.5 2852.5,-298.5 2846.5,-298.5\"/>\n",
       "<text text-anchor=\"start\" x=\"2773\" y=\"-283.3\" font-family=\"Helvetica,sans-Serif\" font-size=\"14.00\">gini = 0.0</text>\n",
       "<text text-anchor=\"start\" x=\"2754.5\" y=\"-268.3\" font-family=\"Helvetica,sans-Serif\" font-size=\"14.00\">samples = 154</text>\n",
       "<text text-anchor=\"start\" x=\"2753.5\" y=\"-253.3\" font-family=\"Helvetica,sans-Serif\" font-size=\"14.00\">value = [0, 154]</text>\n",
       "<text text-anchor=\"start\" x=\"2775\" y=\"-238.3\" font-family=\"Helvetica,sans-Serif\" font-size=\"14.00\">class = r</text>\n",
       "</g>\n",
       "<!-- 62&#45;&gt;63 -->\n",
       "<g id=\"edge63\" class=\"edge\">\n",
       "<title>62&#45;&gt;63</title>\n",
       "<path fill=\"none\" stroke=\"black\" d=\"M2815.71,-341.91C2813.79,-331.2 2811.71,-319.62 2809.77,-308.78\"/>\n",
       "<polygon fill=\"black\" stroke=\"black\" points=\"2813.16,-307.89 2807.95,-298.67 2806.27,-309.13 2813.16,-307.89\"/>\n",
       "</g>\n",
       "<!-- 64 -->\n",
       "<g id=\"node65\" class=\"node\">\n",
       "<title>64</title>\n",
       "<path fill=\"#e58139\" stroke=\"black\" d=\"M2969.5,-298.5C2969.5,-298.5 2888.5,-298.5 2888.5,-298.5 2882.5,-298.5 2876.5,-292.5 2876.5,-286.5 2876.5,-286.5 2876.5,-242.5 2876.5,-242.5 2876.5,-236.5 2882.5,-230.5 2888.5,-230.5 2888.5,-230.5 2969.5,-230.5 2969.5,-230.5 2975.5,-230.5 2981.5,-236.5 2981.5,-242.5 2981.5,-242.5 2981.5,-286.5 2981.5,-286.5 2981.5,-292.5 2975.5,-298.5 2969.5,-298.5\"/>\n",
       "<text text-anchor=\"start\" x=\"2900\" y=\"-283.3\" font-family=\"Helvetica,sans-Serif\" font-size=\"14.00\">gini = 0.0</text>\n",
       "<text text-anchor=\"start\" x=\"2885.5\" y=\"-268.3\" font-family=\"Helvetica,sans-Serif\" font-size=\"14.00\">samples = 89</text>\n",
       "<text text-anchor=\"start\" x=\"2884.5\" y=\"-253.3\" font-family=\"Helvetica,sans-Serif\" font-size=\"14.00\">value = [89, 0]</text>\n",
       "<text text-anchor=\"start\" x=\"2902\" y=\"-238.3\" font-family=\"Helvetica,sans-Serif\" font-size=\"14.00\">class = f</text>\n",
       "</g>\n",
       "<!-- 62&#45;&gt;64 -->\n",
       "<g id=\"edge64\" class=\"edge\">\n",
       "<title>62&#45;&gt;64</title>\n",
       "<path fill=\"none\" stroke=\"black\" d=\"M2859.78,-341.91C2870.27,-330.32 2881.71,-317.7 2892.21,-306.11\"/>\n",
       "<polygon fill=\"black\" stroke=\"black\" points=\"2894.83,-308.43 2898.95,-298.67 2889.64,-303.73 2894.83,-308.43\"/>\n",
       "</g>\n",
       "</g>\n",
       "</svg>\n"
      ],
      "text/plain": [
       "<graphviz.sources.Source at 0x1658b774790>"
      ]
     },
     "execution_count": 156,
     "metadata": {},
     "output_type": "execute_result"
    }
   ],
   "source": [
    "from sklearn import tree\n",
    "import graphviz\n",
    "\n",
    "base_tree = rf_clf.base_estimator_\n",
    "base_tree.fit(X_train,y_train)\n",
    "\n",
    "dot_data = tree.export_graphviz(base_tree, out_file=None)\n",
    "graph = graphviz.Source(dot_data) \n",
    "\n",
    "\n",
    "dot_data = tree.export_graphviz(base_tree, out_file=None, \n",
    "                                feature_names=X_train.columns,  \n",
    "                                class_names=y_train.name,  \n",
    "                                filled=True, rounded=True,  \n",
    "                                special_characters=True)\n",
    "graph = graphviz.Source(dot_data)\n",
    "graph"
   ]
  },
  {
   "cell_type": "markdown",
   "id": "b4ad7fd1",
   "metadata": {},
   "source": [
    "# Oversampling with SMOTE"
   ]
  },
  {
   "cell_type": "markdown",
   "id": "aba3641b",
   "metadata": {},
   "source": [
    "### To help with the the accucary score and the data imbalance"
   ]
  },
  {
   "cell_type": "code",
   "execution_count": 157,
   "id": "4a4c89b5",
   "metadata": {},
   "outputs": [],
   "source": [
    "# Importing SMOTE from imblearn lib\n",
    "from imblearn.over_sampling import SMOTE\n",
    "resampled_x, resampled_y = SMOTE().fit_resample(X,y) # reshaping data"
   ]
  },
  {
   "cell_type": "code",
   "execution_count": 158,
   "id": "7386c2f5",
   "metadata": {},
   "outputs": [
    {
     "name": "stdout",
     "output_type": "stream",
     "text": [
      "X New Shape:  (1825194, 7)\n",
      "y New Shape:  (1825194,)\n"
     ]
    }
   ],
   "source": [
    "print('X New Shape: ', resampled_x.shape)\n",
    "print('y New Shape: ', resampled_y.shape)"
   ]
  },
  {
   "cell_type": "code",
   "execution_count": 159,
   "id": "99c70bf4",
   "metadata": {},
   "outputs": [],
   "source": [
    "# Splitting our resampled data\n",
    "(train_x,test_x,train_y,test_y) = train_test_split(resampled_x, resampled_y, test_size = 0.3, random_state = 42)"
   ]
  },
  {
   "cell_type": "code",
   "execution_count": 160,
   "id": "e9d6c39d",
   "metadata": {},
   "outputs": [],
   "source": [
    "train_x_scaled = scaler.fit_transform(train_x)\n",
    "test_x_scaled = scaler.transform(test_x)"
   ]
  },
  {
   "cell_type": "code",
   "execution_count": 161,
   "id": "908a1d30",
   "metadata": {
    "scrolled": true
   },
   "outputs": [
    {
     "data": {
      "text/html": [
       "<style>#sk-container-id-6 {color: black;background-color: white;}#sk-container-id-6 pre{padding: 0;}#sk-container-id-6 div.sk-toggleable {background-color: white;}#sk-container-id-6 label.sk-toggleable__label {cursor: pointer;display: block;width: 100%;margin-bottom: 0;padding: 0.3em;box-sizing: border-box;text-align: center;}#sk-container-id-6 label.sk-toggleable__label-arrow:before {content: \"▸\";float: left;margin-right: 0.25em;color: #696969;}#sk-container-id-6 label.sk-toggleable__label-arrow:hover:before {color: black;}#sk-container-id-6 div.sk-estimator:hover label.sk-toggleable__label-arrow:before {color: black;}#sk-container-id-6 div.sk-toggleable__content {max-height: 0;max-width: 0;overflow: hidden;text-align: left;background-color: #f0f8ff;}#sk-container-id-6 div.sk-toggleable__content pre {margin: 0.2em;color: black;border-radius: 0.25em;background-color: #f0f8ff;}#sk-container-id-6 input.sk-toggleable__control:checked~div.sk-toggleable__content {max-height: 200px;max-width: 100%;overflow: auto;}#sk-container-id-6 input.sk-toggleable__control:checked~label.sk-toggleable__label-arrow:before {content: \"▾\";}#sk-container-id-6 div.sk-estimator input.sk-toggleable__control:checked~label.sk-toggleable__label {background-color: #d4ebff;}#sk-container-id-6 div.sk-label input.sk-toggleable__control:checked~label.sk-toggleable__label {background-color: #d4ebff;}#sk-container-id-6 input.sk-hidden--visually {border: 0;clip: rect(1px 1px 1px 1px);clip: rect(1px, 1px, 1px, 1px);height: 1px;margin: -1px;overflow: hidden;padding: 0;position: absolute;width: 1px;}#sk-container-id-6 div.sk-estimator {font-family: monospace;background-color: #f0f8ff;border: 1px dotted black;border-radius: 0.25em;box-sizing: border-box;margin-bottom: 0.5em;}#sk-container-id-6 div.sk-estimator:hover {background-color: #d4ebff;}#sk-container-id-6 div.sk-parallel-item::after {content: \"\";width: 100%;border-bottom: 1px solid gray;flex-grow: 1;}#sk-container-id-6 div.sk-label:hover label.sk-toggleable__label {background-color: #d4ebff;}#sk-container-id-6 div.sk-serial::before {content: \"\";position: absolute;border-left: 1px solid gray;box-sizing: border-box;top: 0;bottom: 0;left: 50%;z-index: 0;}#sk-container-id-6 div.sk-serial {display: flex;flex-direction: column;align-items: center;background-color: white;padding-right: 0.2em;padding-left: 0.2em;position: relative;}#sk-container-id-6 div.sk-item {position: relative;z-index: 1;}#sk-container-id-6 div.sk-parallel {display: flex;align-items: stretch;justify-content: center;background-color: white;position: relative;}#sk-container-id-6 div.sk-item::before, #sk-container-id-6 div.sk-parallel-item::before {content: \"\";position: absolute;border-left: 1px solid gray;box-sizing: border-box;top: 0;bottom: 0;left: 50%;z-index: -1;}#sk-container-id-6 div.sk-parallel-item {display: flex;flex-direction: column;z-index: 1;position: relative;background-color: white;}#sk-container-id-6 div.sk-parallel-item:first-child::after {align-self: flex-end;width: 50%;}#sk-container-id-6 div.sk-parallel-item:last-child::after {align-self: flex-start;width: 50%;}#sk-container-id-6 div.sk-parallel-item:only-child::after {width: 0;}#sk-container-id-6 div.sk-dashed-wrapped {border: 1px dashed gray;margin: 0 0.4em 0.5em 0.4em;box-sizing: border-box;padding-bottom: 0.4em;background-color: white;}#sk-container-id-6 div.sk-label label {font-family: monospace;font-weight: bold;display: inline-block;line-height: 1.2em;}#sk-container-id-6 div.sk-label-container {text-align: center;}#sk-container-id-6 div.sk-container {/* jupyter's `normalize.less` sets `[hidden] { display: none; }` but bootstrap.min.css set `[hidden] { display: none !important; }` so we also need the `!important` here to be able to override the default hidden behavior on the sphinx rendered scikit-learn.org. See: https://github.com/scikit-learn/scikit-learn/issues/21755 */display: inline-block !important;position: relative;}#sk-container-id-6 div.sk-text-repr-fallback {display: none;}</style><div id=\"sk-container-id-6\" class=\"sk-top-container\"><div class=\"sk-text-repr-fallback\"><pre>RandomForestClassifier(random_state=40)</pre><b>In a Jupyter environment, please rerun this cell to show the HTML representation or trust the notebook. <br />On GitHub, the HTML representation is unable to render, please try loading this page with nbviewer.org.</b></div><div class=\"sk-container\" hidden><div class=\"sk-item\"><div class=\"sk-estimator sk-toggleable\"><input class=\"sk-toggleable__control sk-hidden--visually\" id=\"sk-estimator-id-6\" type=\"checkbox\" checked><label for=\"sk-estimator-id-6\" class=\"sk-toggleable__label sk-toggleable__label-arrow\">RandomForestClassifier</label><div class=\"sk-toggleable__content\"><pre>RandomForestClassifier(random_state=40)</pre></div></div></div></div></div>"
      ],
      "text/plain": [
       "RandomForestClassifier(random_state=40)"
      ]
     },
     "execution_count": 161,
     "metadata": {},
     "output_type": "execute_result"
    }
   ],
   "source": [
    "resampled_random_forest = RandomForestClassifier(random_state= 40)\n",
    "resampled_random_forest.fit(train_x,train_y)"
   ]
  },
  {
   "cell_type": "code",
   "execution_count": 162,
   "id": "8bcb2be9",
   "metadata": {},
   "outputs": [
    {
     "name": "stdout",
     "output_type": "stream",
     "text": [
      "Performance:  99.9993\n"
     ]
    }
   ],
   "source": [
    "predictions_resampled = resampled_random_forest.predict(test_x)\n",
    "rf_new_score = round(resampled_random_forest.score(test_x,test_y) * 100, 4)\n",
    "print('Performance: ', rf_new_score)"
   ]
  },
  {
   "cell_type": "code",
   "execution_count": 163,
   "id": "9b1e0bdc",
   "metadata": {},
   "outputs": [
    {
     "data": {
      "text/html": [
       "<div>\n",
       "<style scoped>\n",
       "    .dataframe tbody tr th:only-of-type {\n",
       "        vertical-align: middle;\n",
       "    }\n",
       "\n",
       "    .dataframe tbody tr th {\n",
       "        vertical-align: top;\n",
       "    }\n",
       "\n",
       "    .dataframe thead th {\n",
       "        text-align: right;\n",
       "    }\n",
       "</style>\n",
       "<table border=\"1\" class=\"dataframe\">\n",
       "  <thead>\n",
       "    <tr style=\"text-align: right;\">\n",
       "      <th></th>\n",
       "      <th>Metrics</th>\n",
       "      <th>Results</th>\n",
       "    </tr>\n",
       "  </thead>\n",
       "  <tbody>\n",
       "    <tr>\n",
       "      <th>0</th>\n",
       "      <td>Accuracy</td>\n",
       "      <td>0.999993</td>\n",
       "    </tr>\n",
       "    <tr>\n",
       "      <th>1</th>\n",
       "      <td>Precision</td>\n",
       "      <td>1.000000</td>\n",
       "    </tr>\n",
       "    <tr>\n",
       "      <th>2</th>\n",
       "      <td>Recall</td>\n",
       "      <td>0.999985</td>\n",
       "    </tr>\n",
       "    <tr>\n",
       "      <th>3</th>\n",
       "      <td>F1_score</td>\n",
       "      <td>0.999993</td>\n",
       "    </tr>\n",
       "  </tbody>\n",
       "</table>\n",
       "</div>"
      ],
      "text/plain": [
       "     Metrics   Results\n",
       "0   Accuracy  0.999993\n",
       "1  Precision  1.000000\n",
       "2     Recall  0.999985\n",
       "3   F1_score  0.999993"
      ]
     },
     "execution_count": 163,
     "metadata": {},
     "output_type": "execute_result"
    }
   ],
   "source": [
    "metrics_random_forest_resampled = [['Accuracy',(accuracy_score(test_y, predictions_resampled))],\n",
    "                         ['Precision',precision_score(test_y, predictions_resampled)],\n",
    "                         ['Recall', recall_score(test_y, predictions_resampled)],\n",
    "                         ['F1_score',f1_score(test_y, predictions_resampled)]]\n",
    "metric_values_random_forest_resampled = pd.DataFrame(metrics_random_forest_resampled, columns = ['Metrics', 'Results'])\n",
    "metric_values_random_forest_resampled"
   ]
  },
  {
   "cell_type": "markdown",
   "id": "5874a24a",
   "metadata": {},
   "source": [
    "At this stage, we have to look at the following \n",
    "\n",
    "\n",
    "    ROC Curves and ROC AUC\n",
    "    Precision-Recall Curves and AUC\n",
    "    ROC and Precision-Recall Curves With a Severe Imbalance"
   ]
  },
  {
   "cell_type": "code",
   "execution_count": null,
   "id": "8dd216ae",
   "metadata": {},
   "outputs": [],
   "source": []
  }
 ],
 "metadata": {
  "kernelspec": {
   "display_name": "Python 3 (ipykernel)",
   "language": "python",
   "name": "python3"
  },
  "language_info": {
   "codemirror_mode": {
    "name": "ipython",
    "version": 3
   },
   "file_extension": ".py",
   "mimetype": "text/x-python",
   "name": "python",
   "nbconvert_exporter": "python",
   "pygments_lexer": "ipython3",
   "version": "3.9.7"
  }
 },
 "nbformat": 4,
 "nbformat_minor": 5
}
