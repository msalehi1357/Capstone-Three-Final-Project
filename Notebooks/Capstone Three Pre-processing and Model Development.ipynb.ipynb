{
 "cells": [
  {
   "cell_type": "markdown",
   "id": "7e6556ad",
   "metadata": {},
   "source": [
    "## The purpose of this project is to develop a model to predict credit card fraud using Machine Learning. \n",
    "### This is the Pre-processing and model development step. "
   ]
  },
  {
   "cell_type": "markdown",
   "id": "a14e201a",
   "metadata": {},
   "source": [
    "The data is obtained from Kaggle and here are Feature Explanation (critical features for a fraudulent transaction detection):\n",
    "\n",
    "    distancefromhome - the distance from home where the transaction happened.\n",
    "\n",
    "    distancefromlast_transaction - the distance from last transaction happened.\n",
    "\n",
    "    ratiotomedianpurchaseprice - Ratio of purchased price transaction to median purchase price.\n",
    "\n",
    "    repeat_retailer - Is the transaction happened from same retailer.\n",
    "\n",
    "    used_chip - Is the transaction through chip (credit card).\n",
    "\n",
    "    usedpinnumber - Is the transaction happened by using PIN number.\n",
    "\n",
    "    online_order - Is the transaction an online order.\n",
    "\n",
    "    fraud - Is the transaction fraudulent."
   ]
  },
  {
   "cell_type": "markdown",
   "id": "323fafce",
   "metadata": {},
   "source": [
    "**Fraudulent transactions data sets are imbalanced and we may have \"Accuracy Paradox\", where our accuracy measures tell the story that we have excellent accuracy (such as 90% or higher), but the accuracy is only reflecting the underlying class distribution.**\n",
    "\n",
    "Such problems have a high cost associated with not detecting the minority class correctly."
   ]
  },
  {
   "cell_type": "markdown",
   "id": "475175fb",
   "metadata": {},
   "source": [
    "Error in prediction can be made in two ways:\n",
    "\n",
    "    Classifying not fraud as fraud\n",
    "    Classifying fraud as not fraud\n",
    "It should not be hard to understand that the second error is costlier than the first and it could cost the credit card company lots of money. "
   ]
  },
  {
   "cell_type": "markdown",
   "id": "989f2fd0",
   "metadata": {},
   "source": [
    "# Import libraries "
   ]
  },
  {
   "cell_type": "code",
   "execution_count": 1,
   "id": "ae763b72",
   "metadata": {},
   "outputs": [],
   "source": [
    "import os\n",
    "import numpy as np\n",
    "import pandas as pd\n",
    "import matplotlib.pyplot as plt\n",
    "import seaborn as sns\n",
    "import plotly.express as px\n",
    "from sklearn.model_selection import train_test_split\n",
    "from sklearn import preprocessing\n",
    "from sklearn.linear_model import LogisticRegression\n",
    "from sklearn.svm import SVC\n",
    "from sklearn.neighbors import KNeighborsClassifier\n",
    "from sklearn.tree import DecisionTreeClassifier \n",
    "from sklearn.ensemble import RandomForestClassifier \n",
    "from sklearn.naive_bayes import GaussianNB \n",
    "from sklearn import metrics \n",
    "from sklearn.metrics import classification_report\n",
    "from sklearn.metrics import confusion_matrix\n",
    "from sklearn.model_selection import cross_val_score\n",
    "from sklearn import preprocessing, model_selection, neighbors\n",
    "from sklearn.preprocessing import MinMaxScaler, StandardScaler, RobustScaler\n",
    "from sklearn.ensemble import RandomForestClassifier, AdaBoostClassifier, GradientBoostingClassifier\n",
    "from sklearn.tree import DecisionTreeClassifier\n",
    "from sklearn import tree\n",
    "from sklearn.svm import SVC\n",
    "from sklearn.metrics import classification_report, accuracy_score, confusion_matrix, precision_score\n",
    "from sklearn.metrics import roc_auc_score\n",
    "from sklearn.metrics import roc_curve\n",
    "from sklearn.linear_model import LogisticRegression\n",
    "import xgboost as xgb\n",
    "from xgboost import XGBClassifier\n",
    "from sklearn.metrics import roc_curve, roc_auc_score\n",
    "from sklearn.metrics import confusion_matrix, ConfusionMatrixDisplay, classification_report\n",
    "from sklearn.metrics import confusion_matrix,classification_report,precision_score, recall_score\n",
    "import datetime\n",
    "\n",
    "import warnings # For handling error messages.\n",
    "warnings.simplefilter(action=\"ignore\", category=FutureWarning)\n",
    "warnings.filterwarnings(action=\"ignore\", module=\"scipy\", message=\"^internal gelsd\")\n"
   ]
  },
  {
   "cell_type": "markdown",
   "id": "82a1a4a9",
   "metadata": {},
   "source": [
    "# Load and reviewing the data"
   ]
  },
  {
   "cell_type": "code",
   "execution_count": 2,
   "id": "2b2791fb",
   "metadata": {},
   "outputs": [],
   "source": [
    "path = 'C:/Users/msale/Documents/Springboard Data Science Track_Jan 2022/Capstone-Three-Final-Project/raw_data/card_transdata.csv'\n",
    "data = pd.read_csv(path)"
   ]
  },
  {
   "cell_type": "code",
   "execution_count": 3,
   "id": "64e32e45",
   "metadata": {},
   "outputs": [
    {
     "data": {
      "text/html": [
       "<div>\n",
       "<style scoped>\n",
       "    .dataframe tbody tr th:only-of-type {\n",
       "        vertical-align: middle;\n",
       "    }\n",
       "\n",
       "    .dataframe tbody tr th {\n",
       "        vertical-align: top;\n",
       "    }\n",
       "\n",
       "    .dataframe thead th {\n",
       "        text-align: right;\n",
       "    }\n",
       "</style>\n",
       "<table border=\"1\" class=\"dataframe\">\n",
       "  <thead>\n",
       "    <tr style=\"text-align: right;\">\n",
       "      <th></th>\n",
       "      <th>distance_from_home</th>\n",
       "      <th>distance_from_last_transaction</th>\n",
       "      <th>ratio_to_median_purchase_price</th>\n",
       "      <th>repeat_retailer</th>\n",
       "      <th>used_chip</th>\n",
       "      <th>used_pin_number</th>\n",
       "      <th>online_order</th>\n",
       "      <th>fraud</th>\n",
       "    </tr>\n",
       "  </thead>\n",
       "  <tbody>\n",
       "    <tr>\n",
       "      <th>0</th>\n",
       "      <td>57.877857</td>\n",
       "      <td>0.311140</td>\n",
       "      <td>1.945940</td>\n",
       "      <td>1.0</td>\n",
       "      <td>1.0</td>\n",
       "      <td>0.0</td>\n",
       "      <td>0.0</td>\n",
       "      <td>0.0</td>\n",
       "    </tr>\n",
       "    <tr>\n",
       "      <th>1</th>\n",
       "      <td>10.829943</td>\n",
       "      <td>0.175592</td>\n",
       "      <td>1.294219</td>\n",
       "      <td>1.0</td>\n",
       "      <td>0.0</td>\n",
       "      <td>0.0</td>\n",
       "      <td>0.0</td>\n",
       "      <td>0.0</td>\n",
       "    </tr>\n",
       "    <tr>\n",
       "      <th>2</th>\n",
       "      <td>5.091079</td>\n",
       "      <td>0.805153</td>\n",
       "      <td>0.427715</td>\n",
       "      <td>1.0</td>\n",
       "      <td>0.0</td>\n",
       "      <td>0.0</td>\n",
       "      <td>1.0</td>\n",
       "      <td>0.0</td>\n",
       "    </tr>\n",
       "    <tr>\n",
       "      <th>3</th>\n",
       "      <td>2.247564</td>\n",
       "      <td>5.600044</td>\n",
       "      <td>0.362663</td>\n",
       "      <td>1.0</td>\n",
       "      <td>1.0</td>\n",
       "      <td>0.0</td>\n",
       "      <td>1.0</td>\n",
       "      <td>0.0</td>\n",
       "    </tr>\n",
       "    <tr>\n",
       "      <th>4</th>\n",
       "      <td>44.190936</td>\n",
       "      <td>0.566486</td>\n",
       "      <td>2.222767</td>\n",
       "      <td>1.0</td>\n",
       "      <td>1.0</td>\n",
       "      <td>0.0</td>\n",
       "      <td>1.0</td>\n",
       "      <td>0.0</td>\n",
       "    </tr>\n",
       "  </tbody>\n",
       "</table>\n",
       "</div>"
      ],
      "text/plain": [
       "   distance_from_home  distance_from_last_transaction  \\\n",
       "0           57.877857                        0.311140   \n",
       "1           10.829943                        0.175592   \n",
       "2            5.091079                        0.805153   \n",
       "3            2.247564                        5.600044   \n",
       "4           44.190936                        0.566486   \n",
       "\n",
       "   ratio_to_median_purchase_price  repeat_retailer  used_chip  \\\n",
       "0                        1.945940              1.0        1.0   \n",
       "1                        1.294219              1.0        0.0   \n",
       "2                        0.427715              1.0        0.0   \n",
       "3                        0.362663              1.0        1.0   \n",
       "4                        2.222767              1.0        1.0   \n",
       "\n",
       "   used_pin_number  online_order  fraud  \n",
       "0              0.0           0.0    0.0  \n",
       "1              0.0           0.0    0.0  \n",
       "2              0.0           1.0    0.0  \n",
       "3              0.0           1.0    0.0  \n",
       "4              0.0           1.0    0.0  "
      ]
     },
     "execution_count": 3,
     "metadata": {},
     "output_type": "execute_result"
    }
   ],
   "source": [
    "data.head() # we have 8 columns with the target variable being last column: fraud\n",
    "# there are three numericla and five categorical columns "
   ]
  },
  {
   "cell_type": "code",
   "execution_count": 4,
   "id": "e63da92a",
   "metadata": {},
   "outputs": [
    {
     "name": "stdout",
     "output_type": "stream",
     "text": [
      "<class 'pandas.core.frame.DataFrame'>\n",
      "RangeIndex: 1000000 entries, 0 to 999999\n",
      "Data columns (total 8 columns):\n",
      " #   Column                          Non-Null Count    Dtype  \n",
      "---  ------                          --------------    -----  \n",
      " 0   distance_from_home              1000000 non-null  float64\n",
      " 1   distance_from_last_transaction  1000000 non-null  float64\n",
      " 2   ratio_to_median_purchase_price  1000000 non-null  float64\n",
      " 3   repeat_retailer                 1000000 non-null  float64\n",
      " 4   used_chip                       1000000 non-null  float64\n",
      " 5   used_pin_number                 1000000 non-null  float64\n",
      " 6   online_order                    1000000 non-null  float64\n",
      " 7   fraud                           1000000 non-null  float64\n",
      "dtypes: float64(8)\n",
      "memory usage: 61.0 MB\n"
     ]
    }
   ],
   "source": [
    "data.info() # 1M observations. "
   ]
  },
  {
   "cell_type": "code",
   "execution_count": 5,
   "id": "bd37046b",
   "metadata": {},
   "outputs": [],
   "source": [
    "df = data # calling clean dataframe df"
   ]
  },
  {
   "cell_type": "markdown",
   "id": "0591e866",
   "metadata": {},
   "source": [
    "##### Taking a look at numerical features "
   ]
  },
  {
   "cell_type": "code",
   "execution_count": 6,
   "id": "21b226d6",
   "metadata": {},
   "outputs": [
    {
     "data": {
      "image/png": "[encoded data removed]",
      "text/plain": [
       "<Figure size 1080x720 with 3 Axes>"
      ]
     },
     "metadata": {
      "needs_background": "light"
     },
     "output_type": "display_data"
    }
   ],
   "source": [
    "num_list = ['distance_from_home', 'distance_from_last_transaction', 'ratio_to_median_purchase_price']\n",
    "fig = plt.figure(figsize =(15,10))\n",
    "\n",
    "for i in range(len(num_list)):\n",
    "    column = num_list[i]\n",
    "    sub= fig.add_subplot(2,3, i+1)\n",
    "    sns.boxplot(x = 'fraud', y  = column, data = df, palette = 'RdYlBu_r')\n",
    "    "
   ]
  },
  {
   "cell_type": "markdown",
   "id": "05951d52",
   "metadata": {},
   "source": [
    "##### Data are very skewed and widespread. "
   ]
  },
  {
   "cell_type": "markdown",
   "id": "abf857a1",
   "metadata": {},
   "source": [
    "##### Define our X (features) and y (target variable)"
   ]
  },
  {
   "cell_type": "code",
   "execution_count": 133,
   "id": "077bbacf",
   "metadata": {},
   "outputs": [],
   "source": [
    "X = df.drop(['fraud'], axis=1)\n",
    "y = df[\"fraud\"]"
   ]
  },
  {
   "cell_type": "markdown",
   "id": "37cf359b",
   "metadata": {},
   "source": [
    "##### Train/Test Split (Creating a 70/30 train and test split)¶"
   ]
  },
  {
   "cell_type": "code",
   "execution_count": 134,
   "id": "d2ad52cb",
   "metadata": {},
   "outputs": [],
   "source": [
    "# do a 30/70 splitt\n",
    "X_train, X_test, y_train, y_test = train_test_split(X, y, test_size=0.3, random_state=42)"
   ]
  },
  {
   "cell_type": "code",
   "execution_count": 9,
   "id": "dba18700",
   "metadata": {},
   "outputs": [
    {
     "name": "stdout",
     "output_type": "stream",
     "text": [
      "Dataset: Class_0=912597, Class_1=87403\n",
      "Train Set: Class_0=638726, Class_1=61274\n",
      "Test Set: Class_0=273871, Class_1=26129\n"
     ]
    }
   ],
   "source": [
    "# summarize dataset\n",
    "print('Dataset: Class_0=%d, Class_1=%d' % (len(y[y==0]),len(y[y==1])))\n",
    "print('Train Set: Class_0=%d, Class_1=%d' % (len(y_train[y_train==0]), len(y_train[y_train==1])))\n",
    "print('Test Set: Class_0=%d, Class_1=%d' % (len(y_test[y_test==0]), len(y_test[y_test==1])))"
   ]
  },
  {
   "cell_type": "markdown",
   "id": "00b11e3e",
   "metadata": {},
   "source": [
    "**Fraudulent transactions data sets are imbalanced and we may have \"Accuracy Paradox\", where our accuracy measures tell the story that we have excellent accuracy (such as 90% or higher), but the accuracy is only reflecting the underlying class distribution.**\n",
    "\n",
    "Such problems have a high cost associated with not detecting the minority class correctly. "
   ]
  },
  {
   "cell_type": "markdown",
   "id": "59eb76f0",
   "metadata": {},
   "source": [
    "# Initial Model"
   ]
  },
  {
   "cell_type": "code",
   "execution_count": 10,
   "id": "9f0bdaef",
   "metadata": {},
   "outputs": [],
   "source": [
    "# LogisticRegression\n",
    "lr = LogisticRegression(random_state= 20)"
   ]
  },
  {
   "cell_type": "code",
   "execution_count": 11,
   "id": "6a78f5b2",
   "metadata": {},
   "outputs": [],
   "source": [
    "roc_auc_dict = {}\n",
    "pr_auc_score_dict = {}"
   ]
  },
  {
   "cell_type": "markdown",
   "id": "97978751",
   "metadata": {},
   "source": [
    "### Base Case (unscaled data--imbalanced)"
   ]
  },
  {
   "cell_type": "code",
   "execution_count": 12,
   "id": "e008db5e",
   "metadata": {},
   "outputs": [
    {
     "name": "stderr",
     "output_type": "stream",
     "text": [
      "C:\\Users\\msale\\anaconda3\\lib\\site-packages\\sklearn\\linear_model\\_logistic.py:444: ConvergenceWarning: lbfgs failed to converge (status=1):\n",
      "STOP: TOTAL NO. of ITERATIONS REACHED LIMIT.\n",
      "\n",
      "Increase the number of iterations (max_iter) or scale the data as shown in:\n",
      "    https://scikit-learn.org/stable/modules/preprocessing.html\n",
      "Please also refer to the documentation for alternative solver options:\n",
      "    https://scikit-learn.org/stable/modules/linear_model.html#logistic-regression\n",
      "  n_iter_i = _check_optimize_result(\n"
     ]
    },
    {
     "data": {
      "text/html": [
       "<style>#sk-container-id-1 {color: black;background-color: white;}#sk-container-id-1 pre{padding: 0;}#sk-container-id-1 div.sk-toggleable {background-color: white;}#sk-container-id-1 label.sk-toggleable__label {cursor: pointer;display: block;width: 100%;margin-bottom: 0;padding: 0.3em;box-sizing: border-box;text-align: center;}#sk-container-id-1 label.sk-toggleable__label-arrow:before {content: \"▸\";float: left;margin-right: 0.25em;color: #696969;}#sk-container-id-1 label.sk-toggleable__label-arrow:hover:before {color: black;}#sk-container-id-1 div.sk-estimator:hover label.sk-toggleable__label-arrow:before {color: black;}#sk-container-id-1 div.sk-toggleable__content {max-height: 0;max-width: 0;overflow: hidden;text-align: left;background-color: #f0f8ff;}#sk-container-id-1 div.sk-toggleable__content pre {margin: 0.2em;color: black;border-radius: 0.25em;background-color: #f0f8ff;}#sk-container-id-1 input.sk-toggleable__control:checked~div.sk-toggleable__content {max-height: 200px;max-width: 100%;overflow: auto;}#sk-container-id-1 input.sk-toggleable__control:checked~label.sk-toggleable__label-arrow:before {content: \"▾\";}#sk-container-id-1 div.sk-estimator input.sk-toggleable__control:checked~label.sk-toggleable__label {background-color: #d4ebff;}#sk-container-id-1 div.sk-label input.sk-toggleable__control:checked~label.sk-toggleable__label {background-color: #d4ebff;}#sk-container-id-1 input.sk-hidden--visually {border: 0;clip: rect(1px 1px 1px 1px);clip: rect(1px, 1px, 1px, 1px);height: 1px;margin: -1px;overflow: hidden;padding: 0;position: absolute;width: 1px;}#sk-container-id-1 div.sk-estimator {font-family: monospace;background-color: #f0f8ff;border: 1px dotted black;border-radius: 0.25em;box-sizing: border-box;margin-bottom: 0.5em;}#sk-container-id-1 div.sk-estimator:hover {background-color: #d4ebff;}#sk-container-id-1 div.sk-parallel-item::after {content: \"\";width: 100%;border-bottom: 1px solid gray;flex-grow: 1;}#sk-container-id-1 div.sk-label:hover label.sk-toggleable__label {background-color: #d4ebff;}#sk-container-id-1 div.sk-serial::before {content: \"\";position: absolute;border-left: 1px solid gray;box-sizing: border-box;top: 0;bottom: 0;left: 50%;z-index: 0;}#sk-container-id-1 div.sk-serial {display: flex;flex-direction: column;align-items: center;background-color: white;padding-right: 0.2em;padding-left: 0.2em;position: relative;}#sk-container-id-1 div.sk-item {position: relative;z-index: 1;}#sk-container-id-1 div.sk-parallel {display: flex;align-items: stretch;justify-content: center;background-color: white;position: relative;}#sk-container-id-1 div.sk-item::before, #sk-container-id-1 div.sk-parallel-item::before {content: \"\";position: absolute;border-left: 1px solid gray;box-sizing: border-box;top: 0;bottom: 0;left: 50%;z-index: -1;}#sk-container-id-1 div.sk-parallel-item {display: flex;flex-direction: column;z-index: 1;position: relative;background-color: white;}#sk-container-id-1 div.sk-parallel-item:first-child::after {align-self: flex-end;width: 50%;}#sk-container-id-1 div.sk-parallel-item:last-child::after {align-self: flex-start;width: 50%;}#sk-container-id-1 div.sk-parallel-item:only-child::after {width: 0;}#sk-container-id-1 div.sk-dashed-wrapped {border: 1px dashed gray;margin: 0 0.4em 0.5em 0.4em;box-sizing: border-box;padding-bottom: 0.4em;background-color: white;}#sk-container-id-1 div.sk-label label {font-family: monospace;font-weight: bold;display: inline-block;line-height: 1.2em;}#sk-container-id-1 div.sk-label-container {text-align: center;}#sk-container-id-1 div.sk-container {/* jupyter's `normalize.less` sets `[hidden] { display: none; }` but bootstrap.min.css set `[hidden] { display: none !important; }` so we also need the `!important` here to be able to override the default hidden behavior on the sphinx rendered scikit-learn.org. See: https://github.com/scikit-learn/scikit-learn/issues/21755 */display: inline-block !important;position: relative;}#sk-container-id-1 div.sk-text-repr-fallback {display: none;}</style><div id=\"sk-container-id-1\" class=\"sk-top-container\"><div class=\"sk-text-repr-fallback\"><pre>LogisticRegression(random_state=20)</pre><b>In a Jupyter environment, please rerun this cell to show the HTML representation or trust the notebook. <br />On GitHub, the HTML representation is unable to render, please try loading this page with nbviewer.org.</b></div><div class=\"sk-container\" hidden><div class=\"sk-item\"><div class=\"sk-estimator sk-toggleable\"><input class=\"sk-toggleable__control sk-hidden--visually\" id=\"sk-estimator-id-1\" type=\"checkbox\" checked><label for=\"sk-estimator-id-1\" class=\"sk-toggleable__label sk-toggleable__label-arrow\">LogisticRegression</label><div class=\"sk-toggleable__content\"><pre>LogisticRegression(random_state=20)</pre></div></div></div></div></div>"
      ],
      "text/plain": [
       "LogisticRegression(random_state=20)"
      ]
     },
     "execution_count": 12,
     "metadata": {},
     "output_type": "execute_result"
    }
   ],
   "source": [
    "lr.fit(X_train,y_train)"
   ]
  },
  {
   "cell_type": "markdown",
   "id": "a40fcb7c",
   "metadata": {},
   "source": [
    "###### Algorithms that fit a model and use a weighted sum of input variables are affected by difference in scale for input variables, such as linear regression, logistic regression, and artificial neural networks (deep learning). Also, when the distance or dot products between predictors are used (such as K-nearest neighbors or support vector machines) or when the variables are required to be a common scale in order to apply a penalty, a standardization procedure is essential.\n",
    "\n",
    "**If the standard deviations are very small for features, StandardScaler is highly sensitive to small changes between standard deviations of different features, but MinMaxScaler is very robust. Also, for features with highly skewed distributions, or sparse cases where each feature has a lot of zeros that moves the distribution away from a Gaussian, MinMaxScaler is a better choice.**"
   ]
  },
  {
   "cell_type": "code",
   "execution_count": 13,
   "id": "1df3ba17",
   "metadata": {},
   "outputs": [],
   "source": [
    "y_pred_lr_unscaled = lr.predict(X_test)"
   ]
  },
  {
   "cell_type": "code",
   "execution_count": 14,
   "id": "c8102b64",
   "metadata": {},
   "outputs": [
    {
     "name": "stdout",
     "output_type": "stream",
     "text": [
      "              precision    recall  f1-score   support\n",
      "\n",
      "         0.0       0.96      0.99      0.98    273871\n",
      "         1.0       0.89      0.60      0.71     26129\n",
      "\n",
      "    accuracy                           0.96    300000\n",
      "   macro avg       0.93      0.80      0.85    300000\n",
      "weighted avg       0.96      0.96      0.95    300000\n",
      "\n"
     ]
    }
   ],
   "source": [
    "print(classification_report(y_test,y_pred_lr_unscaled))"
   ]
  },
  {
   "cell_type": "code",
   "execution_count": 15,
   "id": "96e3f835",
   "metadata": {},
   "outputs": [
    {
     "data": {
      "image/png": "[encoded data removed]",
      "text/plain": [
       "<Figure size 432x288 with 1 Axes>"
      ]
     },
     "metadata": {
      "needs_background": "light"
     },
     "output_type": "display_data"
    }
   ],
   "source": [
    "yhat = lr.predict_proba(X_test)\n",
    "# retrieve just the probabilities for the positive class\n",
    "pos_probs_lr = yhat[:, 1]\n",
    "# plot no skill roc curve\n",
    "plt.plot([0, 1], [0, 1], linestyle='--', label='No Skill')\n",
    "# calculate roc curve for model\n",
    "fpr, tpr, _ = roc_curve(y_test, pos_probs_lr)\n",
    "# plot model roc curve\n",
    "plt.plot(fpr, tpr, marker='.', label='LogisticRegression')\n",
    "# axis labels\n",
    "plt.xlabel('False Positive Rate')\n",
    "plt.ylabel('True Positive Rate')\n",
    "# show the legend\n",
    "plt.legend()\n",
    "# show the plot\n",
    "plt.show()"
   ]
  },
  {
   "cell_type": "code",
   "execution_count": 16,
   "id": "dfd45dca",
   "metadata": {},
   "outputs": [],
   "source": [
    "from sklearn.metrics import roc_auc_score"
   ]
  },
  {
   "cell_type": "code",
   "execution_count": 17,
   "id": "af867047",
   "metadata": {},
   "outputs": [
    {
     "name": "stdout",
     "output_type": "stream",
     "text": [
      "LogisticRegression ROC AUC 0.966\n"
     ]
    }
   ],
   "source": [
    "# calculate roc auc\n",
    "roc_auc = roc_auc_score(y_test, pos_probs_lr)\n",
    "\n",
    "print('LogisticRegression ROC AUC %.3f' % roc_auc)"
   ]
  },
  {
   "cell_type": "code",
   "execution_count": 18,
   "id": "dc1965c4",
   "metadata": {},
   "outputs": [],
   "source": [
    "from sklearn.metrics import precision_recall_curve"
   ]
  },
  {
   "cell_type": "code",
   "execution_count": 19,
   "id": "940d9176",
   "metadata": {},
   "outputs": [
    {
     "data": {
      "image/png": "[encoded data removed]",
      "text/plain": [
       "<Figure size 432x288 with 1 Axes>"
      ]
     },
     "metadata": {
      "needs_background": "light"
     },
     "output_type": "display_data"
    }
   ],
   "source": [
    "precision, recall, _ = precision_recall_curve(y_test, pos_probs_lr)\n",
    "# plot the model precision-recall curve\n",
    "plt.plot(recall, precision, marker='.', label='LogisticRegression')\n",
    "# axis labels\n",
    "plt.xlabel('Recall')\n",
    "plt.ylabel('Precision')\n",
    "# show the legend\n",
    "plt.legend()\n",
    "# show the plot\n",
    "plt.show()"
   ]
  },
  {
   "cell_type": "code",
   "execution_count": 20,
   "id": "5fa1112c",
   "metadata": {},
   "outputs": [
    {
     "name": "stdout",
     "output_type": "stream",
     "text": [
      "LogisticRegression PR AUC: 0.801\n"
     ]
    }
   ],
   "source": [
    "from sklearn.metrics import auc\n",
    "pr_auc_score = auc(recall, precision)\n",
    "print('LogisticRegression PR AUC: %.3f' % pr_auc_score)"
   ]
  },
  {
   "cell_type": "code",
   "execution_count": 21,
   "id": "7d0f17df",
   "metadata": {},
   "outputs": [],
   "source": [
    "roc_auc_dict['Unscaled-Imbalanced'] = round(roc_auc,4)\n",
    "pr_auc_score_dict['Unscaled-Imbalanced']= round(pr_auc_score,4)"
   ]
  },
  {
   "cell_type": "markdown",
   "id": "b54c1130",
   "metadata": {},
   "source": [
    "### Base Case (scaled data--imbalanced)"
   ]
  },
  {
   "cell_type": "code",
   "execution_count": 140,
   "id": "d19362f7",
   "metadata": {},
   "outputs": [],
   "source": [
    "scaler = StandardScaler()\n",
    "X_train_scaled= scaler.fit_transform(X_train)\n",
    "X_test_scaled= scaler.transform(X_test)"
   ]
  },
  {
   "cell_type": "code",
   "execution_count": 23,
   "id": "d30ae4b0",
   "metadata": {},
   "outputs": [
    {
     "data": {
      "text/html": [
       "<style>#sk-container-id-2 {color: black;background-color: white;}#sk-container-id-2 pre{padding: 0;}#sk-container-id-2 div.sk-toggleable {background-color: white;}#sk-container-id-2 label.sk-toggleable__label {cursor: pointer;display: block;width: 100%;margin-bottom: 0;padding: 0.3em;box-sizing: border-box;text-align: center;}#sk-container-id-2 label.sk-toggleable__label-arrow:before {content: \"▸\";float: left;margin-right: 0.25em;color: #696969;}#sk-container-id-2 label.sk-toggleable__label-arrow:hover:before {color: black;}#sk-container-id-2 div.sk-estimator:hover label.sk-toggleable__label-arrow:before {color: black;}#sk-container-id-2 div.sk-toggleable__content {max-height: 0;max-width: 0;overflow: hidden;text-align: left;background-color: #f0f8ff;}#sk-container-id-2 div.sk-toggleable__content pre {margin: 0.2em;color: black;border-radius: 0.25em;background-color: #f0f8ff;}#sk-container-id-2 input.sk-toggleable__control:checked~div.sk-toggleable__content {max-height: 200px;max-width: 100%;overflow: auto;}#sk-container-id-2 input.sk-toggleable__control:checked~label.sk-toggleable__label-arrow:before {content: \"▾\";}#sk-container-id-2 div.sk-estimator input.sk-toggleable__control:checked~label.sk-toggleable__label {background-color: #d4ebff;}#sk-container-id-2 div.sk-label input.sk-toggleable__control:checked~label.sk-toggleable__label {background-color: #d4ebff;}#sk-container-id-2 input.sk-hidden--visually {border: 0;clip: rect(1px 1px 1px 1px);clip: rect(1px, 1px, 1px, 1px);height: 1px;margin: -1px;overflow: hidden;padding: 0;position: absolute;width: 1px;}#sk-container-id-2 div.sk-estimator {font-family: monospace;background-color: #f0f8ff;border: 1px dotted black;border-radius: 0.25em;box-sizing: border-box;margin-bottom: 0.5em;}#sk-container-id-2 div.sk-estimator:hover {background-color: #d4ebff;}#sk-container-id-2 div.sk-parallel-item::after {content: \"\";width: 100%;border-bottom: 1px solid gray;flex-grow: 1;}#sk-container-id-2 div.sk-label:hover label.sk-toggleable__label {background-color: #d4ebff;}#sk-container-id-2 div.sk-serial::before {content: \"\";position: absolute;border-left: 1px solid gray;box-sizing: border-box;top: 0;bottom: 0;left: 50%;z-index: 0;}#sk-container-id-2 div.sk-serial {display: flex;flex-direction: column;align-items: center;background-color: white;padding-right: 0.2em;padding-left: 0.2em;position: relative;}#sk-container-id-2 div.sk-item {position: relative;z-index: 1;}#sk-container-id-2 div.sk-parallel {display: flex;align-items: stretch;justify-content: center;background-color: white;position: relative;}#sk-container-id-2 div.sk-item::before, #sk-container-id-2 div.sk-parallel-item::before {content: \"\";position: absolute;border-left: 1px solid gray;box-sizing: border-box;top: 0;bottom: 0;left: 50%;z-index: -1;}#sk-container-id-2 div.sk-parallel-item {display: flex;flex-direction: column;z-index: 1;position: relative;background-color: white;}#sk-container-id-2 div.sk-parallel-item:first-child::after {align-self: flex-end;width: 50%;}#sk-container-id-2 div.sk-parallel-item:last-child::after {align-self: flex-start;width: 50%;}#sk-container-id-2 div.sk-parallel-item:only-child::after {width: 0;}#sk-container-id-2 div.sk-dashed-wrapped {border: 1px dashed gray;margin: 0 0.4em 0.5em 0.4em;box-sizing: border-box;padding-bottom: 0.4em;background-color: white;}#sk-container-id-2 div.sk-label label {font-family: monospace;font-weight: bold;display: inline-block;line-height: 1.2em;}#sk-container-id-2 div.sk-label-container {text-align: center;}#sk-container-id-2 div.sk-container {/* jupyter's `normalize.less` sets `[hidden] { display: none; }` but bootstrap.min.css set `[hidden] { display: none !important; }` so we also need the `!important` here to be able to override the default hidden behavior on the sphinx rendered scikit-learn.org. See: https://github.com/scikit-learn/scikit-learn/issues/21755 */display: inline-block !important;position: relative;}#sk-container-id-2 div.sk-text-repr-fallback {display: none;}</style><div id=\"sk-container-id-2\" class=\"sk-top-container\"><div class=\"sk-text-repr-fallback\"><pre>LogisticRegression(random_state=20)</pre><b>In a Jupyter environment, please rerun this cell to show the HTML representation or trust the notebook. <br />On GitHub, the HTML representation is unable to render, please try loading this page with nbviewer.org.</b></div><div class=\"sk-container\" hidden><div class=\"sk-item\"><div class=\"sk-estimator sk-toggleable\"><input class=\"sk-toggleable__control sk-hidden--visually\" id=\"sk-estimator-id-2\" type=\"checkbox\" checked><label for=\"sk-estimator-id-2\" class=\"sk-toggleable__label sk-toggleable__label-arrow\">LogisticRegression</label><div class=\"sk-toggleable__content\"><pre>LogisticRegression(random_state=20)</pre></div></div></div></div></div>"
      ],
      "text/plain": [
       "LogisticRegression(random_state=20)"
      ]
     },
     "execution_count": 23,
     "metadata": {},
     "output_type": "execute_result"
    }
   ],
   "source": [
    "lr.fit(X_train_scaled,y_train)"
   ]
  },
  {
   "cell_type": "code",
   "execution_count": 24,
   "id": "cc2f1938",
   "metadata": {},
   "outputs": [],
   "source": [
    "y_pred_lr_scaled = lr.predict(X_test_scaled)"
   ]
  },
  {
   "cell_type": "code",
   "execution_count": 25,
   "id": "b5f29abb",
   "metadata": {},
   "outputs": [
    {
     "name": "stdout",
     "output_type": "stream",
     "text": [
      "              precision    recall  f1-score   support\n",
      "\n",
      "         0.0       0.96      0.99      0.98    273871\n",
      "         1.0       0.89      0.60      0.72     26129\n",
      "\n",
      "    accuracy                           0.96    300000\n",
      "   macro avg       0.93      0.80      0.85    300000\n",
      "weighted avg       0.96      0.96      0.95    300000\n",
      "\n"
     ]
    }
   ],
   "source": [
    "print(classification_report(y_test,y_pred_lr_scaled ))"
   ]
  },
  {
   "cell_type": "code",
   "execution_count": 26,
   "id": "b18a0e29",
   "metadata": {},
   "outputs": [
    {
     "data": {
      "image/png": "[encoded data removed]",
      "text/plain": [
       "<Figure size 432x288 with 1 Axes>"
      ]
     },
     "metadata": {
      "needs_background": "light"
     },
     "output_type": "display_data"
    }
   ],
   "source": [
    "yhat = lr.predict_proba(X_test_scaled)\n",
    "# retrieve just the probabilities for the positive class\n",
    "pos_probs_lr_scaled = yhat[:, 1]\n",
    "# plot no skill roc curve\n",
    "plt.plot([0, 1], [0, 1], linestyle='--', label='No Skill')\n",
    "# calculate roc curve for model\n",
    "fpr, tpr, _ = roc_curve(y_test, pos_probs_lr)\n",
    "# plot model roc curve\n",
    "plt.plot(fpr, tpr, marker='.', label='DecisionTreeClassifier')\n",
    "# axis labels\n",
    "plt.xlabel('False Positive Rate')\n",
    "plt.ylabel('True Positive Rate')\n",
    "# show the legend\n",
    "plt.legend()\n",
    "# show the plot\n",
    "plt.show()"
   ]
  },
  {
   "cell_type": "code",
   "execution_count": 27,
   "id": "c4dc75e1",
   "metadata": {},
   "outputs": [
    {
     "name": "stdout",
     "output_type": "stream",
     "text": [
      "LogisticRegression ROC AUC 0.966\n"
     ]
    }
   ],
   "source": [
    "# calculate roc auc\n",
    "roc_auc_scaled = roc_auc_score(y_test, pos_probs_lr_scaled)\n",
    "\n",
    "print('LogisticRegression ROC AUC %.3f' % roc_auc_scaled)"
   ]
  },
  {
   "cell_type": "code",
   "execution_count": 28,
   "id": "9ce0aad1",
   "metadata": {},
   "outputs": [],
   "source": [
    "from sklearn.metrics import precision_recall_curve"
   ]
  },
  {
   "cell_type": "code",
   "execution_count": 29,
   "id": "4ffa01d4",
   "metadata": {},
   "outputs": [
    {
     "data": {
      "image/png": "[encoded data removed]",
      "text/plain": [
       "<Figure size 432x288 with 1 Axes>"
      ]
     },
     "metadata": {
      "needs_background": "light"
     },
     "output_type": "display_data"
    }
   ],
   "source": [
    "precision, recall, _ = precision_recall_curve(y_test, pos_probs_lr_scaled)\n",
    "# plot the model precision-recall curve\n",
    "plt.plot(recall, precision, marker='.', label='LogisticRegression')\n",
    "# axis labels\n",
    "plt.xlabel('Recall')\n",
    "plt.ylabel('Precision')\n",
    "# show the legend\n",
    "plt.legend()\n",
    "# show the plot\n",
    "plt.show()"
   ]
  },
  {
   "cell_type": "code",
   "execution_count": 30,
   "id": "f4383024",
   "metadata": {},
   "outputs": [
    {
     "name": "stdout",
     "output_type": "stream",
     "text": [
      "LogisticRegression PR AUC: 0.801\n"
     ]
    }
   ],
   "source": [
    "from sklearn.metrics import auc\n",
    "pr_auc_score_scaled = auc(recall, precision)\n",
    "print('LogisticRegression PR AUC: %.3f' % pr_auc_score_scaled)"
   ]
  },
  {
   "cell_type": "code",
   "execution_count": 31,
   "id": "521fad79",
   "metadata": {},
   "outputs": [],
   "source": [
    "roc_auc_dict['Scaled-Imbalanced'] = round(roc_auc_scaled,4)\n",
    "pr_auc_score_dict['Scaled-Imbalanced']= round(pr_auc_score_scaled,4)"
   ]
  },
  {
   "cell_type": "markdown",
   "id": "90236a34",
   "metadata": {},
   "source": [
    "###### Scaling the data got rid of the convergence error, but had no effect on ROC AUC and PR AUC values. \n",
    "\n",
    "**Going forward, we will use scaled data to allow us look at a number of different algorithms.**"
   ]
  },
  {
   "cell_type": "code",
   "execution_count": 135,
   "id": "cfe579be",
   "metadata": {},
   "outputs": [],
   "source": [
    "# standardize the data\n",
    "from sklearn.preprocessing import StandardScaler\n",
    "scaler = StandardScaler()\n",
    "X = scaler.fit_transform(X)"
   ]
  },
  {
   "cell_type": "code",
   "execution_count": 33,
   "id": "f72c187e",
   "metadata": {},
   "outputs": [
    {
     "data": {
      "text/plain": [
       "(-1.7280399333685637e-17, 1.0000000000000002)"
      ]
     },
     "execution_count": 33,
     "metadata": {},
     "output_type": "execute_result"
    }
   ],
   "source": [
    "X.mean(), X.std()"
   ]
  },
  {
   "cell_type": "markdown",
   "id": "1a55073f",
   "metadata": {},
   "source": [
    "# Dealing with Imbalanced Data "
   ]
  },
  {
   "cell_type": "markdown",
   "id": "1fbd1b31",
   "metadata": {},
   "source": [
    "###### We will create different data sets along with their train/test splits "
   ]
  },
  {
   "cell_type": "markdown",
   "id": "16fdbea4",
   "metadata": {},
   "source": [
    "## Random Undersampleing"
   ]
  },
  {
   "cell_type": "markdown",
   "id": "ea38bfd5",
   "metadata": {},
   "source": [
    "Random Under-Sampling\n",
    "\n",
    "\n",
    "    Advantages:\n",
    "    It can help improve run time and storage problems by reducing the number of training data samples when the training \n",
    "    data set is huge.\n",
    "    Disadvantages\n",
    "    It can discard potentially useful information which could be important for building rule classifiers.\n",
    "    The sample chosen by random under sampling may be a biased sample. And it will not be an accurate representative of the         population. Thereby, resulting in inaccurate results with the actual test data set."
   ]
  },
  {
   "cell_type": "code",
   "execution_count": 34,
   "id": "c9de5b8c",
   "metadata": {},
   "outputs": [],
   "source": [
    "from imblearn.under_sampling import RandomUnderSampler \n",
    "from collections import Counter"
   ]
  },
  {
   "cell_type": "code",
   "execution_count": 35,
   "id": "0096d297",
   "metadata": {},
   "outputs": [],
   "source": [
    "rus = RandomUnderSampler(random_state=42)\n",
    "X_rus, y_rus = rus.fit_resample(X, y)"
   ]
  },
  {
   "cell_type": "code",
   "execution_count": 36,
   "id": "1ba968c3",
   "metadata": {},
   "outputs": [
    {
     "name": "stdout",
     "output_type": "stream",
     "text": [
      "Resampled dataset shape Counter({0.0: 87403, 1.0: 87403})\n"
     ]
    }
   ],
   "source": [
    "print('Resampled dataset shape %s' % Counter(y_rus))"
   ]
  },
  {
   "cell_type": "code",
   "execution_count": 37,
   "id": "289fcb7c",
   "metadata": {},
   "outputs": [
    {
     "data": {
      "text/html": [
       "<div>\n",
       "<style scoped>\n",
       "    .dataframe tbody tr th:only-of-type {\n",
       "        vertical-align: middle;\n",
       "    }\n",
       "\n",
       "    .dataframe tbody tr th {\n",
       "        vertical-align: top;\n",
       "    }\n",
       "\n",
       "    .dataframe thead th {\n",
       "        text-align: right;\n",
       "    }\n",
       "</style>\n",
       "<table border=\"1\" class=\"dataframe\">\n",
       "  <thead>\n",
       "    <tr style=\"text-align: right;\">\n",
       "      <th></th>\n",
       "      <th>0</th>\n",
       "      <th>1</th>\n",
       "      <th>2</th>\n",
       "      <th>3</th>\n",
       "      <th>4</th>\n",
       "      <th>5</th>\n",
       "      <th>6</th>\n",
       "      <th>fraud</th>\n",
       "    </tr>\n",
       "  </thead>\n",
       "  <tbody>\n",
       "    <tr>\n",
       "      <th>0</th>\n",
       "      <td>-0.283767</td>\n",
       "      <td>-0.171091</td>\n",
       "      <td>-0.623798</td>\n",
       "      <td>0.366584</td>\n",
       "      <td>-0.734443</td>\n",
       "      <td>-0.334458</td>\n",
       "      <td>0.732909</td>\n",
       "      <td>0.0</td>\n",
       "    </tr>\n",
       "    <tr>\n",
       "      <th>1</th>\n",
       "      <td>0.082055</td>\n",
       "      <td>0.029875</td>\n",
       "      <td>-0.227782</td>\n",
       "      <td>0.366584</td>\n",
       "      <td>-0.734443</td>\n",
       "      <td>2.989911</td>\n",
       "      <td>-1.364425</td>\n",
       "      <td>0.0</td>\n",
       "    </tr>\n",
       "    <tr>\n",
       "      <th>2</th>\n",
       "      <td>-0.284645</td>\n",
       "      <td>-0.027755</td>\n",
       "      <td>-0.327773</td>\n",
       "      <td>0.366584</td>\n",
       "      <td>-0.734443</td>\n",
       "      <td>-0.334458</td>\n",
       "      <td>0.732909</td>\n",
       "      <td>0.0</td>\n",
       "    </tr>\n",
       "    <tr>\n",
       "      <th>3</th>\n",
       "      <td>-0.311948</td>\n",
       "      <td>-0.164081</td>\n",
       "      <td>-0.577695</td>\n",
       "      <td>0.366584</td>\n",
       "      <td>1.361576</td>\n",
       "      <td>-0.334458</td>\n",
       "      <td>-1.364425</td>\n",
       "      <td>0.0</td>\n",
       "    </tr>\n",
       "    <tr>\n",
       "      <th>4</th>\n",
       "      <td>0.280900</td>\n",
       "      <td>0.228559</td>\n",
       "      <td>-0.345485</td>\n",
       "      <td>0.366584</td>\n",
       "      <td>-0.734443</td>\n",
       "      <td>-0.334458</td>\n",
       "      <td>0.732909</td>\n",
       "      <td>0.0</td>\n",
       "    </tr>\n",
       "  </tbody>\n",
       "</table>\n",
       "</div>"
      ],
      "text/plain": [
       "          0         1         2         3         4         5         6  fraud\n",
       "0 -0.283767 -0.171091 -0.623798  0.366584 -0.734443 -0.334458  0.732909    0.0\n",
       "1  0.082055  0.029875 -0.227782  0.366584 -0.734443  2.989911 -1.364425    0.0\n",
       "2 -0.284645 -0.027755 -0.327773  0.366584 -0.734443 -0.334458  0.732909    0.0\n",
       "3 -0.311948 -0.164081 -0.577695  0.366584  1.361576 -0.334458 -1.364425    0.0\n",
       "4  0.280900  0.228559 -0.345485  0.366584 -0.734443 -0.334458  0.732909    0.0"
      ]
     },
     "execution_count": 37,
     "metadata": {},
     "output_type": "execute_result"
    }
   ],
   "source": [
    "dataUnder = pd.concat([pd.DataFrame(X_rus), y_rus], axis = 1)\n",
    "dataUnder.head()"
   ]
  },
  {
   "cell_type": "code",
   "execution_count": 38,
   "id": "782a4ea6",
   "metadata": {},
   "outputs": [
    {
     "data": {
      "text/plain": [
       "fraud\n",
       "0.0    87403\n",
       "1.0    87403\n",
       "dtype: int64"
      ]
     },
     "execution_count": 38,
     "metadata": {},
     "output_type": "execute_result"
    },
    {
     "data": {
      "image/png": "[encoded data removed]",
      "text/plain": [
       "<Figure size 432x288 with 1 Axes>"
      ]
     },
     "metadata": {},
     "output_type": "display_data"
    }
   ],
   "source": [
    "dataUnder.value_counts(\"fraud\").plot.pie(autopct = \"%.1f\")\n",
    "dataUnder.value_counts(\"fraud\")"
   ]
  },
  {
   "cell_type": "code",
   "execution_count": 39,
   "id": "6c865f05",
   "metadata": {},
   "outputs": [],
   "source": [
    "X_train_rus,X_test_rus,y_train_rus,y_test_rus = train_test_split(X_rus,y_rus, test_size = 0.3, random_state = 42)"
   ]
  },
  {
   "cell_type": "markdown",
   "id": "51cc4dca",
   "metadata": {},
   "source": [
    "## Random Over-Sampling"
   ]
  },
  {
   "cell_type": "markdown",
   "id": "24f15c1c",
   "metadata": {},
   "source": [
    "    Advantages:\n",
    "    \n",
    "    Unlike under sampling this method leads to no information loss.\n",
    "    Outperforms under sampling\n",
    "    \n",
    "    Disadvantages:\n",
    "    It increases the likelihood of overfitting since it replicates the minority class events.\n",
    " "
   ]
  },
  {
   "cell_type": "code",
   "execution_count": 40,
   "id": "b774d0d7",
   "metadata": {},
   "outputs": [],
   "source": [
    "from imblearn.over_sampling import RandomOverSampler "
   ]
  },
  {
   "cell_type": "code",
   "execution_count": 41,
   "id": "a3bd02f7",
   "metadata": {},
   "outputs": [],
   "source": [
    "ros = RandomOverSampler(random_state=42)\n",
    "X_ros, y_ros = ros.fit_resample(X, y)"
   ]
  },
  {
   "cell_type": "code",
   "execution_count": 42,
   "id": "811f39b6",
   "metadata": {},
   "outputs": [
    {
     "data": {
      "text/html": [
       "<div>\n",
       "<style scoped>\n",
       "    .dataframe tbody tr th:only-of-type {\n",
       "        vertical-align: middle;\n",
       "    }\n",
       "\n",
       "    .dataframe tbody tr th {\n",
       "        vertical-align: top;\n",
       "    }\n",
       "\n",
       "    .dataframe thead th {\n",
       "        text-align: right;\n",
       "    }\n",
       "</style>\n",
       "<table border=\"1\" class=\"dataframe\">\n",
       "  <thead>\n",
       "    <tr style=\"text-align: right;\">\n",
       "      <th></th>\n",
       "      <th>0</th>\n",
       "      <th>1</th>\n",
       "      <th>2</th>\n",
       "      <th>3</th>\n",
       "      <th>4</th>\n",
       "      <th>5</th>\n",
       "      <th>6</th>\n",
       "      <th>fraud</th>\n",
       "    </tr>\n",
       "  </thead>\n",
       "  <tbody>\n",
       "    <tr>\n",
       "      <th>0</th>\n",
       "      <td>0.477882</td>\n",
       "      <td>-0.182849</td>\n",
       "      <td>0.043491</td>\n",
       "      <td>0.366584</td>\n",
       "      <td>1.361576</td>\n",
       "      <td>-0.334458</td>\n",
       "      <td>-1.364425</td>\n",
       "      <td>0.0</td>\n",
       "    </tr>\n",
       "    <tr>\n",
       "      <th>1</th>\n",
       "      <td>-0.241607</td>\n",
       "      <td>-0.188094</td>\n",
       "      <td>-0.189300</td>\n",
       "      <td>0.366584</td>\n",
       "      <td>-0.734443</td>\n",
       "      <td>-0.334458</td>\n",
       "      <td>-1.364425</td>\n",
       "      <td>0.0</td>\n",
       "    </tr>\n",
       "    <tr>\n",
       "      <th>2</th>\n",
       "      <td>-0.329369</td>\n",
       "      <td>-0.163733</td>\n",
       "      <td>-0.498812</td>\n",
       "      <td>0.366584</td>\n",
       "      <td>-0.734443</td>\n",
       "      <td>-0.334458</td>\n",
       "      <td>0.732909</td>\n",
       "      <td>0.0</td>\n",
       "    </tr>\n",
       "    <tr>\n",
       "      <th>3</th>\n",
       "      <td>-0.372854</td>\n",
       "      <td>0.021806</td>\n",
       "      <td>-0.522048</td>\n",
       "      <td>0.366584</td>\n",
       "      <td>1.361576</td>\n",
       "      <td>-0.334458</td>\n",
       "      <td>0.732909</td>\n",
       "      <td>0.0</td>\n",
       "    </tr>\n",
       "    <tr>\n",
       "      <th>4</th>\n",
       "      <td>0.268572</td>\n",
       "      <td>-0.172968</td>\n",
       "      <td>0.142373</td>\n",
       "      <td>0.366584</td>\n",
       "      <td>1.361576</td>\n",
       "      <td>-0.334458</td>\n",
       "      <td>0.732909</td>\n",
       "      <td>0.0</td>\n",
       "    </tr>\n",
       "  </tbody>\n",
       "</table>\n",
       "</div>"
      ],
      "text/plain": [
       "          0         1         2         3         4         5         6  fraud\n",
       "0  0.477882 -0.182849  0.043491  0.366584  1.361576 -0.334458 -1.364425    0.0\n",
       "1 -0.241607 -0.188094 -0.189300  0.366584 -0.734443 -0.334458 -1.364425    0.0\n",
       "2 -0.329369 -0.163733 -0.498812  0.366584 -0.734443 -0.334458  0.732909    0.0\n",
       "3 -0.372854  0.021806 -0.522048  0.366584  1.361576 -0.334458  0.732909    0.0\n",
       "4  0.268572 -0.172968  0.142373  0.366584  1.361576 -0.334458  0.732909    0.0"
      ]
     },
     "execution_count": 42,
     "metadata": {},
     "output_type": "execute_result"
    }
   ],
   "source": [
    "dataOver = pd.concat([pd.DataFrame(X_ros), y_ros], axis = 1)\n",
    "dataOver.head()"
   ]
  },
  {
   "cell_type": "code",
   "execution_count": 43,
   "id": "1a85e696",
   "metadata": {},
   "outputs": [
    {
     "data": {
      "text/plain": [
       "fraud\n",
       "0.0    912597\n",
       "1.0    912597\n",
       "dtype: int64"
      ]
     },
     "execution_count": 43,
     "metadata": {},
     "output_type": "execute_result"
    },
    {
     "data": {
      "image/png": "[encoded data removed]",
      "text/plain": [
       "<Figure size 432x288 with 1 Axes>"
      ]
     },
     "metadata": {},
     "output_type": "display_data"
    }
   ],
   "source": [
    "dataOver.value_counts(\"fraud\").plot.pie(autopct = \"%.1f\")\n",
    "dataOver.value_counts(\"fraud\")"
   ]
  },
  {
   "cell_type": "code",
   "execution_count": 44,
   "id": "f0bf6745",
   "metadata": {},
   "outputs": [],
   "source": [
    "X_train_ros,X_test_ros,y_train_ros,y_test_ros = train_test_split(X_ros,y_ros, test_size = 0.3, random_state = 42)"
   ]
  },
  {
   "cell_type": "markdown",
   "id": "e96fde31",
   "metadata": {},
   "source": [
    "## SMOTE\n",
    "### Synthetic Minority Over-sampling Technique"
   ]
  },
  {
   "cell_type": "markdown",
   "id": "75ff0c2d",
   "metadata": {},
   "source": [
    "    Advantages:\n",
    "    \n",
    "    Mitigates the problem of overfitting caused by random oversampling as synthetic examples are generated rather than             replication of instances\n",
    "    No loss of useful information\n",
    "    \n",
    "    Disadvantages: \n",
    "    \n",
    "    While generating synthetic examples SMOTE does not take into consideration neighboring examples from other classes. This       can result in increase in overlapping of classes and can introduce additional noise\n",
    "    SMOTE is not very effective for high dimensional data"
   ]
  },
  {
   "cell_type": "code",
   "execution_count": 45,
   "id": "0949123f",
   "metadata": {},
   "outputs": [],
   "source": [
    "# Importing SMOTE from imblearn lib\n",
    "from imblearn.over_sampling import SMOTE\n",
    "X_smote, y_smote = SMOTE(random_state = 40).fit_resample(X,y) # reshaping data"
   ]
  },
  {
   "cell_type": "code",
   "execution_count": 46,
   "id": "4c2fe5de",
   "metadata": {},
   "outputs": [
    {
     "data": {
      "text/html": [
       "<div>\n",
       "<style scoped>\n",
       "    .dataframe tbody tr th:only-of-type {\n",
       "        vertical-align: middle;\n",
       "    }\n",
       "\n",
       "    .dataframe tbody tr th {\n",
       "        vertical-align: top;\n",
       "    }\n",
       "\n",
       "    .dataframe thead th {\n",
       "        text-align: right;\n",
       "    }\n",
       "</style>\n",
       "<table border=\"1\" class=\"dataframe\">\n",
       "  <thead>\n",
       "    <tr style=\"text-align: right;\">\n",
       "      <th></th>\n",
       "      <th>0</th>\n",
       "      <th>1</th>\n",
       "      <th>2</th>\n",
       "      <th>3</th>\n",
       "      <th>4</th>\n",
       "      <th>5</th>\n",
       "      <th>6</th>\n",
       "      <th>fraud</th>\n",
       "    </tr>\n",
       "  </thead>\n",
       "  <tbody>\n",
       "    <tr>\n",
       "      <th>0</th>\n",
       "      <td>0.477882</td>\n",
       "      <td>-0.182849</td>\n",
       "      <td>0.043491</td>\n",
       "      <td>0.366584</td>\n",
       "      <td>1.361576</td>\n",
       "      <td>-0.334458</td>\n",
       "      <td>-1.364425</td>\n",
       "      <td>0.0</td>\n",
       "    </tr>\n",
       "    <tr>\n",
       "      <th>1</th>\n",
       "      <td>-0.241607</td>\n",
       "      <td>-0.188094</td>\n",
       "      <td>-0.189300</td>\n",
       "      <td>0.366584</td>\n",
       "      <td>-0.734443</td>\n",
       "      <td>-0.334458</td>\n",
       "      <td>-1.364425</td>\n",
       "      <td>0.0</td>\n",
       "    </tr>\n",
       "    <tr>\n",
       "      <th>2</th>\n",
       "      <td>-0.329369</td>\n",
       "      <td>-0.163733</td>\n",
       "      <td>-0.498812</td>\n",
       "      <td>0.366584</td>\n",
       "      <td>-0.734443</td>\n",
       "      <td>-0.334458</td>\n",
       "      <td>0.732909</td>\n",
       "      <td>0.0</td>\n",
       "    </tr>\n",
       "    <tr>\n",
       "      <th>3</th>\n",
       "      <td>-0.372854</td>\n",
       "      <td>0.021806</td>\n",
       "      <td>-0.522048</td>\n",
       "      <td>0.366584</td>\n",
       "      <td>1.361576</td>\n",
       "      <td>-0.334458</td>\n",
       "      <td>0.732909</td>\n",
       "      <td>0.0</td>\n",
       "    </tr>\n",
       "    <tr>\n",
       "      <th>4</th>\n",
       "      <td>0.268572</td>\n",
       "      <td>-0.172968</td>\n",
       "      <td>0.142373</td>\n",
       "      <td>0.366584</td>\n",
       "      <td>1.361576</td>\n",
       "      <td>-0.334458</td>\n",
       "      <td>0.732909</td>\n",
       "      <td>0.0</td>\n",
       "    </tr>\n",
       "  </tbody>\n",
       "</table>\n",
       "</div>"
      ],
      "text/plain": [
       "          0         1         2         3         4         5         6  fraud\n",
       "0  0.477882 -0.182849  0.043491  0.366584  1.361576 -0.334458 -1.364425    0.0\n",
       "1 -0.241607 -0.188094 -0.189300  0.366584 -0.734443 -0.334458 -1.364425    0.0\n",
       "2 -0.329369 -0.163733 -0.498812  0.366584 -0.734443 -0.334458  0.732909    0.0\n",
       "3 -0.372854  0.021806 -0.522048  0.366584  1.361576 -0.334458  0.732909    0.0\n",
       "4  0.268572 -0.172968  0.142373  0.366584  1.361576 -0.334458  0.732909    0.0"
      ]
     },
     "execution_count": 46,
     "metadata": {},
     "output_type": "execute_result"
    }
   ],
   "source": [
    "dataSmote = pd.concat([pd.DataFrame(X_ros), y_ros], axis = 1)\n",
    "dataSmote.head()"
   ]
  },
  {
   "cell_type": "code",
   "execution_count": 47,
   "id": "4f13f657",
   "metadata": {},
   "outputs": [
    {
     "data": {
      "text/plain": [
       "fraud\n",
       "0.0    912597\n",
       "1.0    912597\n",
       "dtype: int64"
      ]
     },
     "execution_count": 47,
     "metadata": {},
     "output_type": "execute_result"
    },
    {
     "data": {
      "image/png": "[encoded data removed]",
      "text/plain": [
       "<Figure size 432x288 with 1 Axes>"
      ]
     },
     "metadata": {},
     "output_type": "display_data"
    }
   ],
   "source": [
    "dataSmote.value_counts(\"fraud\").plot.pie(autopct = \"%.1f\")\n",
    "dataSmote.value_counts(\"fraud\")"
   ]
  },
  {
   "cell_type": "code",
   "execution_count": 48,
   "id": "0c35e442",
   "metadata": {},
   "outputs": [],
   "source": [
    "X_train_sm,X_test_sm,y_train_sm,y_test_sm = train_test_split(X_smote, y_smote , test_size = 0.3, random_state = 42)"
   ]
  },
  {
   "cell_type": "markdown",
   "id": "8572bae3",
   "metadata": {},
   "source": [
    "##  Balanced Data -- Undersample Case "
   ]
  },
  {
   "cell_type": "code",
   "execution_count": 49,
   "id": "8b2ad986",
   "metadata": {},
   "outputs": [
    {
     "data": {
      "text/html": [
       "<style>#sk-container-id-3 {color: black;background-color: white;}#sk-container-id-3 pre{padding: 0;}#sk-container-id-3 div.sk-toggleable {background-color: white;}#sk-container-id-3 label.sk-toggleable__label {cursor: pointer;display: block;width: 100%;margin-bottom: 0;padding: 0.3em;box-sizing: border-box;text-align: center;}#sk-container-id-3 label.sk-toggleable__label-arrow:before {content: \"▸\";float: left;margin-right: 0.25em;color: #696969;}#sk-container-id-3 label.sk-toggleable__label-arrow:hover:before {color: black;}#sk-container-id-3 div.sk-estimator:hover label.sk-toggleable__label-arrow:before {color: black;}#sk-container-id-3 div.sk-toggleable__content {max-height: 0;max-width: 0;overflow: hidden;text-align: left;background-color: #f0f8ff;}#sk-container-id-3 div.sk-toggleable__content pre {margin: 0.2em;color: black;border-radius: 0.25em;background-color: #f0f8ff;}#sk-container-id-3 input.sk-toggleable__control:checked~div.sk-toggleable__content {max-height: 200px;max-width: 100%;overflow: auto;}#sk-container-id-3 input.sk-toggleable__control:checked~label.sk-toggleable__label-arrow:before {content: \"▾\";}#sk-container-id-3 div.sk-estimator input.sk-toggleable__control:checked~label.sk-toggleable__label {background-color: #d4ebff;}#sk-container-id-3 div.sk-label input.sk-toggleable__control:checked~label.sk-toggleable__label {background-color: #d4ebff;}#sk-container-id-3 input.sk-hidden--visually {border: 0;clip: rect(1px 1px 1px 1px);clip: rect(1px, 1px, 1px, 1px);height: 1px;margin: -1px;overflow: hidden;padding: 0;position: absolute;width: 1px;}#sk-container-id-3 div.sk-estimator {font-family: monospace;background-color: #f0f8ff;border: 1px dotted black;border-radius: 0.25em;box-sizing: border-box;margin-bottom: 0.5em;}#sk-container-id-3 div.sk-estimator:hover {background-color: #d4ebff;}#sk-container-id-3 div.sk-parallel-item::after {content: \"\";width: 100%;border-bottom: 1px solid gray;flex-grow: 1;}#sk-container-id-3 div.sk-label:hover label.sk-toggleable__label {background-color: #d4ebff;}#sk-container-id-3 div.sk-serial::before {content: \"\";position: absolute;border-left: 1px solid gray;box-sizing: border-box;top: 0;bottom: 0;left: 50%;z-index: 0;}#sk-container-id-3 div.sk-serial {display: flex;flex-direction: column;align-items: center;background-color: white;padding-right: 0.2em;padding-left: 0.2em;position: relative;}#sk-container-id-3 div.sk-item {position: relative;z-index: 1;}#sk-container-id-3 div.sk-parallel {display: flex;align-items: stretch;justify-content: center;background-color: white;position: relative;}#sk-container-id-3 div.sk-item::before, #sk-container-id-3 div.sk-parallel-item::before {content: \"\";position: absolute;border-left: 1px solid gray;box-sizing: border-box;top: 0;bottom: 0;left: 50%;z-index: -1;}#sk-container-id-3 div.sk-parallel-item {display: flex;flex-direction: column;z-index: 1;position: relative;background-color: white;}#sk-container-id-3 div.sk-parallel-item:first-child::after {align-self: flex-end;width: 50%;}#sk-container-id-3 div.sk-parallel-item:last-child::after {align-self: flex-start;width: 50%;}#sk-container-id-3 div.sk-parallel-item:only-child::after {width: 0;}#sk-container-id-3 div.sk-dashed-wrapped {border: 1px dashed gray;margin: 0 0.4em 0.5em 0.4em;box-sizing: border-box;padding-bottom: 0.4em;background-color: white;}#sk-container-id-3 div.sk-label label {font-family: monospace;font-weight: bold;display: inline-block;line-height: 1.2em;}#sk-container-id-3 div.sk-label-container {text-align: center;}#sk-container-id-3 div.sk-container {/* jupyter's `normalize.less` sets `[hidden] { display: none; }` but bootstrap.min.css set `[hidden] { display: none !important; }` so we also need the `!important` here to be able to override the default hidden behavior on the sphinx rendered scikit-learn.org. See: https://github.com/scikit-learn/scikit-learn/issues/21755 */display: inline-block !important;position: relative;}#sk-container-id-3 div.sk-text-repr-fallback {display: none;}</style><div id=\"sk-container-id-3\" class=\"sk-top-container\"><div class=\"sk-text-repr-fallback\"><pre>LogisticRegression(random_state=20)</pre><b>In a Jupyter environment, please rerun this cell to show the HTML representation or trust the notebook. <br />On GitHub, the HTML representation is unable to render, please try loading this page with nbviewer.org.</b></div><div class=\"sk-container\" hidden><div class=\"sk-item\"><div class=\"sk-estimator sk-toggleable\"><input class=\"sk-toggleable__control sk-hidden--visually\" id=\"sk-estimator-id-3\" type=\"checkbox\" checked><label for=\"sk-estimator-id-3\" class=\"sk-toggleable__label sk-toggleable__label-arrow\">LogisticRegression</label><div class=\"sk-toggleable__content\"><pre>LogisticRegression(random_state=20)</pre></div></div></div></div></div>"
      ],
      "text/plain": [
       "LogisticRegression(random_state=20)"
      ]
     },
     "execution_count": 49,
     "metadata": {},
     "output_type": "execute_result"
    }
   ],
   "source": [
    "lr.fit(X_train_rus,y_train_rus)"
   ]
  },
  {
   "cell_type": "code",
   "execution_count": 50,
   "id": "056244f0",
   "metadata": {},
   "outputs": [],
   "source": [
    "y_pred_lr_rus = lr.predict(X_test_rus)"
   ]
  },
  {
   "cell_type": "code",
   "execution_count": 51,
   "id": "40ea74f0",
   "metadata": {
    "scrolled": true
   },
   "outputs": [
    {
     "name": "stdout",
     "output_type": "stream",
     "text": [
      "              precision    recall  f1-score   support\n",
      "\n",
      "         0.0       0.95      0.93      0.94     26231\n",
      "         1.0       0.93      0.95      0.94     26211\n",
      "\n",
      "    accuracy                           0.94     52442\n",
      "   macro avg       0.94      0.94      0.94     52442\n",
      "weighted avg       0.94      0.94      0.94     52442\n",
      "\n"
     ]
    }
   ],
   "source": [
    "print(classification_report(y_test_rus,y_pred_lr_rus))"
   ]
  },
  {
   "cell_type": "code",
   "execution_count": 52,
   "id": "2be7c350",
   "metadata": {},
   "outputs": [
    {
     "data": {
      "image/png": "[encoded data removed]",
      "text/plain": [
       "<Figure size 432x288 with 1 Axes>"
      ]
     },
     "metadata": {
      "needs_background": "light"
     },
     "output_type": "display_data"
    }
   ],
   "source": [
    "yhat = lr.predict_proba(X_test_rus)\n",
    "# retrieve just the probabilities for the positive class\n",
    "pos_probs_lr_rus = yhat[:, 1]\n",
    "# plot no skill roc curve\n",
    "plt.plot([0, 1], [0, 1], linestyle='--', label='No Skill')\n",
    "# calculate roc curve for model\n",
    "fpr, tpr, _ = roc_curve(y_test_rus, pos_probs_lr_rus)\n",
    "# plot model roc curve\n",
    "plt.plot(fpr, tpr, marker='.', label='DecisionTreeClassifier')\n",
    "# axis labels\n",
    "plt.xlabel('False Positive Rate')\n",
    "plt.ylabel('True Positive Rate')\n",
    "# show the legend\n",
    "plt.legend()\n",
    "# show the plot\n",
    "plt.show()"
   ]
  },
  {
   "cell_type": "code",
   "execution_count": 53,
   "id": "1ca36e4c",
   "metadata": {},
   "outputs": [
    {
     "name": "stdout",
     "output_type": "stream",
     "text": [
      "LogisticRegression ROC AUC 0.979\n"
     ]
    }
   ],
   "source": [
    "# calculate roc auc\n",
    "roc_auc_rus = roc_auc_score(y_test_rus, pos_probs_lr_rus)\n",
    "\n",
    "print('LogisticRegression ROC AUC %.3f' % roc_auc_rus)"
   ]
  },
  {
   "cell_type": "code",
   "execution_count": 54,
   "id": "9235ff80",
   "metadata": {},
   "outputs": [],
   "source": [
    "from sklearn.metrics import precision_recall_curve"
   ]
  },
  {
   "cell_type": "code",
   "execution_count": 55,
   "id": "5ac73b4b",
   "metadata": {},
   "outputs": [
    {
     "data": {
      "image/png": "[encoded data removed]",
      "text/plain": [
       "<Figure size 432x288 with 1 Axes>"
      ]
     },
     "metadata": {
      "needs_background": "light"
     },
     "output_type": "display_data"
    }
   ],
   "source": [
    "precision, recall, _ = precision_recall_curve(y_test_rus, pos_probs_lr_rus)\n",
    "# plot the model precision-recall curve\n",
    "plt.plot(recall, precision, marker='.', label='LogisticRegression')\n",
    "# axis labels\n",
    "plt.xlabel('Recall')\n",
    "plt.ylabel('Precision')\n",
    "# show the legend\n",
    "plt.legend()\n",
    "# show the plot\n",
    "plt.show()"
   ]
  },
  {
   "cell_type": "code",
   "execution_count": 56,
   "id": "48d64e4c",
   "metadata": {},
   "outputs": [
    {
     "name": "stdout",
     "output_type": "stream",
     "text": [
      "LogisticRegression PR AUC: 0.968\n"
     ]
    }
   ],
   "source": [
    "from sklearn.metrics import auc\n",
    "pr_auc_score_rus = auc(recall, precision)\n",
    "print('LogisticRegression PR AUC: %.3f' % pr_auc_score_rus)"
   ]
  },
  {
   "cell_type": "code",
   "execution_count": 57,
   "id": "18e342aa",
   "metadata": {},
   "outputs": [],
   "source": [
    "roc_auc_dict['R_UnderSample_Balanced'] = round(roc_auc_rus,4)\n",
    "pr_auc_score_dict['R_UnderSample_Balanced']= round(pr_auc_score_rus,4)"
   ]
  },
  {
   "cell_type": "markdown",
   "id": "32337f28",
   "metadata": {},
   "source": [
    "## Balanced Data -- Oversample Case"
   ]
  },
  {
   "cell_type": "code",
   "execution_count": 58,
   "id": "4a138ffb",
   "metadata": {},
   "outputs": [
    {
     "data": {
      "text/html": [
       "<style>#sk-container-id-4 {color: black;background-color: white;}#sk-container-id-4 pre{padding: 0;}#sk-container-id-4 div.sk-toggleable {background-color: white;}#sk-container-id-4 label.sk-toggleable__label {cursor: pointer;display: block;width: 100%;margin-bottom: 0;padding: 0.3em;box-sizing: border-box;text-align: center;}#sk-container-id-4 label.sk-toggleable__label-arrow:before {content: \"▸\";float: left;margin-right: 0.25em;color: #696969;}#sk-container-id-4 label.sk-toggleable__label-arrow:hover:before {color: black;}#sk-container-id-4 div.sk-estimator:hover label.sk-toggleable__label-arrow:before {color: black;}#sk-container-id-4 div.sk-toggleable__content {max-height: 0;max-width: 0;overflow: hidden;text-align: left;background-color: #f0f8ff;}#sk-container-id-4 div.sk-toggleable__content pre {margin: 0.2em;color: black;border-radius: 0.25em;background-color: #f0f8ff;}#sk-container-id-4 input.sk-toggleable__control:checked~div.sk-toggleable__content {max-height: 200px;max-width: 100%;overflow: auto;}#sk-container-id-4 input.sk-toggleable__control:checked~label.sk-toggleable__label-arrow:before {content: \"▾\";}#sk-container-id-4 div.sk-estimator input.sk-toggleable__control:checked~label.sk-toggleable__label {background-color: #d4ebff;}#sk-container-id-4 div.sk-label input.sk-toggleable__control:checked~label.sk-toggleable__label {background-color: #d4ebff;}#sk-container-id-4 input.sk-hidden--visually {border: 0;clip: rect(1px 1px 1px 1px);clip: rect(1px, 1px, 1px, 1px);height: 1px;margin: -1px;overflow: hidden;padding: 0;position: absolute;width: 1px;}#sk-container-id-4 div.sk-estimator {font-family: monospace;background-color: #f0f8ff;border: 1px dotted black;border-radius: 0.25em;box-sizing: border-box;margin-bottom: 0.5em;}#sk-container-id-4 div.sk-estimator:hover {background-color: #d4ebff;}#sk-container-id-4 div.sk-parallel-item::after {content: \"\";width: 100%;border-bottom: 1px solid gray;flex-grow: 1;}#sk-container-id-4 div.sk-label:hover label.sk-toggleable__label {background-color: #d4ebff;}#sk-container-id-4 div.sk-serial::before {content: \"\";position: absolute;border-left: 1px solid gray;box-sizing: border-box;top: 0;bottom: 0;left: 50%;z-index: 0;}#sk-container-id-4 div.sk-serial {display: flex;flex-direction: column;align-items: center;background-color: white;padding-right: 0.2em;padding-left: 0.2em;position: relative;}#sk-container-id-4 div.sk-item {position: relative;z-index: 1;}#sk-container-id-4 div.sk-parallel {display: flex;align-items: stretch;justify-content: center;background-color: white;position: relative;}#sk-container-id-4 div.sk-item::before, #sk-container-id-4 div.sk-parallel-item::before {content: \"\";position: absolute;border-left: 1px solid gray;box-sizing: border-box;top: 0;bottom: 0;left: 50%;z-index: -1;}#sk-container-id-4 div.sk-parallel-item {display: flex;flex-direction: column;z-index: 1;position: relative;background-color: white;}#sk-container-id-4 div.sk-parallel-item:first-child::after {align-self: flex-end;width: 50%;}#sk-container-id-4 div.sk-parallel-item:last-child::after {align-self: flex-start;width: 50%;}#sk-container-id-4 div.sk-parallel-item:only-child::after {width: 0;}#sk-container-id-4 div.sk-dashed-wrapped {border: 1px dashed gray;margin: 0 0.4em 0.5em 0.4em;box-sizing: border-box;padding-bottom: 0.4em;background-color: white;}#sk-container-id-4 div.sk-label label {font-family: monospace;font-weight: bold;display: inline-block;line-height: 1.2em;}#sk-container-id-4 div.sk-label-container {text-align: center;}#sk-container-id-4 div.sk-container {/* jupyter's `normalize.less` sets `[hidden] { display: none; }` but bootstrap.min.css set `[hidden] { display: none !important; }` so we also need the `!important` here to be able to override the default hidden behavior on the sphinx rendered scikit-learn.org. See: https://github.com/scikit-learn/scikit-learn/issues/21755 */display: inline-block !important;position: relative;}#sk-container-id-4 div.sk-text-repr-fallback {display: none;}</style><div id=\"sk-container-id-4\" class=\"sk-top-container\"><div class=\"sk-text-repr-fallback\"><pre>LogisticRegression(random_state=20)</pre><b>In a Jupyter environment, please rerun this cell to show the HTML representation or trust the notebook. <br />On GitHub, the HTML representation is unable to render, please try loading this page with nbviewer.org.</b></div><div class=\"sk-container\" hidden><div class=\"sk-item\"><div class=\"sk-estimator sk-toggleable\"><input class=\"sk-toggleable__control sk-hidden--visually\" id=\"sk-estimator-id-4\" type=\"checkbox\" checked><label for=\"sk-estimator-id-4\" class=\"sk-toggleable__label sk-toggleable__label-arrow\">LogisticRegression</label><div class=\"sk-toggleable__content\"><pre>LogisticRegression(random_state=20)</pre></div></div></div></div></div>"
      ],
      "text/plain": [
       "LogisticRegression(random_state=20)"
      ]
     },
     "execution_count": 58,
     "metadata": {},
     "output_type": "execute_result"
    }
   ],
   "source": [
    "lr.fit(X_train_ros,y_train_ros)"
   ]
  },
  {
   "cell_type": "code",
   "execution_count": 59,
   "id": "63b3cefc",
   "metadata": {},
   "outputs": [],
   "source": [
    "y_pred_lr_ros = lr.predict(X_test_ros)"
   ]
  },
  {
   "cell_type": "code",
   "execution_count": 60,
   "id": "4ff206fe",
   "metadata": {},
   "outputs": [
    {
     "name": "stdout",
     "output_type": "stream",
     "text": [
      "              precision    recall  f1-score   support\n",
      "\n",
      "         0.0       0.95      0.93      0.94     26231\n",
      "         1.0       0.93      0.95      0.94     26211\n",
      "\n",
      "    accuracy                           0.94     52442\n",
      "   macro avg       0.94      0.94      0.94     52442\n",
      "weighted avg       0.94      0.94      0.94     52442\n",
      "\n"
     ]
    }
   ],
   "source": [
    "print(classification_report(y_test_rus,y_pred_lr_rus))"
   ]
  },
  {
   "cell_type": "code",
   "execution_count": 61,
   "id": "d6a29ece",
   "metadata": {},
   "outputs": [
    {
     "data": {
      "image/png": "[encoded data removed]",
      "text/plain": [
       "<Figure size 432x288 with 1 Axes>"
      ]
     },
     "metadata": {
      "needs_background": "light"
     },
     "output_type": "display_data"
    }
   ],
   "source": [
    "yhat = lr.predict_proba(X_test_ros)\n",
    "# retrieve just the probabilities for the positive class\n",
    "pos_probs_lr_ros = yhat[:, 1]\n",
    "# plot no skill roc curve\n",
    "plt.plot([0, 1], [0, 1], linestyle='--', label='No Skill')\n",
    "# calculate roc curve for model\n",
    "fpr, tpr, _ = roc_curve(y_test_ros, pos_probs_lr_ros)\n",
    "# plot model roc curve\n",
    "plt.plot(fpr, tpr, marker='.', label='DecisionTreeClassifier')\n",
    "# axis labels\n",
    "plt.xlabel('False Positive Rate')\n",
    "plt.ylabel('True Positive Rate')\n",
    "# show the legend\n",
    "plt.legend()\n",
    "# show the plot\n",
    "plt.show()"
   ]
  },
  {
   "cell_type": "code",
   "execution_count": 62,
   "id": "3541c243",
   "metadata": {},
   "outputs": [
    {
     "name": "stdout",
     "output_type": "stream",
     "text": [
      "LogisticRegression ROC AUC 0.979\n"
     ]
    }
   ],
   "source": [
    "# calculate roc auc\n",
    "roc_auc_ros = roc_auc_score(y_test_ros, pos_probs_lr_ros)\n",
    "\n",
    "print('LogisticRegression ROC AUC %.3f' % roc_auc_ros)"
   ]
  },
  {
   "cell_type": "code",
   "execution_count": 63,
   "id": "53dbfd81",
   "metadata": {},
   "outputs": [
    {
     "data": {
      "image/png": "[encoded data removed]",
      "text/plain": [
       "<Figure size 432x288 with 1 Axes>"
      ]
     },
     "metadata": {
      "needs_background": "light"
     },
     "output_type": "display_data"
    }
   ],
   "source": [
    "precision, recall, _ = precision_recall_curve(y_test_ros, pos_probs_lr_ros)\n",
    "# plot the model precision-recall curve\n",
    "plt.plot(recall, precision, marker='.', label='LogisticRegression')\n",
    "# axis labels\n",
    "plt.xlabel('Recall')\n",
    "plt.ylabel('Precision')\n",
    "# show the legend\n",
    "plt.legend()\n",
    "# show the plot\n",
    "plt.show()"
   ]
  },
  {
   "cell_type": "code",
   "execution_count": 64,
   "id": "23452c41",
   "metadata": {},
   "outputs": [
    {
     "name": "stdout",
     "output_type": "stream",
     "text": [
      "LogisticRegression PR AUC: 0.967\n"
     ]
    }
   ],
   "source": [
    "from sklearn.metrics import auc\n",
    "pr_auc_score_ros = auc(recall, precision)\n",
    "print('LogisticRegression PR AUC: %.3f' % pr_auc_score_ros)"
   ]
  },
  {
   "cell_type": "code",
   "execution_count": 65,
   "id": "9ebdfa1b",
   "metadata": {},
   "outputs": [],
   "source": [
    "roc_auc_dict['R_OverSample_Balanced'] = round(roc_auc_ros, 4)\n",
    "pr_auc_score_dict['R_OverSample_Balanced']= round(pr_auc_score_ros,4)"
   ]
  },
  {
   "cell_type": "markdown",
   "id": "290c9acd",
   "metadata": {},
   "source": [
    "## Balanced Data -- SMOTE Case "
   ]
  },
  {
   "cell_type": "code",
   "execution_count": 66,
   "id": "208a0bd7",
   "metadata": {},
   "outputs": [
    {
     "data": {
      "text/html": [
       "<style>#sk-container-id-5 {color: black;background-color: white;}#sk-container-id-5 pre{padding: 0;}#sk-container-id-5 div.sk-toggleable {background-color: white;}#sk-container-id-5 label.sk-toggleable__label {cursor: pointer;display: block;width: 100%;margin-bottom: 0;padding: 0.3em;box-sizing: border-box;text-align: center;}#sk-container-id-5 label.sk-toggleable__label-arrow:before {content: \"▸\";float: left;margin-right: 0.25em;color: #696969;}#sk-container-id-5 label.sk-toggleable__label-arrow:hover:before {color: black;}#sk-container-id-5 div.sk-estimator:hover label.sk-toggleable__label-arrow:before {color: black;}#sk-container-id-5 div.sk-toggleable__content {max-height: 0;max-width: 0;overflow: hidden;text-align: left;background-color: #f0f8ff;}#sk-container-id-5 div.sk-toggleable__content pre {margin: 0.2em;color: black;border-radius: 0.25em;background-color: #f0f8ff;}#sk-container-id-5 input.sk-toggleable__control:checked~div.sk-toggleable__content {max-height: 200px;max-width: 100%;overflow: auto;}#sk-container-id-5 input.sk-toggleable__control:checked~label.sk-toggleable__label-arrow:before {content: \"▾\";}#sk-container-id-5 div.sk-estimator input.sk-toggleable__control:checked~label.sk-toggleable__label {background-color: #d4ebff;}#sk-container-id-5 div.sk-label input.sk-toggleable__control:checked~label.sk-toggleable__label {background-color: #d4ebff;}#sk-container-id-5 input.sk-hidden--visually {border: 0;clip: rect(1px 1px 1px 1px);clip: rect(1px, 1px, 1px, 1px);height: 1px;margin: -1px;overflow: hidden;padding: 0;position: absolute;width: 1px;}#sk-container-id-5 div.sk-estimator {font-family: monospace;background-color: #f0f8ff;border: 1px dotted black;border-radius: 0.25em;box-sizing: border-box;margin-bottom: 0.5em;}#sk-container-id-5 div.sk-estimator:hover {background-color: #d4ebff;}#sk-container-id-5 div.sk-parallel-item::after {content: \"\";width: 100%;border-bottom: 1px solid gray;flex-grow: 1;}#sk-container-id-5 div.sk-label:hover label.sk-toggleable__label {background-color: #d4ebff;}#sk-container-id-5 div.sk-serial::before {content: \"\";position: absolute;border-left: 1px solid gray;box-sizing: border-box;top: 0;bottom: 0;left: 50%;z-index: 0;}#sk-container-id-5 div.sk-serial {display: flex;flex-direction: column;align-items: center;background-color: white;padding-right: 0.2em;padding-left: 0.2em;position: relative;}#sk-container-id-5 div.sk-item {position: relative;z-index: 1;}#sk-container-id-5 div.sk-parallel {display: flex;align-items: stretch;justify-content: center;background-color: white;position: relative;}#sk-container-id-5 div.sk-item::before, #sk-container-id-5 div.sk-parallel-item::before {content: \"\";position: absolute;border-left: 1px solid gray;box-sizing: border-box;top: 0;bottom: 0;left: 50%;z-index: -1;}#sk-container-id-5 div.sk-parallel-item {display: flex;flex-direction: column;z-index: 1;position: relative;background-color: white;}#sk-container-id-5 div.sk-parallel-item:first-child::after {align-self: flex-end;width: 50%;}#sk-container-id-5 div.sk-parallel-item:last-child::after {align-self: flex-start;width: 50%;}#sk-container-id-5 div.sk-parallel-item:only-child::after {width: 0;}#sk-container-id-5 div.sk-dashed-wrapped {border: 1px dashed gray;margin: 0 0.4em 0.5em 0.4em;box-sizing: border-box;padding-bottom: 0.4em;background-color: white;}#sk-container-id-5 div.sk-label label {font-family: monospace;font-weight: bold;display: inline-block;line-height: 1.2em;}#sk-container-id-5 div.sk-label-container {text-align: center;}#sk-container-id-5 div.sk-container {/* jupyter's `normalize.less` sets `[hidden] { display: none; }` but bootstrap.min.css set `[hidden] { display: none !important; }` so we also need the `!important` here to be able to override the default hidden behavior on the sphinx rendered scikit-learn.org. See: https://github.com/scikit-learn/scikit-learn/issues/21755 */display: inline-block !important;position: relative;}#sk-container-id-5 div.sk-text-repr-fallback {display: none;}</style><div id=\"sk-container-id-5\" class=\"sk-top-container\"><div class=\"sk-text-repr-fallback\"><pre>LogisticRegression(random_state=20)</pre><b>In a Jupyter environment, please rerun this cell to show the HTML representation or trust the notebook. <br />On GitHub, the HTML representation is unable to render, please try loading this page with nbviewer.org.</b></div><div class=\"sk-container\" hidden><div class=\"sk-item\"><div class=\"sk-estimator sk-toggleable\"><input class=\"sk-toggleable__control sk-hidden--visually\" id=\"sk-estimator-id-5\" type=\"checkbox\" checked><label for=\"sk-estimator-id-5\" class=\"sk-toggleable__label sk-toggleable__label-arrow\">LogisticRegression</label><div class=\"sk-toggleable__content\"><pre>LogisticRegression(random_state=20)</pre></div></div></div></div></div>"
      ],
      "text/plain": [
       "LogisticRegression(random_state=20)"
      ]
     },
     "execution_count": 66,
     "metadata": {},
     "output_type": "execute_result"
    }
   ],
   "source": [
    "lr.fit(X_train_sm,y_train_sm)"
   ]
  },
  {
   "cell_type": "code",
   "execution_count": 67,
   "id": "c73a58ab",
   "metadata": {},
   "outputs": [],
   "source": [
    "y_pred_lr_sm = lr.predict(X_test_sm)"
   ]
  },
  {
   "cell_type": "code",
   "execution_count": 68,
   "id": "0203281c",
   "metadata": {},
   "outputs": [
    {
     "name": "stdout",
     "output_type": "stream",
     "text": [
      "              precision    recall  f1-score   support\n",
      "\n",
      "         0.0       0.95      0.93      0.94    273947\n",
      "         1.0       0.93      0.95      0.94    273612\n",
      "\n",
      "    accuracy                           0.94    547559\n",
      "   macro avg       0.94      0.94      0.94    547559\n",
      "weighted avg       0.94      0.94      0.94    547559\n",
      "\n"
     ]
    }
   ],
   "source": [
    "print(classification_report(y_test_sm,y_pred_lr_sm))"
   ]
  },
  {
   "cell_type": "code",
   "execution_count": 69,
   "id": "55c4a19f",
   "metadata": {},
   "outputs": [
    {
     "data": {
      "image/png": "[encoded data removed]",
      "text/plain": [
       "<Figure size 432x288 with 1 Axes>"
      ]
     },
     "metadata": {
      "needs_background": "light"
     },
     "output_type": "display_data"
    }
   ],
   "source": [
    "yhat = lr.predict_proba(X_test_sm)\n",
    "# retrieve just the probabilities for the positive class\n",
    "pos_probs_lr_sm = yhat[:, 1]\n",
    "# plot no skill roc curve\n",
    "plt.plot([0, 1], [0, 1], linestyle='--', label='No Skill')\n",
    "# calculate roc curve for model\n",
    "fpr, tpr, _ = roc_curve(y_test_ros, pos_probs_lr_sm)\n",
    "# plot model roc curve\n",
    "plt.plot(fpr, tpr, marker='.', label='DecisionTreeClassifier')\n",
    "# axis labels\n",
    "plt.xlabel('False Positive Rate')\n",
    "plt.ylabel('True Positive Rate')\n",
    "# show the legend\n",
    "plt.legend()\n",
    "# show the plot\n",
    "plt.show()"
   ]
  },
  {
   "cell_type": "code",
   "execution_count": 70,
   "id": "e7318857",
   "metadata": {},
   "outputs": [
    {
     "name": "stdout",
     "output_type": "stream",
     "text": [
      "LogisticRegression ROC AUC 0.979\n"
     ]
    }
   ],
   "source": [
    "# calculate roc auc\n",
    "roc_auc_sm = roc_auc_score(y_test_ros, pos_probs_lr_sm)\n",
    "\n",
    "print('LogisticRegression ROC AUC %.3f' % roc_auc_sm)"
   ]
  },
  {
   "cell_type": "code",
   "execution_count": 71,
   "id": "430d2c65",
   "metadata": {},
   "outputs": [
    {
     "data": {
      "image/png": "[encoded data removed]",
      "text/plain": [
       "<Figure size 432x288 with 1 Axes>"
      ]
     },
     "metadata": {
      "needs_background": "light"
     },
     "output_type": "display_data"
    }
   ],
   "source": [
    "precision, recall, _ = precision_recall_curve(y_test_sm, pos_probs_lr_sm)\n",
    "# plot the model precision-recall curve\n",
    "plt.plot(recall, precision, marker='.', label='LogisticRegression')\n",
    "# axis labels\n",
    "plt.xlabel('Recall')\n",
    "plt.ylabel('Precision')\n",
    "# show the legend\n",
    "plt.legend()\n",
    "# show the plot\n",
    "plt.show()"
   ]
  },
  {
   "cell_type": "code",
   "execution_count": 72,
   "id": "c9ac96bc",
   "metadata": {},
   "outputs": [
    {
     "name": "stdout",
     "output_type": "stream",
     "text": [
      "LogisticRegression PR AUC: 0.967\n"
     ]
    }
   ],
   "source": [
    "from sklearn.metrics import auc\n",
    "pr_auc_score_sm = auc(recall, precision)\n",
    "print('LogisticRegression PR AUC: %.3f' % pr_auc_score_sm)"
   ]
  },
  {
   "cell_type": "code",
   "execution_count": 73,
   "id": "ea37fabe",
   "metadata": {},
   "outputs": [],
   "source": [
    "roc_auc_dict['SMOTE_Balanced'] = round(roc_auc_sm,4)\n",
    "pr_auc_score_dict['SMOTE_Blanced']= round(pr_auc_score_sm,4)"
   ]
  },
  {
   "cell_type": "markdown",
   "id": "a08a30a4",
   "metadata": {},
   "source": [
    "## Summary of Models Perfoamnce "
   ]
  },
  {
   "cell_type": "markdown",
   "id": "a0b00f32",
   "metadata": {},
   "source": [
    "## ROC AUC"
   ]
  },
  {
   "cell_type": "code",
   "execution_count": 74,
   "id": "25c5494e",
   "metadata": {},
   "outputs": [
    {
     "data": {
      "text/plain": [
       "{'Unscaled-Imbalanced': 0.9665,\n",
       " 'Scaled-Imbalanced': 0.9664,\n",
       " 'R_UnderSample_Balanced': 0.9791,\n",
       " 'R_OverSample_Balanced': 0.9794,\n",
       " 'SMOTE_Balanced': 0.9794}"
      ]
     },
     "execution_count": 74,
     "metadata": {},
     "output_type": "execute_result"
    }
   ],
   "source": [
    "roc_auc_dict"
   ]
  },
  {
   "cell_type": "markdown",
   "id": "d46d107b",
   "metadata": {},
   "source": [
    "## PR AUC"
   ]
  },
  {
   "cell_type": "code",
   "execution_count": 75,
   "id": "058d9413",
   "metadata": {},
   "outputs": [
    {
     "data": {
      "text/plain": [
       "{'Unscaled-Imbalanced': 0.8011,\n",
       " 'Scaled-Imbalanced': 0.8014,\n",
       " 'R_UnderSample_Balanced': 0.9679,\n",
       " 'R_OverSample_Balanced': 0.9673,\n",
       " 'SMOTE_Blanced': 0.9674}"
      ]
     },
     "execution_count": 75,
     "metadata": {},
     "output_type": "execute_result"
    }
   ],
   "source": [
    "pr_auc_score_dict"
   ]
  },
  {
   "cell_type": "code",
   "execution_count": 116,
   "id": "35cf5ab3",
   "metadata": {},
   "outputs": [],
   "source": [
    "from sklearn.linear_model import RidgeClassifierCV"
   ]
  },
  {
   "cell_type": "markdown",
   "id": "0ed25b07",
   "metadata": {},
   "source": [
    "# Model Comparision Uisng UnderSample Data"
   ]
  },
  {
   "cell_type": "code",
   "execution_count": 117,
   "id": "949fb2c0",
   "metadata": {},
   "outputs": [],
   "source": [
    "model_pipeline = []\n",
    "model_pipeline.append(LogisticRegression())\n",
    "model_pipeline.append(SVC())\n",
    "model_pipeline.append(KNeighborsClassifier())\n",
    "model_pipeline.append(DecisionTreeClassifier())\n",
    "model_pipeline.append(RandomForestClassifier())\n",
    "model_pipeline.append(GaussianNB())\n",
    "model_pipeline.append(AdaBoostClassifier())\n",
    "model_pipeline.append(GradientBoostingClassifier())\n",
    "model_pipeline.append(XGBClassifier())\n",
    "model_pipeline.append(RidgeClassifierCV())"
   ]
  },
  {
   "cell_type": "code",
   "execution_count": 118,
   "id": "d73b9d70",
   "metadata": {},
   "outputs": [],
   "source": [
    "model_list = ['Logestic Regression', 'SVM', 'KNN', 'Decision Tree', 'Random Forest', 'Naive Bayer', 'Ada Boost', 'GradientBoosting', 'XGB', 'Ridge']"
   ]
  },
  {
   "cell_type": "code",
   "execution_count": 119,
   "id": "da0238da",
   "metadata": {},
   "outputs": [],
   "source": [
    "acc_list_rus = []\n",
    "roc_auc_list_rus = []\n",
    "pr_auc_list_rus = []\n",
    "cm_list_rus = []\n",
    "f1_list_rus = []"
   ]
  },
  {
   "cell_type": "code",
   "execution_count": 120,
   "id": "7dd9ab4b",
   "metadata": {},
   "outputs": [],
   "source": [
    "for model in model_pipeline:\n",
    "    model.fit(X_train_rus, y_train_rus)\n",
    "    y_pred = model.predict(X_test_rus)\n",
    "    #yhat = model.predict_proba(X_test)[:,1]\n",
    "    acc_list_rus.append(round(metrics.accuracy_score(y_test_rus, y_pred),4))\n",
    "    fpr, tpr, _threshholds = metrics.roc_curve(y_test_rus, y_pred)\n",
    "    precision, recall, _ = precision_recall_curve(y_test_rus, y_pred)\n",
    "    roc_auc_list_rus.append(round(metrics.auc(fpr, tpr),2))\n",
    "    pr_auc_list_rus.append(round(metrics.auc(recall, precision),2))\n",
    "    f1_list_rus.append(round(metrics.f1_score(y_test_rus, y_pred),2))\n",
    "    cm_list_rus.append(confusion_matrix(y_test_rus, y_pred))"
   ]
  },
  {
   "cell_type": "code",
   "execution_count": 121,
   "id": "df12ee73",
   "metadata": {},
   "outputs": [
    {
     "data": {
      "image/png": "[encoded data removed]",
      "text/plain": [
       "<Figure size 1080x720 with 20 Axes>"
      ]
     },
     "metadata": {
      "needs_background": "light"
     },
     "output_type": "display_data"
    }
   ],
   "source": [
    "fig = plt.figure(figsize =(15,10))\n",
    "for i in range(len(cm_list_rus)):\n",
    "    cm = cm_list_rus[i]\n",
    "    model = model_list[i]\n",
    "    sub = fig.add_subplot(5,2, i+1).set_title(model);\n",
    "    cm_plot = sns.heatmap(cm, annot = True, cmap = 'Blues_r')\n",
    "    cm_plot.set_xlabel('Predicted Values')\n",
    "    cm_plot.set_ylabel('Actual Values')"
   ]
  },
  {
   "cell_type": "code",
   "execution_count": 122,
   "id": "a2e51c00",
   "metadata": {},
   "outputs": [
    {
     "data": {
      "text/html": [
       "<div>\n",
       "<style scoped>\n",
       "    .dataframe tbody tr th:only-of-type {\n",
       "        vertical-align: middle;\n",
       "    }\n",
       "\n",
       "    .dataframe tbody tr th {\n",
       "        vertical-align: top;\n",
       "    }\n",
       "\n",
       "    .dataframe thead th {\n",
       "        text-align: right;\n",
       "    }\n",
       "</style>\n",
       "<table border=\"1\" class=\"dataframe\">\n",
       "  <thead>\n",
       "    <tr style=\"text-align: right;\">\n",
       "      <th></th>\n",
       "      <th>model</th>\n",
       "      <th>Accuracy</th>\n",
       "      <th>AUC</th>\n",
       "      <th>f1 Score</th>\n",
       "      <th>PR Score</th>\n",
       "    </tr>\n",
       "  </thead>\n",
       "  <tbody>\n",
       "    <tr>\n",
       "      <th>0</th>\n",
       "      <td>Logestic Regression</td>\n",
       "      <td>0.9393</td>\n",
       "      <td>0.94</td>\n",
       "      <td>0.94</td>\n",
       "      <td>0.95</td>\n",
       "    </tr>\n",
       "    <tr>\n",
       "      <th>1</th>\n",
       "      <td>SVM</td>\n",
       "      <td>0.9905</td>\n",
       "      <td>0.99</td>\n",
       "      <td>0.99</td>\n",
       "      <td>0.99</td>\n",
       "    </tr>\n",
       "    <tr>\n",
       "      <th>2</th>\n",
       "      <td>KNN</td>\n",
       "      <td>0.9968</td>\n",
       "      <td>1.00</td>\n",
       "      <td>1.00</td>\n",
       "      <td>1.00</td>\n",
       "    </tr>\n",
       "    <tr>\n",
       "      <th>3</th>\n",
       "      <td>Decision Tree</td>\n",
       "      <td>0.9999</td>\n",
       "      <td>1.00</td>\n",
       "      <td>1.00</td>\n",
       "      <td>1.00</td>\n",
       "    </tr>\n",
       "    <tr>\n",
       "      <th>4</th>\n",
       "      <td>Random Forest</td>\n",
       "      <td>1.0000</td>\n",
       "      <td>1.00</td>\n",
       "      <td>1.00</td>\n",
       "      <td>1.00</td>\n",
       "    </tr>\n",
       "    <tr>\n",
       "      <th>5</th>\n",
       "      <td>Naive Bayer</td>\n",
       "      <td>0.7868</td>\n",
       "      <td>0.79</td>\n",
       "      <td>0.82</td>\n",
       "      <td>0.85</td>\n",
       "    </tr>\n",
       "    <tr>\n",
       "      <th>6</th>\n",
       "      <td>Ada Boost</td>\n",
       "      <td>0.9998</td>\n",
       "      <td>1.00</td>\n",
       "      <td>1.00</td>\n",
       "      <td>1.00</td>\n",
       "    </tr>\n",
       "    <tr>\n",
       "      <th>7</th>\n",
       "      <td>GradientBoosting</td>\n",
       "      <td>0.9977</td>\n",
       "      <td>1.00</td>\n",
       "      <td>1.00</td>\n",
       "      <td>1.00</td>\n",
       "    </tr>\n",
       "    <tr>\n",
       "      <th>8</th>\n",
       "      <td>XGB</td>\n",
       "      <td>0.9999</td>\n",
       "      <td>1.00</td>\n",
       "      <td>1.00</td>\n",
       "      <td>1.00</td>\n",
       "    </tr>\n",
       "    <tr>\n",
       "      <th>9</th>\n",
       "      <td>Ridge</td>\n",
       "      <td>0.9187</td>\n",
       "      <td>0.92</td>\n",
       "      <td>0.92</td>\n",
       "      <td>0.93</td>\n",
       "    </tr>\n",
       "  </tbody>\n",
       "</table>\n",
       "</div>"
      ],
      "text/plain": [
       "                 model  Accuracy   AUC  f1 Score  PR Score\n",
       "0  Logestic Regression    0.9393  0.94      0.94      0.95\n",
       "1                  SVM    0.9905  0.99      0.99      0.99\n",
       "2                  KNN    0.9968  1.00      1.00      1.00\n",
       "3        Decision Tree    0.9999  1.00      1.00      1.00\n",
       "4        Random Forest    1.0000  1.00      1.00      1.00\n",
       "5          Naive Bayer    0.7868  0.79      0.82      0.85\n",
       "6            Ada Boost    0.9998  1.00      1.00      1.00\n",
       "7     GradientBoosting    0.9977  1.00      1.00      1.00\n",
       "8                  XGB    0.9999  1.00      1.00      1.00\n",
       "9                Ridge    0.9187  0.92      0.92      0.93"
      ]
     },
     "execution_count": 122,
     "metadata": {},
     "output_type": "execute_result"
    }
   ],
   "source": [
    "results_rus = pd.DataFrame({'model': model_list, 'Accuracy': acc_list_rus, 'AUC': roc_auc_list_rus, 'f1 Score': f1_list_rus, 'PR Score': pr_auc_list_rus})\n",
    "results_rus"
   ]
  },
  {
   "cell_type": "markdown",
   "id": "985295ad",
   "metadata": {},
   "source": [
    "# Model Comparision Uisng SMOTE Resampled Data"
   ]
  },
  {
   "cell_type": "code",
   "execution_count": 152,
   "id": "078f0b8e",
   "metadata": {},
   "outputs": [],
   "source": [
    "# Eliminating Logestic Regression, Naive Bayer, and Ridge"
   ]
  },
  {
   "cell_type": "code",
   "execution_count": 123,
   "id": "fb0b92ad",
   "metadata": {},
   "outputs": [],
   "source": [
    "model_pipeline = []\n",
    "model_pipeline.append(SVC())\n",
    "model_pipeline.append(KNeighborsClassifier())\n",
    "model_pipeline.append(DecisionTreeClassifier())\n",
    "model_pipeline.append(RandomForestClassifier())\n",
    "model_pipeline.append(AdaBoostClassifier())\n",
    "model_pipeline.append(GradientBoostingClassifier())\n",
    "model_pipeline.append(XGBClassifier())"
   ]
  },
  {
   "cell_type": "code",
   "execution_count": 124,
   "id": "17a9f14c",
   "metadata": {},
   "outputs": [],
   "source": [
    "model_list = ['SVM', 'KNN', 'Decision Tree', 'Random Forest', 'Ada Boost', 'GradientBoosting', 'XGB']"
   ]
  },
  {
   "cell_type": "code",
   "execution_count": 125,
   "id": "c66fe9f3",
   "metadata": {},
   "outputs": [],
   "source": [
    "acc_list_sm = []\n",
    "roc_auc_list_sm = []\n",
    "pr_auc_list_sm = []\n",
    "cm_list_sm = []\n",
    "f1_list_sm = []"
   ]
  },
  {
   "cell_type": "code",
   "execution_count": 126,
   "id": "c36d554e",
   "metadata": {},
   "outputs": [],
   "source": [
    "for model in model_pipeline:\n",
    "    model.fit(X_train_sm, y_train_sm)\n",
    "    y_pred = model.predict(X_test_sm)\n",
    "    #yhat = model.predict_proba(X_test)[:,1]\n",
    "    acc_list_sm.append(round(metrics.accuracy_score(y_test_sm, y_pred),4))\n",
    "    fpr, tpr, _threshholds = metrics.roc_curve(y_test_sm, y_pred)\n",
    "    precision, recall, _ = precision_recall_curve(y_test_sm, y_pred)\n",
    "    roc_auc_list_sm.append(round(metrics.auc(fpr, tpr),2))\n",
    "    pr_auc_list_sm.append(round(metrics.auc(recall, precision),2))\n",
    "    f1_list_sm.append(round(metrics.f1_score(y_test_sm, y_pred),2))\n",
    "    cm_list_sm.append(confusion_matrix(y_test_sm, y_pred))"
   ]
  },
  {
   "cell_type": "code",
   "execution_count": 128,
   "id": "1050f42f",
   "metadata": {},
   "outputs": [
    {
     "data": {
      "image/png": "[encoded data removed]",
      "text/plain": [
       "<Figure size 1080x720 with 14 Axes>"
      ]
     },
     "metadata": {
      "needs_background": "light"
     },
     "output_type": "display_data"
    }
   ],
   "source": [
    "fig = plt.figure(figsize =(15,10))\n",
    "for i in range(len(cm_list_sm)):\n",
    "    cm = cm_list_sm[i]\n",
    "    model = model_list[i]\n",
    "    sub = fig.add_subplot(4,2, i+1).set_title(model);\n",
    "    cm_plot = sns.heatmap(cm, annot = True, cmap = 'Blues_r')\n",
    "    cm_plot.set_xlabel('Predicted Values')\n",
    "    cm_plot.set_ylabel('Actual Values')"
   ]
  },
  {
   "cell_type": "code",
   "execution_count": 129,
   "id": "e0aeff1e",
   "metadata": {},
   "outputs": [
    {
     "data": {
      "text/html": [
       "<div>\n",
       "<style scoped>\n",
       "    .dataframe tbody tr th:only-of-type {\n",
       "        vertical-align: middle;\n",
       "    }\n",
       "\n",
       "    .dataframe tbody tr th {\n",
       "        vertical-align: top;\n",
       "    }\n",
       "\n",
       "    .dataframe thead th {\n",
       "        text-align: right;\n",
       "    }\n",
       "</style>\n",
       "<table border=\"1\" class=\"dataframe\">\n",
       "  <thead>\n",
       "    <tr style=\"text-align: right;\">\n",
       "      <th></th>\n",
       "      <th>model</th>\n",
       "      <th>Accuracy</th>\n",
       "      <th>AUC</th>\n",
       "      <th>f1 Score</th>\n",
       "      <th>PR Score</th>\n",
       "    </tr>\n",
       "  </thead>\n",
       "  <tbody>\n",
       "    <tr>\n",
       "      <th>0</th>\n",
       "      <td>SVM</td>\n",
       "      <td>0.9958</td>\n",
       "      <td>1.00</td>\n",
       "      <td>1.00</td>\n",
       "      <td>1.00</td>\n",
       "    </tr>\n",
       "    <tr>\n",
       "      <th>1</th>\n",
       "      <td>KNN</td>\n",
       "      <td>0.9991</td>\n",
       "      <td>1.00</td>\n",
       "      <td>1.00</td>\n",
       "      <td>1.00</td>\n",
       "    </tr>\n",
       "    <tr>\n",
       "      <th>2</th>\n",
       "      <td>Decision Tree</td>\n",
       "      <td>1.0000</td>\n",
       "      <td>1.00</td>\n",
       "      <td>1.00</td>\n",
       "      <td>1.00</td>\n",
       "    </tr>\n",
       "    <tr>\n",
       "      <th>3</th>\n",
       "      <td>Random Forest</td>\n",
       "      <td>1.0000</td>\n",
       "      <td>1.00</td>\n",
       "      <td>1.00</td>\n",
       "      <td>1.00</td>\n",
       "    </tr>\n",
       "    <tr>\n",
       "      <th>4</th>\n",
       "      <td>Ada Boost</td>\n",
       "      <td>0.9947</td>\n",
       "      <td>0.99</td>\n",
       "      <td>0.99</td>\n",
       "      <td>0.99</td>\n",
       "    </tr>\n",
       "    <tr>\n",
       "      <th>5</th>\n",
       "      <td>GradientBoosting</td>\n",
       "      <td>0.9989</td>\n",
       "      <td>1.00</td>\n",
       "      <td>1.00</td>\n",
       "      <td>1.00</td>\n",
       "    </tr>\n",
       "    <tr>\n",
       "      <th>6</th>\n",
       "      <td>XGB</td>\n",
       "      <td>1.0000</td>\n",
       "      <td>1.00</td>\n",
       "      <td>1.00</td>\n",
       "      <td>1.00</td>\n",
       "    </tr>\n",
       "  </tbody>\n",
       "</table>\n",
       "</div>"
      ],
      "text/plain": [
       "              model  Accuracy   AUC  f1 Score  PR Score\n",
       "0               SVM    0.9958  1.00      1.00      1.00\n",
       "1               KNN    0.9991  1.00      1.00      1.00\n",
       "2     Decision Tree    1.0000  1.00      1.00      1.00\n",
       "3     Random Forest    1.0000  1.00      1.00      1.00\n",
       "4         Ada Boost    0.9947  0.99      0.99      0.99\n",
       "5  GradientBoosting    0.9989  1.00      1.00      1.00\n",
       "6               XGB    1.0000  1.00      1.00      1.00"
      ]
     },
     "execution_count": 129,
     "metadata": {},
     "output_type": "execute_result"
    }
   ],
   "source": [
    "results_sm = pd.DataFrame({'model': model_list, 'Accuracy': acc_list_sm, 'AUC': roc_auc_list_sm, 'f1 Score': f1_list_sm, 'PR Score': pr_auc_list_sm})\n",
    "results_sm"
   ]
  },
  {
   "cell_type": "markdown",
   "id": "5a0183b6",
   "metadata": {},
   "source": [
    "# Model Comparision Uisng  Original Data"
   ]
  },
  {
   "cell_type": "code",
   "execution_count": 144,
   "id": "87d95346",
   "metadata": {},
   "outputs": [],
   "source": [
    "acc_list_base = []\n",
    "roc_auc_list_base = []\n",
    "pr_auc_list_base = []\n",
    "cm_list_base = []\n",
    "f1_list_base = []"
   ]
  },
  {
   "cell_type": "code",
   "execution_count": 147,
   "id": "94c4022d",
   "metadata": {},
   "outputs": [],
   "source": [
    "scaler = StandardScaler()\n",
    "X_train= scaler.fit_transform(X_train)\n",
    "X_test= scaler.transform(X_test)"
   ]
  },
  {
   "cell_type": "code",
   "execution_count": 148,
   "id": "3af91cb1",
   "metadata": {},
   "outputs": [
    {
     "data": {
      "text/plain": [
       "-2.051800906048477e-17"
      ]
     },
     "execution_count": 148,
     "metadata": {},
     "output_type": "execute_result"
    }
   ],
   "source": [
    "X_train.mean()"
   ]
  },
  {
   "cell_type": "code",
   "execution_count": 149,
   "id": "5ac56988",
   "metadata": {},
   "outputs": [],
   "source": [
    "for model in model_pipeline:\n",
    "    model.fit(X_train, y_train)\n",
    "    y_pred = model.predict(X_test)\n",
    "    #yhat = model.predict_proba(X_test)[:,1]\n",
    "    acc_list_base.append(round(metrics.accuracy_score(y_test, y_pred),4))\n",
    "    fpr, tpr, _threshholds = metrics.roc_curve(y_test, y_pred)\n",
    "    precision, recall, _ = precision_recall_curve(y_test, y_pred)\n",
    "    roc_auc_list_base.append(round(metrics.auc(fpr, tpr),2))\n",
    "    pr_auc_list_base.append(round(metrics.auc(recall, precision),2))\n",
    "    f1_list_base.append(round(metrics.f1_score(y_test, y_pred),2))\n",
    "    cm_list_base.append(confusion_matrix(y_test, y_pred))"
   ]
  },
  {
   "cell_type": "code",
   "execution_count": 150,
   "id": "d05f7ce1",
   "metadata": {},
   "outputs": [
    {
     "data": {
      "image/png": "[encoded data removed]",
      "text/plain": [
       "<Figure size 1080x720 with 14 Axes>"
      ]
     },
     "metadata": {
      "needs_background": "light"
     },
     "output_type": "display_data"
    }
   ],
   "source": [
    "fig = plt.figure(figsize =(15,10))\n",
    "for i in range(len(cm_list_base)):\n",
    "    cm = cm_list_base[i]\n",
    "    model = model_list[i]\n",
    "    sub = fig.add_subplot(4,2, i+1).set_title(model);\n",
    "    cm_plot = sns.heatmap(cm, annot = True, cmap = 'Blues_r')\n",
    "    cm_plot.set_xlabel('Predicted Values')\n",
    "    cm_plot.set_ylabel('Actual Values')"
   ]
  },
  {
   "cell_type": "code",
   "execution_count": 151,
   "id": "8e5d4c90",
   "metadata": {},
   "outputs": [
    {
     "data": {
      "text/html": [
       "<div>\n",
       "<style scoped>\n",
       "    .dataframe tbody tr th:only-of-type {\n",
       "        vertical-align: middle;\n",
       "    }\n",
       "\n",
       "    .dataframe tbody tr th {\n",
       "        vertical-align: top;\n",
       "    }\n",
       "\n",
       "    .dataframe thead th {\n",
       "        text-align: right;\n",
       "    }\n",
       "</style>\n",
       "<table border=\"1\" class=\"dataframe\">\n",
       "  <thead>\n",
       "    <tr style=\"text-align: right;\">\n",
       "      <th></th>\n",
       "      <th>model</th>\n",
       "      <th>Accuracy</th>\n",
       "      <th>AUC</th>\n",
       "      <th>f1 Score</th>\n",
       "      <th>PR Score</th>\n",
       "    </tr>\n",
       "  </thead>\n",
       "  <tbody>\n",
       "    <tr>\n",
       "      <th>0</th>\n",
       "      <td>SVM</td>\n",
       "      <td>0.9976</td>\n",
       "      <td>0.99</td>\n",
       "      <td>0.99</td>\n",
       "      <td>0.99</td>\n",
       "    </tr>\n",
       "    <tr>\n",
       "      <th>1</th>\n",
       "      <td>KNN</td>\n",
       "      <td>0.9987</td>\n",
       "      <td>0.99</td>\n",
       "      <td>0.99</td>\n",
       "      <td>0.99</td>\n",
       "    </tr>\n",
       "    <tr>\n",
       "      <th>2</th>\n",
       "      <td>Decision Tree</td>\n",
       "      <td>1.0000</td>\n",
       "      <td>1.00</td>\n",
       "      <td>1.00</td>\n",
       "      <td>1.00</td>\n",
       "    </tr>\n",
       "    <tr>\n",
       "      <th>3</th>\n",
       "      <td>Random Forest</td>\n",
       "      <td>1.0000</td>\n",
       "      <td>1.00</td>\n",
       "      <td>1.00</td>\n",
       "      <td>1.00</td>\n",
       "    </tr>\n",
       "    <tr>\n",
       "      <th>4</th>\n",
       "      <td>Ada Boost</td>\n",
       "      <td>0.9997</td>\n",
       "      <td>1.00</td>\n",
       "      <td>1.00</td>\n",
       "      <td>1.00</td>\n",
       "    </tr>\n",
       "    <tr>\n",
       "      <th>5</th>\n",
       "      <td>GradientBoosting</td>\n",
       "      <td>0.9997</td>\n",
       "      <td>1.00</td>\n",
       "      <td>1.00</td>\n",
       "      <td>1.00</td>\n",
       "    </tr>\n",
       "    <tr>\n",
       "      <th>6</th>\n",
       "      <td>XGB</td>\n",
       "      <td>1.0000</td>\n",
       "      <td>1.00</td>\n",
       "      <td>1.00</td>\n",
       "      <td>1.00</td>\n",
       "    </tr>\n",
       "  </tbody>\n",
       "</table>\n",
       "</div>"
      ],
      "text/plain": [
       "              model  Accuracy   AUC  f1 Score  PR Score\n",
       "0               SVM    0.9976  0.99      0.99      0.99\n",
       "1               KNN    0.9987  0.99      0.99      0.99\n",
       "2     Decision Tree    1.0000  1.00      1.00      1.00\n",
       "3     Random Forest    1.0000  1.00      1.00      1.00\n",
       "4         Ada Boost    0.9997  1.00      1.00      1.00\n",
       "5  GradientBoosting    0.9997  1.00      1.00      1.00\n",
       "6               XGB    1.0000  1.00      1.00      1.00"
      ]
     },
     "execution_count": 151,
     "metadata": {},
     "output_type": "execute_result"
    }
   ],
   "source": [
    "results_base = pd.DataFrame({'model': model_list, 'Accuracy': acc_list_base, 'AUC': roc_auc_list_base, 'f1 Score': f1_list_base, 'PR Score': pr_auc_list_base})\n",
    "results_base"
   ]
  },
  {
   "cell_type": "markdown",
   "id": "e701f63e",
   "metadata": {},
   "source": [
    "### We can pick any of the above models and proceed with the optimization, if needed. "
   ]
  }
 ],
 "metadata": {
  "kernelspec": {
   "display_name": "Python 3 (ipykernel)",
   "language": "python",
   "name": "python3"
  },
  "language_info": {
   "codemirror_mode": {
    "name": "ipython",
    "version": 3
   },
   "file_extension": ".py",
   "mimetype": "text/x-python",
   "name": "python",
   "nbconvert_exporter": "python",
   "pygments_lexer": "ipython3",
   "version": "3.9.7"
  }
 },
 "nbformat": 4,
 "nbformat_minor": 5
}
