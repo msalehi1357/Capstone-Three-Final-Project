{
 "cells": [
  {
   "cell_type": "markdown",
   "id": "25a32997",
   "metadata": {},
   "source": [
    "## The purpose of this project is to develop a model to predict credit card fraud using Machine Learning. \n",
    "### This is the Pre-processing and model development step. "
   ]
  },
  {
   "cell_type": "markdown",
   "id": "d7fea307",
   "metadata": {},
   "source": [
    "The data is obtained from Kaggle and here are Feature Explanation (critical features for a fraudulent transaction detection):\n",
    "\n",
    "    distancefromhome - the distance from home where the transaction happened.\n",
    "\n",
    "    distancefromlast_transaction - the distance from last transaction happened.\n",
    "\n",
    "    ratiotomedianpurchaseprice - Ratio of purchased price transaction to median purchase price.\n",
    "\n",
    "    repeat_retailer - Is the transaction happened from same retailer.\n",
    "\n",
    "    used_chip - Is the transaction through chip (credit card).\n",
    "\n",
    "    usedpinnumber - Is the transaction happened by using PIN number.\n",
    "\n",
    "    online_order - Is the transaction an online order.\n",
    "\n",
    "    fraud - Is the transaction fraudulent.\n",
    "    \n",
    " "
   ]
  },
  {
   "cell_type": "markdown",
   "id": "e9837cca",
   "metadata": {},
   "source": [
    "**Fraudulent transactions data sets are imbalanced and we may have \"Accuracy Paradox\", where our accuracy measures tell the story that we have excellent accuracy (such as 90% or higher), but the accuracy is only reflecting the underlying class distribution.**\n",
    "\n",
    "Such problems have a high cost associated with not detecting the minority class correctly. "
   ]
  },
  {
   "cell_type": "markdown",
   "id": "37ffbff0",
   "metadata": {},
   "source": [
    "## Import libraries "
   ]
  },
  {
   "cell_type": "code",
   "execution_count": 1,
   "id": "bac96810",
   "metadata": {},
   "outputs": [],
   "source": [
    "import os\n",
    "import numpy as np \n",
    "import pandas as pd \n",
    "import matplotlib.pyplot as plt \n",
    "import seaborn as sns # \n",
    "import statsmodels.api as sm \n",
    "from statsmodels.graphics.api import abline_plot \n",
    "from sklearn import linear_model, preprocessing \n",
    "import pickle\n",
    "from sklearn import __version__ as sklearn_version\n",
    "from sklearn.decomposition import PCA\n",
    "from sklearn.preprocessing import scale\n",
    "from sklearn.model_selection import train_test_split, cross_validate, GridSearchCV, learning_curve\n",
    "from sklearn.preprocessing import StandardScaler, MinMaxScaler\n",
    "from sklearn.pipeline import make_pipeline\n",
    "from sklearn.impute import SimpleImputer\n",
    "from sklearn.feature_selection import SelectKBest, f_regression\n",
    "import datetime\n",
    "import warnings # For handling error messages.\n",
    "warnings.simplefilter(action=\"ignore\", category=FutureWarning)\n",
    "warnings.filterwarnings(action=\"ignore\", module=\"scipy\", message=\"^internal gelsd\")"
   ]
  },
  {
   "cell_type": "markdown",
   "id": "04c4ace1",
   "metadata": {},
   "source": [
    "### Load data and reviewing it"
   ]
  },
  {
   "cell_type": "code",
   "execution_count": 2,
   "id": "7bf8e424",
   "metadata": {},
   "outputs": [],
   "source": [
    "path = 'C:/Users/msale/Documents/Springboard Data Science Track_Jan 2022/Capstone-Three-Final-Project/raw_data/card_transdata.csv'\n",
    "data = pd.read_csv(path)"
   ]
  },
  {
   "cell_type": "code",
   "execution_count": 4,
   "id": "acea83d0",
   "metadata": {},
   "outputs": [
    {
     "data": {
      "text/html": [
       "<div>\n",
       "<style scoped>\n",
       "    .dataframe tbody tr th:only-of-type {\n",
       "        vertical-align: middle;\n",
       "    }\n",
       "\n",
       "    .dataframe tbody tr th {\n",
       "        vertical-align: top;\n",
       "    }\n",
       "\n",
       "    .dataframe thead th {\n",
       "        text-align: right;\n",
       "    }\n",
       "</style>\n",
       "<table border=\"1\" class=\"dataframe\">\n",
       "  <thead>\n",
       "    <tr style=\"text-align: right;\">\n",
       "      <th></th>\n",
       "      <th>distance_from_home</th>\n",
       "      <th>distance_from_last_transaction</th>\n",
       "      <th>ratio_to_median_purchase_price</th>\n",
       "      <th>repeat_retailer</th>\n",
       "      <th>used_chip</th>\n",
       "      <th>used_pin_number</th>\n",
       "      <th>online_order</th>\n",
       "      <th>fraud</th>\n",
       "    </tr>\n",
       "  </thead>\n",
       "  <tbody>\n",
       "    <tr>\n",
       "      <th>0</th>\n",
       "      <td>57.877857</td>\n",
       "      <td>0.311140</td>\n",
       "      <td>1.945940</td>\n",
       "      <td>1.0</td>\n",
       "      <td>1.0</td>\n",
       "      <td>0.0</td>\n",
       "      <td>0.0</td>\n",
       "      <td>0.0</td>\n",
       "    </tr>\n",
       "    <tr>\n",
       "      <th>1</th>\n",
       "      <td>10.829943</td>\n",
       "      <td>0.175592</td>\n",
       "      <td>1.294219</td>\n",
       "      <td>1.0</td>\n",
       "      <td>0.0</td>\n",
       "      <td>0.0</td>\n",
       "      <td>0.0</td>\n",
       "      <td>0.0</td>\n",
       "    </tr>\n",
       "    <tr>\n",
       "      <th>2</th>\n",
       "      <td>5.091079</td>\n",
       "      <td>0.805153</td>\n",
       "      <td>0.427715</td>\n",
       "      <td>1.0</td>\n",
       "      <td>0.0</td>\n",
       "      <td>0.0</td>\n",
       "      <td>1.0</td>\n",
       "      <td>0.0</td>\n",
       "    </tr>\n",
       "    <tr>\n",
       "      <th>3</th>\n",
       "      <td>2.247564</td>\n",
       "      <td>5.600044</td>\n",
       "      <td>0.362663</td>\n",
       "      <td>1.0</td>\n",
       "      <td>1.0</td>\n",
       "      <td>0.0</td>\n",
       "      <td>1.0</td>\n",
       "      <td>0.0</td>\n",
       "    </tr>\n",
       "    <tr>\n",
       "      <th>4</th>\n",
       "      <td>44.190936</td>\n",
       "      <td>0.566486</td>\n",
       "      <td>2.222767</td>\n",
       "      <td>1.0</td>\n",
       "      <td>1.0</td>\n",
       "      <td>0.0</td>\n",
       "      <td>1.0</td>\n",
       "      <td>0.0</td>\n",
       "    </tr>\n",
       "  </tbody>\n",
       "</table>\n",
       "</div>"
      ],
      "text/plain": [
       "   distance_from_home  distance_from_last_transaction  \\\n",
       "0           57.877857                        0.311140   \n",
       "1           10.829943                        0.175592   \n",
       "2            5.091079                        0.805153   \n",
       "3            2.247564                        5.600044   \n",
       "4           44.190936                        0.566486   \n",
       "\n",
       "   ratio_to_median_purchase_price  repeat_retailer  used_chip  \\\n",
       "0                        1.945940              1.0        1.0   \n",
       "1                        1.294219              1.0        0.0   \n",
       "2                        0.427715              1.0        0.0   \n",
       "3                        0.362663              1.0        1.0   \n",
       "4                        2.222767              1.0        1.0   \n",
       "\n",
       "   used_pin_number  online_order  fraud  \n",
       "0              0.0           0.0    0.0  \n",
       "1              0.0           0.0    0.0  \n",
       "2              0.0           1.0    0.0  \n",
       "3              0.0           1.0    0.0  \n",
       "4              0.0           1.0    0.0  "
      ]
     },
     "execution_count": 4,
     "metadata": {},
     "output_type": "execute_result"
    }
   ],
   "source": [
    "data.head() # we have 8 columns with the target variable being last column: fraud"
   ]
  },
  {
   "cell_type": "code",
   "execution_count": 6,
   "id": "70f892bc",
   "metadata": {},
   "outputs": [
    {
     "name": "stdout",
     "output_type": "stream",
     "text": [
      "<class 'pandas.core.frame.DataFrame'>\n",
      "RangeIndex: 1000000 entries, 0 to 999999\n",
      "Data columns (total 8 columns):\n",
      " #   Column                          Non-Null Count    Dtype  \n",
      "---  ------                          --------------    -----  \n",
      " 0   distance_from_home              1000000 non-null  float64\n",
      " 1   distance_from_last_transaction  1000000 non-null  float64\n",
      " 2   ratio_to_median_purchase_price  1000000 non-null  float64\n",
      " 3   repeat_retailer                 1000000 non-null  float64\n",
      " 4   used_chip                       1000000 non-null  float64\n",
      " 5   used_pin_number                 1000000 non-null  float64\n",
      " 6   online_order                    1000000 non-null  float64\n",
      " 7   fraud                           1000000 non-null  float64\n",
      "dtypes: float64(8)\n",
      "memory usage: 61.0 MB\n"
     ]
    }
   ],
   "source": [
    "data.info() # 1M observations. "
   ]
  },
  {
   "cell_type": "code",
   "execution_count": 43,
   "id": "5b4c652c",
   "metadata": {},
   "outputs": [
    {
     "data": {
      "text/plain": [
       "<bound method DataFrame.value_counts of         distance_from_home  distance_from_last_transaction  \\\n",
       "13                2.131956                       56.372401   \n",
       "24                3.803057                       67.241081   \n",
       "29               15.694986                      175.989182   \n",
       "35               26.711462                        1.552008   \n",
       "36               10.664474                        1.565769   \n",
       "...                    ...                             ...   \n",
       "999908           45.296658                        0.882736   \n",
       "999916          167.139756                        0.282253   \n",
       "999919          124.640118                        0.004416   \n",
       "999939           51.412900                        3.429330   \n",
       "999949           15.724799                        1.875906   \n",
       "\n",
       "        ratio_to_median_purchase_price  repeat_retailer  used_chip  \\\n",
       "13                            6.358667              1.0        0.0   \n",
       "24                            1.872950              1.0        0.0   \n",
       "29                            0.855623              1.0        0.0   \n",
       "35                            4.603601              1.0        1.0   \n",
       "36                            4.886521              1.0        0.0   \n",
       "...                                ...              ...        ...   \n",
       "999908                        8.856861              1.0        0.0   \n",
       "999916                        0.308468              1.0        0.0   \n",
       "999919                        0.434885              1.0        0.0   \n",
       "999939                       29.914254              1.0        0.0   \n",
       "999949                       11.009366              1.0        1.0   \n",
       "\n",
       "        used_pin_number  online_order  fraud  \n",
       "13                  0.0           1.0    1.0  \n",
       "24                  0.0           1.0    1.0  \n",
       "29                  0.0           1.0    1.0  \n",
       "35                  0.0           1.0    1.0  \n",
       "36                  0.0           1.0    1.0  \n",
       "...                 ...           ...    ...  \n",
       "999908              0.0           1.0    1.0  \n",
       "999916              0.0           1.0    1.0  \n",
       "999919              0.0           1.0    1.0  \n",
       "999939              0.0           1.0    1.0  \n",
       "999949              0.0           1.0    1.0  \n",
       "\n",
       "[87403 rows x 8 columns]>"
      ]
     },
     "execution_count": 43,
     "metadata": {},
     "output_type": "execute_result"
    }
   ],
   "source": [
    "data[data['fraud'] ==1].value_counts # 87403 cases of fraud out of 1M transactions"
   ]
  },
  {
   "cell_type": "code",
   "execution_count": 44,
   "id": "61d0c18f",
   "metadata": {},
   "outputs": [],
   "source": [
    "df = data # calling clean dataframe df"
   ]
  },
  {
   "cell_type": "markdown",
   "id": "f453bb8e",
   "metadata": {},
   "source": [
    "##### Define our X (features) and y (target variable)"
   ]
  },
  {
   "cell_type": "code",
   "execution_count": 45,
   "id": "3036265d",
   "metadata": {},
   "outputs": [],
   "source": [
    "y = df['fraud']  # target value \n",
    "X = df.drop('fraud', axis = 1)"
   ]
  },
  {
   "cell_type": "code",
   "execution_count": 46,
   "id": "4edcb247",
   "metadata": {},
   "outputs": [
    {
     "data": {
      "text/plain": [
       "0    0.0\n",
       "1    0.0\n",
       "2    0.0\n",
       "3    0.0\n",
       "4    0.0\n",
       "Name: fraud, dtype: float64"
      ]
     },
     "execution_count": 46,
     "metadata": {},
     "output_type": "execute_result"
    }
   ],
   "source": [
    "y.head()"
   ]
  },
  {
   "cell_type": "code",
   "execution_count": 26,
   "id": "cb91aa0e",
   "metadata": {},
   "outputs": [
    {
     "data": {
      "text/html": [
       "<div>\n",
       "<style scoped>\n",
       "    .dataframe tbody tr th:only-of-type {\n",
       "        vertical-align: middle;\n",
       "    }\n",
       "\n",
       "    .dataframe tbody tr th {\n",
       "        vertical-align: top;\n",
       "    }\n",
       "\n",
       "    .dataframe thead th {\n",
       "        text-align: right;\n",
       "    }\n",
       "</style>\n",
       "<table border=\"1\" class=\"dataframe\">\n",
       "  <thead>\n",
       "    <tr style=\"text-align: right;\">\n",
       "      <th></th>\n",
       "      <th>distance_from_home</th>\n",
       "      <th>distance_from_last_transaction</th>\n",
       "      <th>ratio_to_median_purchase_price</th>\n",
       "      <th>repeat_retailer</th>\n",
       "      <th>used_chip</th>\n",
       "      <th>used_pin_number</th>\n",
       "      <th>online_order</th>\n",
       "    </tr>\n",
       "  </thead>\n",
       "  <tbody>\n",
       "    <tr>\n",
       "      <th>0</th>\n",
       "      <td>57.877857</td>\n",
       "      <td>0.311140</td>\n",
       "      <td>1.945940</td>\n",
       "      <td>1.0</td>\n",
       "      <td>1.0</td>\n",
       "      <td>0.0</td>\n",
       "      <td>0.0</td>\n",
       "    </tr>\n",
       "    <tr>\n",
       "      <th>1</th>\n",
       "      <td>10.829943</td>\n",
       "      <td>0.175592</td>\n",
       "      <td>1.294219</td>\n",
       "      <td>1.0</td>\n",
       "      <td>0.0</td>\n",
       "      <td>0.0</td>\n",
       "      <td>0.0</td>\n",
       "    </tr>\n",
       "    <tr>\n",
       "      <th>2</th>\n",
       "      <td>5.091079</td>\n",
       "      <td>0.805153</td>\n",
       "      <td>0.427715</td>\n",
       "      <td>1.0</td>\n",
       "      <td>0.0</td>\n",
       "      <td>0.0</td>\n",
       "      <td>1.0</td>\n",
       "    </tr>\n",
       "    <tr>\n",
       "      <th>3</th>\n",
       "      <td>2.247564</td>\n",
       "      <td>5.600044</td>\n",
       "      <td>0.362663</td>\n",
       "      <td>1.0</td>\n",
       "      <td>1.0</td>\n",
       "      <td>0.0</td>\n",
       "      <td>1.0</td>\n",
       "    </tr>\n",
       "    <tr>\n",
       "      <th>4</th>\n",
       "      <td>44.190936</td>\n",
       "      <td>0.566486</td>\n",
       "      <td>2.222767</td>\n",
       "      <td>1.0</td>\n",
       "      <td>1.0</td>\n",
       "      <td>0.0</td>\n",
       "      <td>1.0</td>\n",
       "    </tr>\n",
       "  </tbody>\n",
       "</table>\n",
       "</div>"
      ],
      "text/plain": [
       "   distance_from_home  distance_from_last_transaction  \\\n",
       "0           57.877857                        0.311140   \n",
       "1           10.829943                        0.175592   \n",
       "2            5.091079                        0.805153   \n",
       "3            2.247564                        5.600044   \n",
       "4           44.190936                        0.566486   \n",
       "\n",
       "   ratio_to_median_purchase_price  repeat_retailer  used_chip  \\\n",
       "0                        1.945940              1.0        1.0   \n",
       "1                        1.294219              1.0        0.0   \n",
       "2                        0.427715              1.0        0.0   \n",
       "3                        0.362663              1.0        1.0   \n",
       "4                        2.222767              1.0        1.0   \n",
       "\n",
       "   used_pin_number  online_order  \n",
       "0              0.0           0.0  \n",
       "1              0.0           0.0  \n",
       "2              0.0           1.0  \n",
       "3              0.0           1.0  \n",
       "4              0.0           1.0  "
      ]
     },
     "execution_count": 26,
     "metadata": {},
     "output_type": "execute_result"
    }
   ],
   "source": [
    "X.head()"
   ]
  },
  {
   "cell_type": "markdown",
   "id": "44b17ca7",
   "metadata": {},
   "source": [
    "##### Train/Test Split (Creating a 75/25 train and test split)¶"
   ]
  },
  {
   "cell_type": "code",
   "execution_count": 47,
   "id": "6273bb8a",
   "metadata": {},
   "outputs": [],
   "source": [
    "X_train, X_test, y_train, y_test = train_test_split(X, y, test_size = 0.25, random_state = 40)"
   ]
  },
  {
   "cell_type": "code",
   "execution_count": 48,
   "id": "edbbe04f",
   "metadata": {},
   "outputs": [],
   "source": [
    "from collections import Counter"
   ]
  },
  {
   "cell_type": "code",
   "execution_count": 49,
   "id": "8cca22da",
   "metadata": {},
   "outputs": [
    {
     "name": "stdout",
     "output_type": "stream",
     "text": [
      "Counter({0.0: 684425, 1.0: 65575}) Counter({0.0: 228172, 1.0: 21828})\n"
     ]
    }
   ],
   "source": [
    "print(Counter(y_train), Counter(y_test))"
   ]
  },
  {
   "cell_type": "code",
   "execution_count": 50,
   "id": "83fd76ba",
   "metadata": {},
   "outputs": [
    {
     "data": {
      "text/plain": [
       "(750000.0, 250000.0)"
      ]
     },
     "execution_count": 50,
     "metadata": {},
     "output_type": "execute_result"
    }
   ],
   "source": [
    "len(df) * .75, len(df) * .25"
   ]
  },
  {
   "cell_type": "code",
   "execution_count": 51,
   "id": "dc54f527",
   "metadata": {},
   "outputs": [
    {
     "data": {
      "text/plain": [
       "((750000, 7), (250000, 7))"
      ]
     },
     "execution_count": 51,
     "metadata": {},
     "output_type": "execute_result"
    }
   ],
   "source": [
    "X_train.shape, X_test.shape # X are all the features "
   ]
  },
  {
   "cell_type": "code",
   "execution_count": 52,
   "id": "f7cf8234",
   "metadata": {},
   "outputs": [
    {
     "data": {
      "text/plain": [
       "((750000,), (250000,))"
      ]
     },
     "execution_count": 52,
     "metadata": {},
     "output_type": "execute_result"
    }
   ],
   "source": [
    "y_train.shape, y_test.shape  # y is the fraud label"
   ]
  },
  {
   "cell_type": "code",
   "execution_count": 59,
   "id": "a7c9033e",
   "metadata": {},
   "outputs": [
    {
     "name": "stdout",
     "output_type": "stream",
     "text": [
      "Dataset: Class_0=912597, Class_1=87403\n",
      "Train Set: Class_0=684425, Class_1=65575\n",
      "Test Set: Class_0=228172, Class_1=21828\n"
     ]
    }
   ],
   "source": [
    "# summarize dataset\n",
    "print('Dataset: Class_0=%d, Class_1=%d' % (len(y[y==0]),len(y[y==1])))\n",
    "print('Train Set: Class_0=%d, Class_1=%d' % (len(y_train[y_train==0]), len(y_train[y_train==1])))\n",
    "print('Test Set: Class_0=%d, Class_1=%d' % (len(y_test[y_test==0]), len(y_test[y_test==1])))"
   ]
  },
  {
   "cell_type": "markdown",
   "id": "19d44f89",
   "metadata": {},
   "source": [
    "#### Standarizing the features"
   ]
  },
  {
   "cell_type": "markdown",
   "id": "0d2a0213",
   "metadata": {},
   "source": [
    "###### Using Sklearn, standarizing the magnitude of the features by scaling the values.\n",
    "\n",
    "Note: We need to fit() our scaler on X_train and then use that fitted scaler to transform() X_test. This is to avoid data leakage while we standardize our data"
   ]
  },
  {
   "cell_type": "code",
   "execution_count": null,
   "id": "0802caea",
   "metadata": {},
   "outputs": [],
   "source": [
    "scaler = StandardScaler()\n",
    "X_train_scaled = scaler.fit_transform(X_train)\n",
    "X_test_scaled = scaler.transform(X_test)"
   ]
  },
  {
   "cell_type": "markdown",
   "id": "c166389a",
   "metadata": {},
   "source": [
    "# Initial Models"
   ]
  },
  {
   "cell_type": "code",
   "execution_count": 60,
   "id": "0ef9ad10",
   "metadata": {},
   "outputs": [],
   "source": [
    "# Sklearn's metrics to evaluate our models\n",
    "from sklearn.metrics import accuracy_score, precision_score, confusion_matrix, recall_score, f1_score\n",
    "# Classifiers\n",
    "from sklearn.ensemble import RandomForestClassifier\n",
    "from sklearn.tree import DecisionTreeClassifier"
   ]
  },
  {
   "cell_type": "markdown",
   "id": "afb9d099",
   "metadata": {},
   "source": [
    "## 1) DecisionTreeClassifier Model"
   ]
  },
  {
   "cell_type": "code",
   "execution_count": 61,
   "id": "33dbbf67",
   "metadata": {},
   "outputs": [],
   "source": [
    "dt_clf = DecisionTreeClassifier(random_state= 20)"
   ]
  },
  {
   "cell_type": "code",
   "execution_count": 62,
   "id": "4abf60e7",
   "metadata": {
    "scrolled": true
   },
   "outputs": [
    {
     "data": {
      "text/html": [
       "<style>#sk-container-id-1 {color: black;background-color: white;}#sk-container-id-1 pre{padding: 0;}#sk-container-id-1 div.sk-toggleable {background-color: white;}#sk-container-id-1 label.sk-toggleable__label {cursor: pointer;display: block;width: 100%;margin-bottom: 0;padding: 0.3em;box-sizing: border-box;text-align: center;}#sk-container-id-1 label.sk-toggleable__label-arrow:before {content: \"▸\";float: left;margin-right: 0.25em;color: #696969;}#sk-container-id-1 label.sk-toggleable__label-arrow:hover:before {color: black;}#sk-container-id-1 div.sk-estimator:hover label.sk-toggleable__label-arrow:before {color: black;}#sk-container-id-1 div.sk-toggleable__content {max-height: 0;max-width: 0;overflow: hidden;text-align: left;background-color: #f0f8ff;}#sk-container-id-1 div.sk-toggleable__content pre {margin: 0.2em;color: black;border-radius: 0.25em;background-color: #f0f8ff;}#sk-container-id-1 input.sk-toggleable__control:checked~div.sk-toggleable__content {max-height: 200px;max-width: 100%;overflow: auto;}#sk-container-id-1 input.sk-toggleable__control:checked~label.sk-toggleable__label-arrow:before {content: \"▾\";}#sk-container-id-1 div.sk-estimator input.sk-toggleable__control:checked~label.sk-toggleable__label {background-color: #d4ebff;}#sk-container-id-1 div.sk-label input.sk-toggleable__control:checked~label.sk-toggleable__label {background-color: #d4ebff;}#sk-container-id-1 input.sk-hidden--visually {border: 0;clip: rect(1px 1px 1px 1px);clip: rect(1px, 1px, 1px, 1px);height: 1px;margin: -1px;overflow: hidden;padding: 0;position: absolute;width: 1px;}#sk-container-id-1 div.sk-estimator {font-family: monospace;background-color: #f0f8ff;border: 1px dotted black;border-radius: 0.25em;box-sizing: border-box;margin-bottom: 0.5em;}#sk-container-id-1 div.sk-estimator:hover {background-color: #d4ebff;}#sk-container-id-1 div.sk-parallel-item::after {content: \"\";width: 100%;border-bottom: 1px solid gray;flex-grow: 1;}#sk-container-id-1 div.sk-label:hover label.sk-toggleable__label {background-color: #d4ebff;}#sk-container-id-1 div.sk-serial::before {content: \"\";position: absolute;border-left: 1px solid gray;box-sizing: border-box;top: 0;bottom: 0;left: 50%;z-index: 0;}#sk-container-id-1 div.sk-serial {display: flex;flex-direction: column;align-items: center;background-color: white;padding-right: 0.2em;padding-left: 0.2em;position: relative;}#sk-container-id-1 div.sk-item {position: relative;z-index: 1;}#sk-container-id-1 div.sk-parallel {display: flex;align-items: stretch;justify-content: center;background-color: white;position: relative;}#sk-container-id-1 div.sk-item::before, #sk-container-id-1 div.sk-parallel-item::before {content: \"\";position: absolute;border-left: 1px solid gray;box-sizing: border-box;top: 0;bottom: 0;left: 50%;z-index: -1;}#sk-container-id-1 div.sk-parallel-item {display: flex;flex-direction: column;z-index: 1;position: relative;background-color: white;}#sk-container-id-1 div.sk-parallel-item:first-child::after {align-self: flex-end;width: 50%;}#sk-container-id-1 div.sk-parallel-item:last-child::after {align-self: flex-start;width: 50%;}#sk-container-id-1 div.sk-parallel-item:only-child::after {width: 0;}#sk-container-id-1 div.sk-dashed-wrapped {border: 1px dashed gray;margin: 0 0.4em 0.5em 0.4em;box-sizing: border-box;padding-bottom: 0.4em;background-color: white;}#sk-container-id-1 div.sk-label label {font-family: monospace;font-weight: bold;display: inline-block;line-height: 1.2em;}#sk-container-id-1 div.sk-label-container {text-align: center;}#sk-container-id-1 div.sk-container {/* jupyter's `normalize.less` sets `[hidden] { display: none; }` but bootstrap.min.css set `[hidden] { display: none !important; }` so we also need the `!important` here to be able to override the default hidden behavior on the sphinx rendered scikit-learn.org. See: https://github.com/scikit-learn/scikit-learn/issues/21755 */display: inline-block !important;position: relative;}#sk-container-id-1 div.sk-text-repr-fallback {display: none;}</style><div id=\"sk-container-id-1\" class=\"sk-top-container\"><div class=\"sk-text-repr-fallback\"><pre>DecisionTreeClassifier(random_state=20)</pre><b>In a Jupyter environment, please rerun this cell to show the HTML representation or trust the notebook. <br />On GitHub, the HTML representation is unable to render, please try loading this page with nbviewer.org.</b></div><div class=\"sk-container\" hidden><div class=\"sk-item\"><div class=\"sk-estimator sk-toggleable\"><input class=\"sk-toggleable__control sk-hidden--visually\" id=\"sk-estimator-id-1\" type=\"checkbox\" checked><label for=\"sk-estimator-id-1\" class=\"sk-toggleable__label sk-toggleable__label-arrow\">DecisionTreeClassifier</label><div class=\"sk-toggleable__content\"><pre>DecisionTreeClassifier(random_state=20)</pre></div></div></div></div></div>"
      ],
      "text/plain": [
       "DecisionTreeClassifier(random_state=20)"
      ]
     },
     "execution_count": 62,
     "metadata": {},
     "output_type": "execute_result"
    }
   ],
   "source": [
    "dt_clf.fit(X_train, y_train)"
   ]
  },
  {
   "cell_type": "code",
   "execution_count": 63,
   "id": "cc31d310",
   "metadata": {},
   "outputs": [
    {
     "data": {
      "text/plain": [
       "{'ccp_alpha': 0.0,\n",
       " 'class_weight': None,\n",
       " 'criterion': 'gini',\n",
       " 'max_depth': None,\n",
       " 'max_features': None,\n",
       " 'max_leaf_nodes': None,\n",
       " 'min_impurity_decrease': 0.0,\n",
       " 'min_samples_leaf': 1,\n",
       " 'min_samples_split': 2,\n",
       " 'min_weight_fraction_leaf': 0.0,\n",
       " 'random_state': 20,\n",
       " 'splitter': 'best'}"
      ]
     },
     "execution_count": 63,
     "metadata": {},
     "output_type": "execute_result"
    }
   ],
   "source": [
    "dt_clf.get_params(deep=True)"
   ]
  },
  {
   "cell_type": "code",
   "execution_count": 64,
   "id": "b97d67f5",
   "metadata": {},
   "outputs": [],
   "source": [
    "# Make predictions using the model on both train and test splits\n",
    "y_pred_dt = dt_clf.predict(X_test)"
   ]
  },
  {
   "cell_type": "code",
   "execution_count": 98,
   "id": "b9aee1e3",
   "metadata": {},
   "outputs": [],
   "source": [
    "dt_clf_score= round(dt_clf.score(X_test,y_test) * 100, 4)"
   ]
  },
  {
   "cell_type": "code",
   "execution_count": 97,
   "id": "24334152",
   "metadata": {},
   "outputs": [
    {
     "name": "stdout",
     "output_type": "stream",
     "text": [
      "Decision Tree Performance:  100.0\n"
     ]
    }
   ],
   "source": [
    "print('Decision Tree Performance: ', dt_clf_score)"
   ]
  },
  {
   "cell_type": "code",
   "execution_count": 96,
   "id": "1fdba174",
   "metadata": {},
   "outputs": [
    {
     "data": {
      "text/html": [
       "<div>\n",
       "<style scoped>\n",
       "    .dataframe tbody tr th:only-of-type {\n",
       "        vertical-align: middle;\n",
       "    }\n",
       "\n",
       "    .dataframe tbody tr th {\n",
       "        vertical-align: top;\n",
       "    }\n",
       "\n",
       "    .dataframe thead th {\n",
       "        text-align: right;\n",
       "    }\n",
       "</style>\n",
       "<table border=\"1\" class=\"dataframe\">\n",
       "  <thead>\n",
       "    <tr style=\"text-align: right;\">\n",
       "      <th>col_0</th>\n",
       "      <th>0.0</th>\n",
       "      <th>1.0</th>\n",
       "    </tr>\n",
       "    <tr>\n",
       "      <th>fraud</th>\n",
       "      <th></th>\n",
       "      <th></th>\n",
       "    </tr>\n",
       "  </thead>\n",
       "  <tbody>\n",
       "    <tr>\n",
       "      <th>0.0</th>\n",
       "      <td>228171</td>\n",
       "      <td>1</td>\n",
       "    </tr>\n",
       "    <tr>\n",
       "      <th>1.0</th>\n",
       "      <td>3</td>\n",
       "      <td>21825</td>\n",
       "    </tr>\n",
       "  </tbody>\n",
       "</table>\n",
       "</div>"
      ],
      "text/plain": [
       "col_0     0.0    1.0\n",
       "fraud               \n",
       "0.0    228171      1\n",
       "1.0         3  21825"
      ]
     },
     "execution_count": 96,
     "metadata": {},
     "output_type": "execute_result"
    }
   ],
   "source": [
    "pd.crosstab(y_test,y_pred_dt)"
   ]
  },
  {
   "cell_type": "markdown",
   "id": "19545d87",
   "metadata": {},
   "source": [
    "##### This high accuracy is an \"Accuracy Paradox\", where accuracy measures indicate we have excellent accuracy, but the accuracy is only reflecting the underlying class distribution."
   ]
  },
  {
   "cell_type": "markdown",
   "id": "c65efed0",
   "metadata": {},
   "source": [
    "###  Decision Tree Performance¶"
   ]
  },
  {
   "cell_type": "code",
   "execution_count": 72,
   "id": "21385524",
   "metadata": {},
   "outputs": [],
   "source": [
    "from sklearn.metrics import confusion_matrix, ConfusionMatrixDisplay, classification_report"
   ]
  },
  {
   "cell_type": "code",
   "execution_count": 73,
   "id": "e92d66d4",
   "metadata": {},
   "outputs": [
    {
     "data": {
      "image/png": "[encoded data removed]",
      "text/plain": [
       "<Figure size 432x288 with 1 Axes>"
      ]
     },
     "metadata": {
      "needs_background": "light"
     },
     "output_type": "display_data"
    }
   ],
   "source": [
    "cm = confusion_matrix(y_true = y_test, y_pred=y_pred_dt)\n",
    "ConfusionMatrixDisplay(cm).plot(cmap='Blues', colorbar=False)\n",
    "plt.title('DecisionTreeClassifier Confusion Matrix')\n",
    "plt.show()"
   ]
  },
  {
   "cell_type": "code",
   "execution_count": 74,
   "id": "f47ba048",
   "metadata": {
    "scrolled": false
   },
   "outputs": [
    {
     "data": {
      "text/html": [
       "<div>\n",
       "<style scoped>\n",
       "    .dataframe tbody tr th:only-of-type {\n",
       "        vertical-align: middle;\n",
       "    }\n",
       "\n",
       "    .dataframe tbody tr th {\n",
       "        vertical-align: top;\n",
       "    }\n",
       "\n",
       "    .dataframe thead th {\n",
       "        text-align: right;\n",
       "    }\n",
       "</style>\n",
       "<table border=\"1\" class=\"dataframe\">\n",
       "  <thead>\n",
       "    <tr style=\"text-align: right;\">\n",
       "      <th></th>\n",
       "      <th>0.0</th>\n",
       "      <th>1.0</th>\n",
       "      <th>accuracy</th>\n",
       "      <th>macro avg</th>\n",
       "      <th>weighted avg</th>\n",
       "    </tr>\n",
       "  </thead>\n",
       "  <tbody>\n",
       "    <tr>\n",
       "      <th>precision</th>\n",
       "      <td>0.999987</td>\n",
       "      <td>0.999954</td>\n",
       "      <td>0.999984</td>\n",
       "      <td>0.999971</td>\n",
       "      <td>0.999984</td>\n",
       "    </tr>\n",
       "    <tr>\n",
       "      <th>recall</th>\n",
       "      <td>0.999996</td>\n",
       "      <td>0.999863</td>\n",
       "      <td>0.999984</td>\n",
       "      <td>0.999929</td>\n",
       "      <td>0.999984</td>\n",
       "    </tr>\n",
       "    <tr>\n",
       "      <th>f1-score</th>\n",
       "      <td>0.999991</td>\n",
       "      <td>0.999908</td>\n",
       "      <td>0.999984</td>\n",
       "      <td>0.999950</td>\n",
       "      <td>0.999984</td>\n",
       "    </tr>\n",
       "    <tr>\n",
       "      <th>support</th>\n",
       "      <td>228172.000000</td>\n",
       "      <td>21828.000000</td>\n",
       "      <td>0.999984</td>\n",
       "      <td>250000.000000</td>\n",
       "      <td>250000.000000</td>\n",
       "    </tr>\n",
       "  </tbody>\n",
       "</table>\n",
       "</div>"
      ],
      "text/plain": [
       "                     0.0           1.0  accuracy      macro avg   weighted avg\n",
       "precision       0.999987      0.999954  0.999984       0.999971       0.999984\n",
       "recall          0.999996      0.999863  0.999984       0.999929       0.999984\n",
       "f1-score        0.999991      0.999908  0.999984       0.999950       0.999984\n",
       "support    228172.000000  21828.000000  0.999984  250000.000000  250000.000000"
      ]
     },
     "execution_count": 74,
     "metadata": {},
     "output_type": "execute_result"
    }
   ],
   "source": [
    "dt_report = pd.DataFrame(data=classification_report(\n",
    "    y_true=y_test, y_pred= y_pred_dt, output_dict=True))\n",
    "dt_report"
   ]
  },
  {
   "cell_type": "markdown",
   "id": "ec5d6615",
   "metadata": {},
   "source": [
    "##### As mentioned before, these high accuracy figures are \"Accuracy Paradox\", where accuracy measures indicate we have excellent accuracy, but the accuracy is only reflecting the underlying class distribution."
   ]
  },
  {
   "cell_type": "markdown",
   "id": "f1644dd9",
   "metadata": {},
   "source": [
    "### Looking at ROC, AUC & PR Curves"
   ]
  },
  {
   "cell_type": "code",
   "execution_count": 76,
   "id": "9d98c67e",
   "metadata": {},
   "outputs": [],
   "source": [
    "from sklearn.metrics import roc_curve\n",
    "from matplotlib import pyplot"
   ]
  },
  {
   "cell_type": "code",
   "execution_count": 77,
   "id": "ccf2611b",
   "metadata": {},
   "outputs": [
    {
     "data": {
      "image/png": "[encoded data removed]",
      "text/plain": [
       "<Figure size 432x288 with 1 Axes>"
      ]
     },
     "metadata": {
      "needs_background": "light"
     },
     "output_type": "display_data"
    }
   ],
   "source": [
    "yhat = dt_clf.predict_proba(X_test)\n",
    "# retrieve just the probabilities for the positive class\n",
    "pos_probs_dt = yhat[:, 1]\n",
    "# plot no skill roc curve\n",
    "pyplot.plot([0, 1], [0, 1], linestyle='--', label='No Skill')\n",
    "# calculate roc curve for model\n",
    "fpr, tpr, _ = roc_curve(y_test, pos_probs_dt)\n",
    "# plot model roc curve\n",
    "pyplot.plot(fpr, tpr, marker='.', label='DecisionTreeClassifier')\n",
    "# axis labels\n",
    "pyplot.xlabel('False Positive Rate')\n",
    "pyplot.ylabel('True Positive Rate')\n",
    "# show the legend\n",
    "pyplot.legend()\n",
    "# show the plot\n",
    "pyplot.show()"
   ]
  },
  {
   "cell_type": "code",
   "execution_count": 78,
   "id": "d7050a22",
   "metadata": {},
   "outputs": [],
   "source": [
    "from sklearn.metrics import roc_auc_score"
   ]
  },
  {
   "cell_type": "code",
   "execution_count": 79,
   "id": "76a9fb03",
   "metadata": {},
   "outputs": [
    {
     "name": "stdout",
     "output_type": "stream",
     "text": [
      "DecisionTreeClassifier ROC AUC 1.000\n"
     ]
    }
   ],
   "source": [
    "# calculate roc auc\n",
    "roc_auc = roc_auc_score(y_test, pos_probs_dt)\n",
    "\n",
    "print('DecisionTreeClassifier ROC AUC %.3f' % roc_auc)"
   ]
  },
  {
   "cell_type": "markdown",
   "id": "a7cd9b2d",
   "metadata": {},
   "source": [
    "###### For imbalanced classification with a severe skew and few examples of the minority class, the ROC AUC can be misleading. This is because a small number of correct or incorrect predictions can result in a large change in the ROC Curve or ROC AUC score."
   ]
  },
  {
   "cell_type": "markdown",
   "id": "cfcde195",
   "metadata": {},
   "source": [
    "##### Precision and recall make it possible to assess the performance of a classifier on the minority class.\n",
    "##### Precision-recall curves (PR curves) are recommended for highly skewed domains where ROC curves may provide an excessively optimistic view of the performance."
   ]
  },
  {
   "cell_type": "code",
   "execution_count": 80,
   "id": "e3839284",
   "metadata": {},
   "outputs": [],
   "source": [
    "from sklearn.metrics import precision_recall_curve"
   ]
  },
  {
   "cell_type": "code",
   "execution_count": 81,
   "id": "34f605ed",
   "metadata": {},
   "outputs": [
    {
     "data": {
      "image/png": "[encoded data removed]",
      "text/plain": [
       "<Figure size 432x288 with 1 Axes>"
      ]
     },
     "metadata": {
      "needs_background": "light"
     },
     "output_type": "display_data"
    }
   ],
   "source": [
    "no_skill = len(y[y==1]) / len(y)\n",
    "# plot the no skill precision-recall curve\n",
    "pyplot.plot([0, 1], [no_skill, no_skill], linestyle='--', label='No Skill')\n",
    "\n",
    "precision, recall, _ = precision_recall_curve(y_test, pos_probs_dt)\n",
    "# plot the model precision-recall curve\n",
    "pyplot.plot(recall, precision, marker='.', label='DecisionTreeClassifier')\n",
    "# axis labels\n",
    "pyplot.xlabel('Recall')\n",
    "pyplot.ylabel('Precision')\n",
    "# show the legend\n",
    "pyplot.legend()\n",
    "# show the plot\n",
    "pyplot.show()"
   ]
  },
  {
   "cell_type": "code",
   "execution_count": 82,
   "id": "67cf6fb6",
   "metadata": {},
   "outputs": [
    {
     "name": "stdout",
     "output_type": "stream",
     "text": [
      "DecisionTreeClassifier PR AUC: 1.000\n"
     ]
    }
   ],
   "source": [
    "from sklearn.metrics import auc\n",
    "pr_auc_score = auc(recall, precision)\n",
    "print('DecisionTreeClassifier PR AUC: %.3f' % pr_auc_score)"
   ]
  },
  {
   "cell_type": "markdown",
   "id": "6ed03c0a",
   "metadata": {},
   "source": [
    "## Resampleing "
   ]
  },
  {
   "cell_type": "code",
   "execution_count": 99,
   "id": "cca0c3e0",
   "metadata": {},
   "outputs": [],
   "source": [
    "# Importing SMOTE from imblearn lib\n",
    "from imblearn.over_sampling import SMOTE\n",
    "resampled_x, resampled_y = SMOTE(random_state = 40).fit_resample(X,y) # reshaping data"
   ]
  },
  {
   "cell_type": "code",
   "execution_count": 84,
   "id": "fa958e6c",
   "metadata": {},
   "outputs": [],
   "source": [
    "from imblearn.over_sampling import RandomOverSampler"
   ]
  },
  {
   "cell_type": "code",
   "execution_count": null,
   "id": "c877f1c9",
   "metadata": {},
   "outputs": [],
   "source": [
    "# Importing SMOTE from imblearn lib\n",
    "#from imblearn.over_sampling import SMOTE\n",
    "#resampled_x, resampled_y = RandomOverSampler(random_state=42).fit_resample(X,y) # reshaping data"
   ]
  },
  {
   "cell_type": "code",
   "execution_count": 100,
   "id": "bfbcc843",
   "metadata": {},
   "outputs": [
    {
     "name": "stdout",
     "output_type": "stream",
     "text": [
      "Counter({0.0: 912597, 1.0: 912597})\n"
     ]
    }
   ],
   "source": [
    "print(Counter(resampled_y))"
   ]
  },
  {
   "cell_type": "code",
   "execution_count": 101,
   "id": "889d548a",
   "metadata": {},
   "outputs": [],
   "source": [
    "(X_train_rs,X_test_rs,y_train_rs,y_test_rs) = train_test_split(resampled_x, resampled_y, test_size = 0.3, random_state = 42)"
   ]
  },
  {
   "cell_type": "code",
   "execution_count": 102,
   "id": "7e321a68",
   "metadata": {},
   "outputs": [
    {
     "name": "stdout",
     "output_type": "stream",
     "text": [
      "Counter({1.0: 638985, 0.0: 638650}) Counter({0.0: 273947, 1.0: 273612})\n"
     ]
    }
   ],
   "source": [
    "print(Counter(y_train_rs), Counter(y_test_rs))"
   ]
  },
  {
   "cell_type": "code",
   "execution_count": 103,
   "id": "83daae55",
   "metadata": {
    "scrolled": true
   },
   "outputs": [
    {
     "data": {
      "text/html": [
       "<style>#sk-container-id-3 {color: black;background-color: white;}#sk-container-id-3 pre{padding: 0;}#sk-container-id-3 div.sk-toggleable {background-color: white;}#sk-container-id-3 label.sk-toggleable__label {cursor: pointer;display: block;width: 100%;margin-bottom: 0;padding: 0.3em;box-sizing: border-box;text-align: center;}#sk-container-id-3 label.sk-toggleable__label-arrow:before {content: \"▸\";float: left;margin-right: 0.25em;color: #696969;}#sk-container-id-3 label.sk-toggleable__label-arrow:hover:before {color: black;}#sk-container-id-3 div.sk-estimator:hover label.sk-toggleable__label-arrow:before {color: black;}#sk-container-id-3 div.sk-toggleable__content {max-height: 0;max-width: 0;overflow: hidden;text-align: left;background-color: #f0f8ff;}#sk-container-id-3 div.sk-toggleable__content pre {margin: 0.2em;color: black;border-radius: 0.25em;background-color: #f0f8ff;}#sk-container-id-3 input.sk-toggleable__control:checked~div.sk-toggleable__content {max-height: 200px;max-width: 100%;overflow: auto;}#sk-container-id-3 input.sk-toggleable__control:checked~label.sk-toggleable__label-arrow:before {content: \"▾\";}#sk-container-id-3 div.sk-estimator input.sk-toggleable__control:checked~label.sk-toggleable__label {background-color: #d4ebff;}#sk-container-id-3 div.sk-label input.sk-toggleable__control:checked~label.sk-toggleable__label {background-color: #d4ebff;}#sk-container-id-3 input.sk-hidden--visually {border: 0;clip: rect(1px 1px 1px 1px);clip: rect(1px, 1px, 1px, 1px);height: 1px;margin: -1px;overflow: hidden;padding: 0;position: absolute;width: 1px;}#sk-container-id-3 div.sk-estimator {font-family: monospace;background-color: #f0f8ff;border: 1px dotted black;border-radius: 0.25em;box-sizing: border-box;margin-bottom: 0.5em;}#sk-container-id-3 div.sk-estimator:hover {background-color: #d4ebff;}#sk-container-id-3 div.sk-parallel-item::after {content: \"\";width: 100%;border-bottom: 1px solid gray;flex-grow: 1;}#sk-container-id-3 div.sk-label:hover label.sk-toggleable__label {background-color: #d4ebff;}#sk-container-id-3 div.sk-serial::before {content: \"\";position: absolute;border-left: 1px solid gray;box-sizing: border-box;top: 0;bottom: 0;left: 50%;z-index: 0;}#sk-container-id-3 div.sk-serial {display: flex;flex-direction: column;align-items: center;background-color: white;padding-right: 0.2em;padding-left: 0.2em;position: relative;}#sk-container-id-3 div.sk-item {position: relative;z-index: 1;}#sk-container-id-3 div.sk-parallel {display: flex;align-items: stretch;justify-content: center;background-color: white;position: relative;}#sk-container-id-3 div.sk-item::before, #sk-container-id-3 div.sk-parallel-item::before {content: \"\";position: absolute;border-left: 1px solid gray;box-sizing: border-box;top: 0;bottom: 0;left: 50%;z-index: -1;}#sk-container-id-3 div.sk-parallel-item {display: flex;flex-direction: column;z-index: 1;position: relative;background-color: white;}#sk-container-id-3 div.sk-parallel-item:first-child::after {align-self: flex-end;width: 50%;}#sk-container-id-3 div.sk-parallel-item:last-child::after {align-self: flex-start;width: 50%;}#sk-container-id-3 div.sk-parallel-item:only-child::after {width: 0;}#sk-container-id-3 div.sk-dashed-wrapped {border: 1px dashed gray;margin: 0 0.4em 0.5em 0.4em;box-sizing: border-box;padding-bottom: 0.4em;background-color: white;}#sk-container-id-3 div.sk-label label {font-family: monospace;font-weight: bold;display: inline-block;line-height: 1.2em;}#sk-container-id-3 div.sk-label-container {text-align: center;}#sk-container-id-3 div.sk-container {/* jupyter's `normalize.less` sets `[hidden] { display: none; }` but bootstrap.min.css set `[hidden] { display: none !important; }` so we also need the `!important` here to be able to override the default hidden behavior on the sphinx rendered scikit-learn.org. See: https://github.com/scikit-learn/scikit-learn/issues/21755 */display: inline-block !important;position: relative;}#sk-container-id-3 div.sk-text-repr-fallback {display: none;}</style><div id=\"sk-container-id-3\" class=\"sk-top-container\"><div class=\"sk-text-repr-fallback\"><pre>DecisionTreeClassifier(random_state=20)</pre><b>In a Jupyter environment, please rerun this cell to show the HTML representation or trust the notebook. <br />On GitHub, the HTML representation is unable to render, please try loading this page with nbviewer.org.</b></div><div class=\"sk-container\" hidden><div class=\"sk-item\"><div class=\"sk-estimator sk-toggleable\"><input class=\"sk-toggleable__control sk-hidden--visually\" id=\"sk-estimator-id-3\" type=\"checkbox\" checked><label for=\"sk-estimator-id-3\" class=\"sk-toggleable__label sk-toggleable__label-arrow\">DecisionTreeClassifier</label><div class=\"sk-toggleable__content\"><pre>DecisionTreeClassifier(random_state=20)</pre></div></div></div></div></div>"
      ],
      "text/plain": [
       "DecisionTreeClassifier(random_state=20)"
      ]
     },
     "execution_count": 103,
     "metadata": {},
     "output_type": "execute_result"
    }
   ],
   "source": [
    "dt_clf.fit(X_train_rs, y_train_rs)"
   ]
  },
  {
   "cell_type": "code",
   "execution_count": 104,
   "id": "879b2dc5",
   "metadata": {},
   "outputs": [],
   "source": [
    "# Make predictions using the model on both train and test splits\n",
    "y_pred_dt_rs = dt_clf.predict(X_test_rs)"
   ]
  },
  {
   "cell_type": "code",
   "execution_count": 105,
   "id": "e2fc9142",
   "metadata": {},
   "outputs": [
    {
     "data": {
      "text/plain": [
       "99.9974"
      ]
     },
     "execution_count": 105,
     "metadata": {},
     "output_type": "execute_result"
    }
   ],
   "source": [
    "dt_clf_score = round(dt_clf.score(X_test_rs,y_test_rs) * 100, 4)\n",
    "dt_clf_score"
   ]
  },
  {
   "cell_type": "code",
   "execution_count": 106,
   "id": "63656c5d",
   "metadata": {},
   "outputs": [
    {
     "data": {
      "text/html": [
       "<div>\n",
       "<style scoped>\n",
       "    .dataframe tbody tr th:only-of-type {\n",
       "        vertical-align: middle;\n",
       "    }\n",
       "\n",
       "    .dataframe tbody tr th {\n",
       "        vertical-align: top;\n",
       "    }\n",
       "\n",
       "    .dataframe thead th {\n",
       "        text-align: right;\n",
       "    }\n",
       "</style>\n",
       "<table border=\"1\" class=\"dataframe\">\n",
       "  <thead>\n",
       "    <tr style=\"text-align: right;\">\n",
       "      <th>col_0</th>\n",
       "      <th>0.0</th>\n",
       "      <th>1.0</th>\n",
       "    </tr>\n",
       "    <tr>\n",
       "      <th>fraud</th>\n",
       "      <th></th>\n",
       "      <th></th>\n",
       "    </tr>\n",
       "  </thead>\n",
       "  <tbody>\n",
       "    <tr>\n",
       "      <th>0.0</th>\n",
       "      <td>273943</td>\n",
       "      <td>4</td>\n",
       "    </tr>\n",
       "    <tr>\n",
       "      <th>1.0</th>\n",
       "      <td>10</td>\n",
       "      <td>273602</td>\n",
       "    </tr>\n",
       "  </tbody>\n",
       "</table>\n",
       "</div>"
      ],
      "text/plain": [
       "col_0     0.0     1.0\n",
       "fraud                \n",
       "0.0    273943       4\n",
       "1.0        10  273602"
      ]
     },
     "execution_count": 106,
     "metadata": {},
     "output_type": "execute_result"
    }
   ],
   "source": [
    "pd.crosstab(y_test_rs,y_pred_dt_rs)"
   ]
  },
  {
   "cell_type": "code",
   "execution_count": 107,
   "id": "2cf521ed",
   "metadata": {},
   "outputs": [
    {
     "name": "stdout",
     "output_type": "stream",
     "text": [
      "Decision Tree Performance:  99.9974\n"
     ]
    }
   ],
   "source": [
    "print('Decision Tree Performance: ', dt_clf_score)"
   ]
  },
  {
   "cell_type": "code",
   "execution_count": 108,
   "id": "54f5365c",
   "metadata": {},
   "outputs": [
    {
     "data": {
      "text/plain": [
       "100.0"
      ]
     },
     "execution_count": 108,
     "metadata": {},
     "output_type": "execute_result"
    }
   ],
   "source": [
    "dt_clf_score_tr = round(dt_clf.score(X_train_rs, y_train_rs) * 100, 4)\n",
    "dt_clf_score_tr "
   ]
  },
  {
   "cell_type": "markdown",
   "id": "71ef0838",
   "metadata": {},
   "source": [
    "##### This high accuracy is an \"Accuracy Paradox\", where accuracy measures indicate we have excellent accuracy, but the accuracy is only reflecting the underlying class distribution."
   ]
  },
  {
   "cell_type": "markdown",
   "id": "97a9efd3",
   "metadata": {},
   "source": [
    "###  Decision Tree Performance¶"
   ]
  },
  {
   "cell_type": "code",
   "execution_count": null,
   "id": "0201195f",
   "metadata": {},
   "outputs": [],
   "source": [
    "from sklearn.metrics import confusion_matrix, ConfusionMatrixDisplay, classification_report"
   ]
  },
  {
   "cell_type": "code",
   "execution_count": 109,
   "id": "5dab843f",
   "metadata": {},
   "outputs": [
    {
     "data": {
      "image/png": "[encoded data removed]",
      "text/plain": [
       "<Figure size 432x288 with 1 Axes>"
      ]
     },
     "metadata": {
      "needs_background": "light"
     },
     "output_type": "display_data"
    }
   ],
   "source": [
    "cm = confusion_matrix(y_true = y_test_rs, y_pred=y_pred_dt_rs)\n",
    "ConfusionMatrixDisplay(cm).plot(cmap='Blues', colorbar=False)\n",
    "plt.title('DecisionTreeClassifier Confusion Matrix')\n",
    "plt.show()"
   ]
  },
  {
   "cell_type": "code",
   "execution_count": 110,
   "id": "e3f5f802",
   "metadata": {
    "scrolled": false
   },
   "outputs": [
    {
     "data": {
      "text/html": [
       "<div>\n",
       "<style scoped>\n",
       "    .dataframe tbody tr th:only-of-type {\n",
       "        vertical-align: middle;\n",
       "    }\n",
       "\n",
       "    .dataframe tbody tr th {\n",
       "        vertical-align: top;\n",
       "    }\n",
       "\n",
       "    .dataframe thead th {\n",
       "        text-align: right;\n",
       "    }\n",
       "</style>\n",
       "<table border=\"1\" class=\"dataframe\">\n",
       "  <thead>\n",
       "    <tr style=\"text-align: right;\">\n",
       "      <th></th>\n",
       "      <th>0.0</th>\n",
       "      <th>1.0</th>\n",
       "      <th>accuracy</th>\n",
       "      <th>macro avg</th>\n",
       "      <th>weighted avg</th>\n",
       "    </tr>\n",
       "  </thead>\n",
       "  <tbody>\n",
       "    <tr>\n",
       "      <th>precision</th>\n",
       "      <td>0.999963</td>\n",
       "      <td>0.999985</td>\n",
       "      <td>0.999974</td>\n",
       "      <td>0.999974</td>\n",
       "      <td>0.999974</td>\n",
       "    </tr>\n",
       "    <tr>\n",
       "      <th>recall</th>\n",
       "      <td>0.999985</td>\n",
       "      <td>0.999963</td>\n",
       "      <td>0.999974</td>\n",
       "      <td>0.999974</td>\n",
       "      <td>0.999974</td>\n",
       "    </tr>\n",
       "    <tr>\n",
       "      <th>f1-score</th>\n",
       "      <td>0.999974</td>\n",
       "      <td>0.999974</td>\n",
       "      <td>0.999974</td>\n",
       "      <td>0.999974</td>\n",
       "      <td>0.999974</td>\n",
       "    </tr>\n",
       "    <tr>\n",
       "      <th>support</th>\n",
       "      <td>273947.000000</td>\n",
       "      <td>273612.000000</td>\n",
       "      <td>0.999974</td>\n",
       "      <td>547559.000000</td>\n",
       "      <td>547559.000000</td>\n",
       "    </tr>\n",
       "  </tbody>\n",
       "</table>\n",
       "</div>"
      ],
      "text/plain": [
       "                     0.0            1.0  accuracy      macro avg  \\\n",
       "precision       0.999963       0.999985  0.999974       0.999974   \n",
       "recall          0.999985       0.999963  0.999974       0.999974   \n",
       "f1-score        0.999974       0.999974  0.999974       0.999974   \n",
       "support    273947.000000  273612.000000  0.999974  547559.000000   \n",
       "\n",
       "            weighted avg  \n",
       "precision       0.999974  \n",
       "recall          0.999974  \n",
       "f1-score        0.999974  \n",
       "support    547559.000000  "
      ]
     },
     "execution_count": 110,
     "metadata": {},
     "output_type": "execute_result"
    }
   ],
   "source": [
    "dt_report_rs = pd.DataFrame(data=classification_report(\n",
    "    y_true=y_test_rs, y_pred= y_pred_dt_rs, output_dict=True))\n",
    "dt_report_rs"
   ]
  },
  {
   "cell_type": "markdown",
   "id": "0c1e9e2f",
   "metadata": {},
   "source": [
    "##### As mentioned before, these high accuracy figures are \"Accuracy Paradox\", where accuracy measures indicate we have excellent accuracy, but the accuracy is only reflecting the underlying class distribution."
   ]
  },
  {
   "cell_type": "code",
   "execution_count": 111,
   "id": "d67f2042",
   "metadata": {},
   "outputs": [],
   "source": [
    "from sklearn.metrics import roc_curve\n",
    "from matplotlib import pyplot"
   ]
  },
  {
   "cell_type": "code",
   "execution_count": 112,
   "id": "66ffafb3",
   "metadata": {},
   "outputs": [
    {
     "data": {
      "image/png": "[encoded data removed]",
      "text/plain": [
       "<Figure size 432x288 with 1 Axes>"
      ]
     },
     "metadata": {
      "needs_background": "light"
     },
     "output_type": "display_data"
    }
   ],
   "source": [
    "yhat_rs = dt_clf.predict_proba(X_test_rs)\n",
    "# retrieve just the probabilities for the positive class\n",
    "pos_probs_dt_rs = yhat_rs[:, 1]\n",
    "# plot no skill roc curve\n",
    "pyplot.plot([0, 1], [0, 1], linestyle='--', label='No Skill')\n",
    "# calculate roc curve for model\n",
    "fpr_rs, tpr_rs, _ = roc_curve(y_test_rs, pos_probs_dt_rs)\n",
    "# plot model roc curve\n",
    "pyplot.plot(fpr, tpr, marker='.', label='DecisionTreeClassifier')\n",
    "# axis labels\n",
    "pyplot.xlabel('False Positive Rate')\n",
    "pyplot.ylabel('True Positive Rate')\n",
    "# show the legend\n",
    "pyplot.legend()\n",
    "# show the plot\n",
    "pyplot.show()"
   ]
  },
  {
   "cell_type": "code",
   "execution_count": 113,
   "id": "a494b49e",
   "metadata": {},
   "outputs": [],
   "source": [
    "from sklearn.metrics import roc_auc_score"
   ]
  },
  {
   "cell_type": "code",
   "execution_count": 114,
   "id": "5eb063c8",
   "metadata": {},
   "outputs": [
    {
     "name": "stdout",
     "output_type": "stream",
     "text": [
      "DecisionTreeClassifier ROC AUC 1.000\n"
     ]
    }
   ],
   "source": [
    "# calculate roc auc\n",
    "roc_auc_rs = roc_auc_score(y_test_rs, pos_probs_dt_rs)\n",
    "\n",
    "print('DecisionTreeClassifier ROC AUC %.3f' % roc_auc_rs)"
   ]
  },
  {
   "cell_type": "code",
   "execution_count": 115,
   "id": "57069198",
   "metadata": {},
   "outputs": [],
   "source": [
    "from sklearn.metrics import precision_recall_curve"
   ]
  },
  {
   "cell_type": "code",
   "execution_count": 116,
   "id": "7f5dfa53",
   "metadata": {},
   "outputs": [
    {
     "data": {
      "image/png": "[encoded data removed]",
      "text/plain": [
       "<Figure size 432x288 with 1 Axes>"
      ]
     },
     "metadata": {
      "needs_background": "light"
     },
     "output_type": "display_data"
    }
   ],
   "source": [
    "no_skill = len(y[y==1]) / len(y)\n",
    "# plot the no skill precision-recall curve\n",
    "pyplot.plot([0, 1], [no_skill, no_skill], linestyle='--', label='No Skill')\n",
    "\n",
    "precision_rs, recall_rs, _ = precision_recall_curve(y_test_rs, pos_probs_dt_rs)\n",
    "# plot the model precision-recall curve\n",
    "pyplot.plot(recall_rs, precision_rs, marker='.', label='DecisionTreeClassifier')\n",
    "# axis labels\n",
    "pyplot.xlabel('Recall')\n",
    "pyplot.ylabel('Precision')\n",
    "# show the legend\n",
    "pyplot.legend()\n",
    "# show the plot\n",
    "pyplot.show()"
   ]
  },
  {
   "cell_type": "code",
   "execution_count": 117,
   "id": "df3e2202",
   "metadata": {},
   "outputs": [
    {
     "name": "stdout",
     "output_type": "stream",
     "text": [
      "DecisionTreeClassifier PR AUC: 1.000\n"
     ]
    }
   ],
   "source": [
    "from sklearn.metrics import auc\n",
    "pr_auc_score_rs = auc(recall_rs, precision_rs)\n",
    "print('DecisionTreeClassifier PR AUC: %.3f' % pr_auc_score)"
   ]
  },
  {
   "cell_type": "markdown",
   "id": "afbf65ac",
   "metadata": {},
   "source": [
    "### Feature Importance "
   ]
  },
  {
   "cell_type": "code",
   "execution_count": 118,
   "id": "cce9a280",
   "metadata": {},
   "outputs": [
    {
     "data": {
      "text/plain": [
       "array([0.25991854, 0.10353261, 0.51138306, 0.01829076, 0.02472566,\n",
       "       0.01953904, 0.06261033])"
      ]
     },
     "execution_count": 118,
     "metadata": {},
     "output_type": "execute_result"
    }
   ],
   "source": [
    "dt_importances = dt_clf.feature_importances_\n",
    "dt_importances"
   ]
  },
  {
   "cell_type": "code",
   "execution_count": 119,
   "id": "39438b97",
   "metadata": {},
   "outputs": [
    {
     "name": "stdout",
     "output_type": "stream",
     "text": [
      "Mean features importance\n",
      "ratio_to_median_purchase_price: 0.5114\n",
      "distance_from_home: 0.2599\n",
      "distance_from_last_transaction: 0.1035\n",
      "online_order: 0.0626\n",
      "used_chip: 0.0247\n",
      "used_pin_number: 0.0195\n",
      "repeat_retailer: 0.0183\n"
     ]
    }
   ],
   "source": [
    "dt_clf_importances = pd.Series(dt_importances, index=X_train.columns).sort_values(ascending=False)\n",
    "print('Mean features importance')\n",
    "for feature in dt_clf_importances.index:\n",
    "    print(feature +': '+ str(round(dt_clf_importances[feature],4)))"
   ]
  },
  {
   "cell_type": "code",
   "execution_count": 120,
   "id": "2dc04b9c",
   "metadata": {},
   "outputs": [
    {
     "data": {
      "image/png": "[encoded data removed]",
      "text/plain": [
       "<Figure size 432x288 with 1 Axes>"
      ]
     },
     "metadata": {
      "needs_background": "light"
     },
     "output_type": "display_data"
    }
   ],
   "source": [
    "fig, ax = plt.subplots()\n",
    "dt_clf_importances.plot.bar(ax=ax)\n",
    "ax.set_title(\"Feature importances using MDI\") #Minimum decrease in impurity\n",
    "ax.set_ylabel(\"Mean decrease in impurity\")\n",
    "plt.show()\n",
    "fig.tight_layout()"
   ]
  },
  {
   "cell_type": "markdown",
   "id": "45a234e9",
   "metadata": {},
   "source": [
    "## 2) Random Forest"
   ]
  },
  {
   "cell_type": "code",
   "execution_count": 121,
   "id": "034ba48a",
   "metadata": {},
   "outputs": [],
   "source": [
    "rf_clf = RandomForestClassifier(random_state= 40)"
   ]
  },
  {
   "cell_type": "code",
   "execution_count": 122,
   "id": "b71c861a",
   "metadata": {},
   "outputs": [
    {
     "data": {
      "text/html": [
       "<style>#sk-container-id-4 {color: black;background-color: white;}#sk-container-id-4 pre{padding: 0;}#sk-container-id-4 div.sk-toggleable {background-color: white;}#sk-container-id-4 label.sk-toggleable__label {cursor: pointer;display: block;width: 100%;margin-bottom: 0;padding: 0.3em;box-sizing: border-box;text-align: center;}#sk-container-id-4 label.sk-toggleable__label-arrow:before {content: \"▸\";float: left;margin-right: 0.25em;color: #696969;}#sk-container-id-4 label.sk-toggleable__label-arrow:hover:before {color: black;}#sk-container-id-4 div.sk-estimator:hover label.sk-toggleable__label-arrow:before {color: black;}#sk-container-id-4 div.sk-toggleable__content {max-height: 0;max-width: 0;overflow: hidden;text-align: left;background-color: #f0f8ff;}#sk-container-id-4 div.sk-toggleable__content pre {margin: 0.2em;color: black;border-radius: 0.25em;background-color: #f0f8ff;}#sk-container-id-4 input.sk-toggleable__control:checked~div.sk-toggleable__content {max-height: 200px;max-width: 100%;overflow: auto;}#sk-container-id-4 input.sk-toggleable__control:checked~label.sk-toggleable__label-arrow:before {content: \"▾\";}#sk-container-id-4 div.sk-estimator input.sk-toggleable__control:checked~label.sk-toggleable__label {background-color: #d4ebff;}#sk-container-id-4 div.sk-label input.sk-toggleable__control:checked~label.sk-toggleable__label {background-color: #d4ebff;}#sk-container-id-4 input.sk-hidden--visually {border: 0;clip: rect(1px 1px 1px 1px);clip: rect(1px, 1px, 1px, 1px);height: 1px;margin: -1px;overflow: hidden;padding: 0;position: absolute;width: 1px;}#sk-container-id-4 div.sk-estimator {font-family: monospace;background-color: #f0f8ff;border: 1px dotted black;border-radius: 0.25em;box-sizing: border-box;margin-bottom: 0.5em;}#sk-container-id-4 div.sk-estimator:hover {background-color: #d4ebff;}#sk-container-id-4 div.sk-parallel-item::after {content: \"\";width: 100%;border-bottom: 1px solid gray;flex-grow: 1;}#sk-container-id-4 div.sk-label:hover label.sk-toggleable__label {background-color: #d4ebff;}#sk-container-id-4 div.sk-serial::before {content: \"\";position: absolute;border-left: 1px solid gray;box-sizing: border-box;top: 0;bottom: 0;left: 50%;z-index: 0;}#sk-container-id-4 div.sk-serial {display: flex;flex-direction: column;align-items: center;background-color: white;padding-right: 0.2em;padding-left: 0.2em;position: relative;}#sk-container-id-4 div.sk-item {position: relative;z-index: 1;}#sk-container-id-4 div.sk-parallel {display: flex;align-items: stretch;justify-content: center;background-color: white;position: relative;}#sk-container-id-4 div.sk-item::before, #sk-container-id-4 div.sk-parallel-item::before {content: \"\";position: absolute;border-left: 1px solid gray;box-sizing: border-box;top: 0;bottom: 0;left: 50%;z-index: -1;}#sk-container-id-4 div.sk-parallel-item {display: flex;flex-direction: column;z-index: 1;position: relative;background-color: white;}#sk-container-id-4 div.sk-parallel-item:first-child::after {align-self: flex-end;width: 50%;}#sk-container-id-4 div.sk-parallel-item:last-child::after {align-self: flex-start;width: 50%;}#sk-container-id-4 div.sk-parallel-item:only-child::after {width: 0;}#sk-container-id-4 div.sk-dashed-wrapped {border: 1px dashed gray;margin: 0 0.4em 0.5em 0.4em;box-sizing: border-box;padding-bottom: 0.4em;background-color: white;}#sk-container-id-4 div.sk-label label {font-family: monospace;font-weight: bold;display: inline-block;line-height: 1.2em;}#sk-container-id-4 div.sk-label-container {text-align: center;}#sk-container-id-4 div.sk-container {/* jupyter's `normalize.less` sets `[hidden] { display: none; }` but bootstrap.min.css set `[hidden] { display: none !important; }` so we also need the `!important` here to be able to override the default hidden behavior on the sphinx rendered scikit-learn.org. See: https://github.com/scikit-learn/scikit-learn/issues/21755 */display: inline-block !important;position: relative;}#sk-container-id-4 div.sk-text-repr-fallback {display: none;}</style><div id=\"sk-container-id-4\" class=\"sk-top-container\"><div class=\"sk-text-repr-fallback\"><pre>RandomForestClassifier(random_state=40)</pre><b>In a Jupyter environment, please rerun this cell to show the HTML representation or trust the notebook. <br />On GitHub, the HTML representation is unable to render, please try loading this page with nbviewer.org.</b></div><div class=\"sk-container\" hidden><div class=\"sk-item\"><div class=\"sk-estimator sk-toggleable\"><input class=\"sk-toggleable__control sk-hidden--visually\" id=\"sk-estimator-id-4\" type=\"checkbox\" checked><label for=\"sk-estimator-id-4\" class=\"sk-toggleable__label sk-toggleable__label-arrow\">RandomForestClassifier</label><div class=\"sk-toggleable__content\"><pre>RandomForestClassifier(random_state=40)</pre></div></div></div></div></div>"
      ],
      "text/plain": [
       "RandomForestClassifier(random_state=40)"
      ]
     },
     "execution_count": 122,
     "metadata": {},
     "output_type": "execute_result"
    }
   ],
   "source": [
    "#rf_clf.fit(X_train, y_train)\n",
    "\n",
    "rf_clf.fit(X_train, y_train)"
   ]
  },
  {
   "cell_type": "code",
   "execution_count": 124,
   "id": "a11ff677",
   "metadata": {},
   "outputs": [],
   "source": [
    "# Make predictions using the model on both train and test splits\n",
    "y_pred_rf = rf_clf.predict(X_test)"
   ]
  },
  {
   "cell_type": "code",
   "execution_count": 125,
   "id": "55b3ad11",
   "metadata": {},
   "outputs": [
    {
     "data": {
      "text/plain": [
       "99.9988"
      ]
     },
     "execution_count": 125,
     "metadata": {},
     "output_type": "execute_result"
    }
   ],
   "source": [
    "rf_clf_score = round(rf_clf.score(X_test,y_test) * 100, 4)\n",
    "rf_clf_score"
   ]
  },
  {
   "cell_type": "code",
   "execution_count": null,
   "id": "13c2fd29",
   "metadata": {},
   "outputs": [],
   "source": [
    "rf_clf.get_params(deep=True)"
   ]
  },
  {
   "cell_type": "code",
   "execution_count": 126,
   "id": "8377d6db",
   "metadata": {},
   "outputs": [],
   "source": [
    "# Make predictions using the model on both train and test splits\n",
    "# rf_y_train_pred= rf_clf.predict(X_train)\n",
    "rf_y_test_pred = rf_clf.predict(X_test)"
   ]
  },
  {
   "cell_type": "code",
   "execution_count": 127,
   "id": "69844ae4",
   "metadata": {},
   "outputs": [],
   "source": [
    "rf_clf_score = round(rf_clf.score(X_test,y_test) * 100, 2)"
   ]
  },
  {
   "cell_type": "code",
   "execution_count": 128,
   "id": "a44c3fd2",
   "metadata": {},
   "outputs": [
    {
     "name": "stdout",
     "output_type": "stream",
     "text": [
      "Random Forest Performance:  100.0\n"
     ]
    }
   ],
   "source": [
    "print('Random Forest Performance: ', rf_clf_score)"
   ]
  },
  {
   "cell_type": "markdown",
   "id": "df8c227e",
   "metadata": {},
   "source": [
    "### Random Forest Performance "
   ]
  },
  {
   "cell_type": "code",
   "execution_count": null,
   "id": "d42b596b",
   "metadata": {
    "scrolled": true
   },
   "outputs": [],
   "source": [
    "cm = confusion_matrix(y_true = y_test, y_pred=rf_y_test_pred)\n",
    "ConfusionMatrixDisplay(cm).plot(cmap='Blues', colorbar=False)\n",
    "plt.title('RF Confusion Matrix')\n",
    "plt.show()"
   ]
  },
  {
   "cell_type": "code",
   "execution_count": null,
   "id": "2be09e41",
   "metadata": {},
   "outputs": [],
   "source": [
    "rf_report = pd.DataFrame(data = classification_report(\n",
    "    y_true=y_test, y_pred= rf_y_test_pred, output_dict=True))\n",
    "rf_report"
   ]
  },
  {
   "cell_type": "markdown",
   "id": "310d893d",
   "metadata": {},
   "source": [
    "### Feature Importance "
   ]
  },
  {
   "cell_type": "markdown",
   "id": "544d28e9",
   "metadata": {},
   "source": [
    "###### Feature importances are provided by the fitted attribute feature_importances_ and they are computed as the mean and standard deviation of accumulation of the impurity decrease within each tree."
   ]
  },
  {
   "cell_type": "code",
   "execution_count": 129,
   "id": "f50c8da4",
   "metadata": {},
   "outputs": [
    {
     "name": "stdout",
     "output_type": "stream",
     "text": [
      "Mean features importance\n",
      "ratio_to_median_purchase_price: 0.5344\n",
      "online_order: 0.1653\n",
      "distance_from_home: 0.1251\n",
      "used_chip: 0.0637\n",
      "used_pin_number: 0.0601\n",
      "distance_from_last_transaction: 0.0443\n",
      "repeat_retailer: 0.007\n"
     ]
    }
   ],
   "source": [
    "rf_importances = rf_clf.feature_importances_\n",
    "std = np.std([tree.feature_importances_ for tree in rf_clf.estimators_], axis=0)\n",
    "rf_clf_importances = pd.Series(rf_importances, index=X_train.columns).sort_values(ascending=False)\n",
    "\n",
    "print('Mean features importance')\n",
    "for feature in rf_clf_importances.index:\n",
    "    print(feature+': '+str(round(rf_clf_importances[feature],4)))"
   ]
  },
  {
   "cell_type": "code",
   "execution_count": 130,
   "id": "07329029",
   "metadata": {},
   "outputs": [
    {
     "data": {
      "image/png": "[encoded data removed]",
      "text/plain": [
       "<Figure size 432x288 with 1 Axes>"
      ]
     },
     "metadata": {
      "needs_background": "light"
     },
     "output_type": "display_data"
    }
   ],
   "source": [
    "fig, ax = plt.subplots()\n",
    "rf_clf_importances.plot.bar(yerr=std, ax=ax)\n",
    "ax.set_title(\"Feature importances using MDI\") #Minimum decrease in impurity\n",
    "ax.set_ylabel(\"Mean decrease in impurity\")\n",
    "plt.show()"
   ]
  },
  {
   "cell_type": "code",
   "execution_count": null,
   "id": "00904a2f",
   "metadata": {},
   "outputs": [],
   "source": [
    "from sklearn import tree\n",
    "import graphviz\n",
    "\n",
    "base_tree = rf_clf.base_estimator_\n",
    "base_tree.fit(X_train,y_train)\n",
    "\n",
    "dot_data = tree.export_graphviz(base_tree, out_file=None)\n",
    "graph = graphviz.Source(dot_data) \n",
    "\n",
    "\n",
    "dot_data = tree.export_graphviz(base_tree, out_file=None, \n",
    "                                feature_names=X_train.columns,  \n",
    "                                class_names=y_train.name,  \n",
    "                                filled=True, rounded=True,  \n",
    "                                special_characters=True)\n",
    "graph = graphviz.Source(dot_data)\n",
    "graph"
   ]
  },
  {
   "cell_type": "markdown",
   "id": "b4ad7fd1",
   "metadata": {},
   "source": [
    "# Oversampling with SMOTE"
   ]
  },
  {
   "cell_type": "markdown",
   "id": "aba3641b",
   "metadata": {},
   "source": [
    "### To help with the the accucary score and the data imbalance"
   ]
  },
  {
   "cell_type": "code",
   "execution_count": null,
   "id": "4a4c89b5",
   "metadata": {},
   "outputs": [],
   "source": [
    "# Importing SMOTE from imblearn lib\n",
    "from imblearn.over_sampling import SMOTE\n",
    "resampled_x, resampled_y = SMOTE().fit_resample(X,y) # reshaping data"
   ]
  },
  {
   "cell_type": "code",
   "execution_count": null,
   "id": "7386c2f5",
   "metadata": {},
   "outputs": [],
   "source": [
    "print('X New Shape: ', resampled_x.shape)\n",
    "print('y New Shape: ', resampled_y.shape)"
   ]
  },
  {
   "cell_type": "code",
   "execution_count": null,
   "id": "99c70bf4",
   "metadata": {},
   "outputs": [],
   "source": [
    "# Splitting our resampled data\n",
    "(train_x,test_x,train_y,test_y) = train_test_split(resampled_x, resampled_y, test_size = 0.3, random_state = 42)"
   ]
  },
  {
   "cell_type": "code",
   "execution_count": null,
   "id": "e9d6c39d",
   "metadata": {},
   "outputs": [],
   "source": [
    "train_x_scaled = scaler.fit_transform(train_x)\n",
    "test_x_scaled = scaler.transform(test_x)"
   ]
  },
  {
   "cell_type": "code",
   "execution_count": null,
   "id": "908a1d30",
   "metadata": {
    "scrolled": true
   },
   "outputs": [],
   "source": [
    "resampled_random_forest = RandomForestClassifier(random_state= 40)\n",
    "resampled_random_forest.fit(train_x,train_y)"
   ]
  },
  {
   "cell_type": "code",
   "execution_count": null,
   "id": "8bcb2be9",
   "metadata": {},
   "outputs": [],
   "source": [
    "predictions_resampled = resampled_random_forest.predict(test_x)\n",
    "rf_new_score = round(resampled_random_forest.score(test_x,test_y) * 100, 4)\n",
    "print('Performance: ', rf_new_score)"
   ]
  },
  {
   "cell_type": "code",
   "execution_count": null,
   "id": "9b1e0bdc",
   "metadata": {},
   "outputs": [],
   "source": [
    "metrics_random_forest_resampled = [['Accuracy',(accuracy_score(test_y, predictions_resampled))],\n",
    "                         ['Precision',precision_score(test_y, predictions_resampled)],\n",
    "                         ['Recall', recall_score(test_y, predictions_resampled)],\n",
    "                         ['F1_score',f1_score(test_y, predictions_resampled)]]\n",
    "metric_values_random_forest_resampled = pd.DataFrame(metrics_random_forest_resampled, columns = ['Metrics', 'Results'])\n",
    "metric_values_random_forest_resampled"
   ]
  },
  {
   "cell_type": "markdown",
   "id": "5874a24a",
   "metadata": {},
   "source": [
    "At this stage, we have to look at the following \n",
    "\n",
    "\n",
    "    ROC Curves and ROC AUC\n",
    "    Precision-Recall Curves and AUC\n",
    "    ROC and Precision-Recall Curves With a Severe Imbalance"
   ]
  },
  {
   "cell_type": "code",
   "execution_count": null,
   "id": "8dd216ae",
   "metadata": {},
   "outputs": [],
   "source": []
  },
  {
   "cell_type": "code",
   "execution_count": 131,
   "id": "2fcd3b81",
   "metadata": {},
   "outputs": [
    {
     "data": {
      "image/png": "[encoded data removed]",
      "text/plain": [
       "<Figure size 432x288 with 1 Axes>"
      ]
     },
     "metadata": {
      "needs_background": "light"
     },
     "output_type": "display_data"
    }
   ],
   "source": [
    "yhat_rf = rf_clf.predict_proba(X_test)\n",
    "# retrieve just the probabilities for the positive class\n",
    "pos_probs_rf = yhat_rf[:, 1]\n",
    "# plot no skill roc curve\n",
    "pyplot.plot([0, 1], [0, 1], linestyle='--', label='No Skill')\n",
    "# calculate roc curve for model\n",
    "fpr_rf, tpr_rf, _ = roc_curve(y_test, pos_probs_rf)\n",
    "# plot model roc curve\n",
    "pyplot.plot(fpr_rf, tpr_rf, marker='.', label='RF Classifier')\n",
    "# axis labels\n",
    "pyplot.xlabel('False Positive Rate')\n",
    "pyplot.ylabel('True Positive Rate')\n",
    "# show the legend\n",
    "pyplot.legend()\n",
    "# show the plot\n",
    "pyplot.show()"
   ]
  },
  {
   "cell_type": "code",
   "execution_count": 132,
   "id": "b4556677",
   "metadata": {},
   "outputs": [],
   "source": [
    "from sklearn.metrics import roc_auc_score"
   ]
  },
  {
   "cell_type": "code",
   "execution_count": 134,
   "id": "226e07ea",
   "metadata": {},
   "outputs": [
    {
     "name": "stdout",
     "output_type": "stream",
     "text": [
      "DecisionTreeClassifier ROC AUC 1.000\n"
     ]
    }
   ],
   "source": [
    "# calculate roc auc\n",
    "roc_auc_rf = roc_auc_score(y_test, pos_probs_rf)\n",
    "\n",
    "print('DecisionTreeClassifier ROC AUC %.3f' % roc_auc_rs)"
   ]
  },
  {
   "cell_type": "code",
   "execution_count": 135,
   "id": "3041ebd1",
   "metadata": {},
   "outputs": [],
   "source": [
    "from sklearn.metrics import precision_recall_curve"
   ]
  },
  {
   "cell_type": "code",
   "execution_count": 136,
   "id": "e29755e8",
   "metadata": {},
   "outputs": [
    {
     "data": {
      "image/png": "[encoded data removed]",
      "text/plain": [
       "<Figure size 432x288 with 1 Axes>"
      ]
     },
     "metadata": {
      "needs_background": "light"
     },
     "output_type": "display_data"
    }
   ],
   "source": [
    "no_skill = len(y[y==1]) / len(y)\n",
    "# plot the no skill precision-recall curve\n",
    "pyplot.plot([0, 1], [no_skill, no_skill], linestyle='--', label='No Skill')\n",
    "\n",
    "precision_rf, recall_rf, _ = precision_recall_curve(y_test, pos_probs_rf)\n",
    "# plot the model precision-recall curve\n",
    "pyplot.plot(recall_rf, precision_rf, marker='.', label='RF Classifier')\n",
    "# axis labels\n",
    "pyplot.xlabel('Recall')\n",
    "pyplot.ylabel('Precision')\n",
    "# show the legend\n",
    "pyplot.legend()\n",
    "# show the plot\n",
    "pyplot.show()"
   ]
  },
  {
   "cell_type": "code",
   "execution_count": 139,
   "id": "f3098d44",
   "metadata": {},
   "outputs": [
    {
     "name": "stdout",
     "output_type": "stream",
     "text": [
      "RF Classifier PR AUC: 1.000\n"
     ]
    }
   ],
   "source": [
    "from sklearn.metrics import auc\n",
    "pr_auc_score_rs = auc(recall_rf, precision_rf)\n",
    "print('RF Classifier PR AUC: %.3f' % pr_auc_score)"
   ]
  }
 ],
 "metadata": {
  "kernelspec": {
   "display_name": "Python 3 (ipykernel)",
   "language": "python",
   "name": "python3"
  },
  "language_info": {
   "codemirror_mode": {
    "name": "ipython",
    "version": 3
   },
   "file_extension": ".py",
   "mimetype": "text/x-python",
   "name": "python",
   "nbconvert_exporter": "python",
   "pygments_lexer": "ipython3",
   "version": "3.9.7"
  }
 },
 "nbformat": 4,
 "nbformat_minor": 5
}
